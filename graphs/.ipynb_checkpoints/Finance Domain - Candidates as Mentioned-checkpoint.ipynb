{
 "cells": [
  {
   "cell_type": "code",
   "execution_count": 1,
   "metadata": {
    "collapsed": true
   },
   "outputs": [],
   "source": [
    "import pandas as pd\n",
    "import numpy as np\n",
    "\n",
    "from numpy.linalg import norm\n",
    "\n",
    "import matplotlib.pyplot as plt\n",
    "%matplotlib inline"
   ]
  },
  {
   "cell_type": "markdown",
   "metadata": {},
   "source": [
    "Extract the different network (with different parametrizations) and use them to compute similarity between 1 single seed, a <b>fashion brand</b>, and the candidates, its <b>followers</b>."
   ]
  },
  {
   "cell_type": "code",
   "execution_count": 15,
   "metadata": {
    "collapsed": true
   },
   "outputs": [],
   "source": [
    "def candidatesRanking(candidates, seed, features):\n",
    "    seed_v = np.array(seed[features])\n",
    "    \n",
    "    output = pd.DataFrame()\n",
    "    output['distance'] = candidates.apply(lambda x: norm(np.array(x[features]) - seed_v), axis=1)\n",
    "    output['username'] = candidates['username']\n",
    "    output['similarity'] = output.apply(lambda x: 1/(1+x['distance']), axis=1)\n",
    "    output['link'] = output.apply(lambda x: 'www.instagram.com/'+x['username']+'/', axis=1)\n",
    "    \n",
    "    output.sort_values(by='similarity', ascending=False, inplace=True)\n",
    "    \n",
    "    return output[['username', 'similarity', 'link']]"
   ]
  },
  {
   "cell_type": "code",
   "execution_count": 18,
   "metadata": {
    "collapsed": true
   },
   "outputs": [],
   "source": [
    "seeds = ['emporiosirenuse', 'daftcollectionofficial'] #,'athenaprocopiou','?'"
   ]
  },
  {
   "cell_type": "code",
   "execution_count": 21,
   "metadata": {},
   "outputs": [
    {
     "name": "stdout",
     "output_type": "stream",
     "text": [
      "EMPORIOSIRENUSE\n",
      "Graph Type: Mention - community\n",
      "SEED:\n",
      "        id     content usertype        1         2         3        4\n",
      "1096  1096  2252447111     seed -1.01642 -0.624757 -0.897409 -1.30354\n",
      "            username  similarity\n",
      "1488      speronella    0.951180\n",
      "18    nicolonovarese    0.946387\n",
      "9        sgetiquette    0.913633\n",
      "1489  summerrobertss    0.885518\n",
      "245    villasolandra    0.879517\n",
      "Graph Type: Mention - roles\n",
      "SEED:\n",
      "        id     content usertype         1         2         3         4\n",
      "1096  1096  2252447111     seed  0.012651 -0.070971  0.027521 -0.148541\n"
     ]
    },
    {
     "name": "stderr",
     "output_type": "stream",
     "text": [
      "c:\\python27\\lib\\site-packages\\ipykernel_launcher.py:43: SettingWithCopyWarning: \n",
      "A value is trying to be set on a copy of a slice from a DataFrame.\n",
      "Try using .loc[row_indexer,col_indexer] = value instead\n",
      "\n",
      "See the caveats in the documentation: http://pandas.pydata.org/pandas-docs/stable/indexing.html#indexing-view-versus-copy\n"
     ]
    },
    {
     "name": "stdout",
     "output_type": "stream",
     "text": [
      "           username  similarity\n",
      "187    elizabethvdg    0.950835\n",
      "1179   fraaesposito    0.949422\n",
      "379     nurus.sabah    0.948498\n",
      "499   rachel_felson    0.945701\n",
      "1310    bepivalerio    0.943341\n",
      "Graph Type: Hashtag - community\n",
      "Not found\n",
      "SEED:\n",
      "      id     content usertype        1       2         3       4\n",
      "127  127  2252447111     seed  1.24798 -0.8559 -0.343738  2.4909\n",
      "                username  similarity\n",
      "516       viadeirufolo22    0.937065\n",
      "1256      mariapatrikios    0.908165\n",
      "778               ddferg    0.904245\n",
      "1241  lessisamorefirenze    0.902548\n",
      "26         serginopiazza    0.901756\n",
      "Graph Type: Hashtag - roles\n",
      "Not found\n",
      "SEED:\n",
      "      id     content usertype         1       2        3        4\n",
      "127  127  2252447111     seed -0.021631  1.2016  1.28453 -2.50124\n",
      "                 username  similarity\n",
      "879  caitlinflynnramsdale    0.832278\n",
      "178              kikuluci    0.816768\n",
      "106              gustiini    0.805615\n",
      "456            holycaftan    0.797110\n",
      "351             raraborse    0.796618\n",
      "DAFTCOLLECTIONOFFICIAL\n",
      "Graph Type: Mention - community\n",
      "SEED:\n",
      "        id     content usertype         1       2        3        4\n",
      "3465  3465  2091887150     seed -0.310129  0.5705 -1.43089 -1.76743\n",
      "            username  similarity\n",
      "669          h_ronen    0.946858\n",
      "379        edenbeing    0.927024\n",
      "589   winwoodfashion    0.906752\n",
      "624  eugeniaexplores    0.906673\n",
      "746    denimqueens77    0.901818\n",
      "Graph Type: Mention - roles\n",
      "SEED:\n",
      "        id     content usertype         1         2        3         4\n",
      "3465  3465  2091887150     seed -0.040186 -0.107197  0.12644  0.103832\n",
      "               username  similarity\n",
      "573     crystalswangirl    0.925709\n",
      "664           babyusesd    0.921546\n",
      "1610      angelique7534    0.921459\n",
      "1793      elverddesigns    0.918269\n",
      "689   kgomotso_kodisang    0.916422\n",
      "Graph Type: Hashtag - community\n",
      "Not found\n",
      "SEED:\n",
      "      id     content usertype         1         2         3        4\n",
      "305  305  2091887150     seed  0.136615  0.415916  0.762719  2.29561\n",
      "               username  similarity\n",
      "1360  stellina_del_mare    0.961559\n",
      "1944        laura_salve    0.960302\n",
      "932             __b_e_a    0.957450\n",
      "725        annalisatuci    0.954714\n",
      "254    luigi_tamburrino    0.950780\n",
      "Graph Type: Hashtag - roles\n",
      "Not found\n",
      "SEED:\n",
      "      id     content usertype         1         2         3        4\n",
      "305  305  2091887150     seed -0.947836  0.658186  0.805756 -2.13377\n",
      "                  username  similarity\n",
      "1857           finchgold97    0.960906\n",
      "471        boutique_pamela    0.953082\n",
      "501     zuzannagbrandstore    0.939388\n",
      "551   cloandthingsofficial    0.927981\n",
      "943          mattiadilullo    0.927146\n"
     ]
    }
   ],
   "source": [
    "header = ['1','2','3','4']\n",
    "label = {'m': 'Mention', 'h': 'Hashtag'}\n",
    "for s in seeds:\n",
    "    \n",
    "    print s.upper()\n",
    "    \n",
    "    path = '1-seed/{}/'.format(s)\n",
    "    validation = pd.DataFrame()\n",
    "    for graphtype in ['m','h']:\n",
    "        userdata = pd.read_csv(path+'{}_reduced_nodes.csv'.format(graphtype), sep='\\t') # match graph id and user instance\n",
    "        # candidates == followers\n",
    "        if graphtype == 'm':\n",
    "            followers = pd.read_csv('data-followers/{}/user.csv'.format(s), sep='\\t', dtype=object)\n",
    "        elif graphtype == 'h':\n",
    "            followers = pd.read_csv('data-followers/{}/user.csv'.format(s), sep='\\t')\n",
    "            \n",
    "        for detection in ['community', 'roles']:\n",
    "            print 'Graph Type: {} - {}'.format(label[graphtype], detection)\n",
    "            data = pd.read_csv(path+'user_features_{}_{}.emb'.format(detection, graphtype), sep=' ', header=None, skiprows=1)\n",
    "            \n",
    "            data = userdata.merge(data, left_on='id', right_on=0)\n",
    "            data.drop(0, inplace=True, axis=1)\n",
    "            try:\n",
    "                data.drop('username', inplace=True, axis=1)\n",
    "            except:\n",
    "                print 'Not found'\n",
    "            \n",
    "            seed = data[data['usertype'] == 'seed']\n",
    "            print 'SEED:\\n{}'.format(seed)\n",
    "            seed.columns = ['id_graph','id_user','usertype']+header\n",
    "\n",
    "            data = data.merge(followers, left_on='content', right_on='id_user')\n",
    "            data.drop(['content','biography','profile_pic_url'], inplace=True, axis=1)\n",
    "\n",
    "            data.columns = ['id_graph','usertype']+header+['followers_count','following_count','id_user',\n",
    "                                                           'isPrivate','num_posts','username']\n",
    "    \n",
    "            r = candidatesRanking(data, seed, header)\n",
    "            print r[['username','similarity']][:5]\n",
    "            r.to_csv(path+'rankings/ranking_{}_{}.csv'.format(detection, graphtype), index=None)\n",
    "            \n",
    "            tovalidate = r[:10]\n",
    "            tovalidate['source'] = '{}{}'.format(graphtype, detection[0])\n",
    "            validation = pd.concat([validation, tovalidate])\n",
    "    validation['validation'] = 0\n",
    "    validation.to_csv(path+'validation.csv', index=None)"
   ]
  },
  {
   "cell_type": "code",
   "execution_count": null,
   "metadata": {
    "collapsed": true
   },
   "outputs": [],
   "source": []
  }
 ],
 "metadata": {
  "kernelspec": {
   "display_name": "Python 2",
   "language": "python",
   "name": "python2"
  },
  "language_info": {
   "codemirror_mode": {
    "name": "ipython",
    "version": 2
   },
   "file_extension": ".py",
   "mimetype": "text/x-python",
   "name": "python",
   "nbconvert_exporter": "python",
   "pygments_lexer": "ipython2",
   "version": "2.7.13"
  }
 },
 "nbformat": 4,
 "nbformat_minor": 2
}
