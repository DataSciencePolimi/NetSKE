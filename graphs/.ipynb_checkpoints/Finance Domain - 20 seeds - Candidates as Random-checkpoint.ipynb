{
 "cells": [
  {
   "cell_type": "code",
   "execution_count": 1,
   "metadata": {
    "collapsed": true
   },
   "outputs": [],
   "source": [
    "import pandas as pd\n",
    "import numpy as np\n",
    "\n",
    "from numpy.linalg import norm\n",
    "from sklearn.decomposition import PCA\n",
    "\n",
    "import itertools\n",
    "\n",
    "import matplotlib.pyplot as plt\n",
    "%matplotlib inline"
   ]
  },
  {
   "cell_type": "code",
   "execution_count": 15,
   "metadata": {},
   "outputs": [
    {
     "data": {
      "application/javascript": [
       "require(\n",
       "        [\"notebook/js/outputarea\"],\n",
       "        function (oa) {\n",
       "            oa.OutputArea.auto_scroll_threshold = -1;\n",
       "            console.log(\"Setting auto_scroll_threshold to -1\");\n",
       "        });"
      ],
      "text/plain": [
       "<IPython.core.display.Javascript object>"
      ]
     },
     "metadata": {},
     "output_type": "display_data"
    }
   ],
   "source": [
    "%%javascript\n",
    "require(\n",
    "        [\"notebook/js/outputarea\"],\n",
    "        function (oa) {\n",
    "            oa.OutputArea.auto_scroll_threshold = -1;\n",
    "            console.log(\"Setting auto_scroll_threshold to -1\");\n",
    "        });"
   ]
  },
  {
   "cell_type": "markdown",
   "metadata": {},
   "source": [
    "Extract the different network (with different parametrizations) and use them to compute similarity between 10 seeds in the <b>finance domain</b> and <b>random users</b>."
   ]
  },
  {
   "cell_type": "markdown",
   "metadata": {},
   "source": [
    "The idea is to keep part of the seeds as seeds and the other part as good candidates, while all the random users are bad candidates. In this way it is possible to assess automatically the goodness of the method, because the groundtruth is already validated."
   ]
  },
  {
   "cell_type": "markdown",
   "metadata": {},
   "source": [
    "Steps to follow:\n",
    "1. Split seeds in candidates and effective seeds\n",
    "2. Compute centroid with effective seeds\n",
    "3. Rank random users and candidates with respect to the centroid\n",
    "4. Compute precision@K for each set of embeddings (hashtags, mentions, complete, nouns) --> plot\n",
    "5. Evaluate what is the best type of network for embeddings generation\n",
    "6. Compare the precision with respect to the fingerprint method\n",
    "7. Iterate with different splits of seeds/candidates"
   ]
  },
  {
   "cell_type": "markdown",
   "metadata": {},
   "source": [
    "NB: Define a function to plot the embeddings, the good candidates, the seeds, the centroids and the random users but do not produce all the possible plots (because there are many combinations of embeddings and splits of candidates/seeds)"
   ]
  },
  {
   "cell_type": "code",
   "execution_count": 2,
   "metadata": {
    "collapsed": true
   },
   "outputs": [],
   "source": [
    "# ranking is based on distance similarity\n",
    "def candidatesRanking(candidates, centroid, features):\n",
    "    #centroid_v = np.array(centroid[features])\n",
    "    \n",
    "    output = pd.DataFrame()\n",
    "    output['distance'] = candidates.apply(lambda x: norm(np.array(x[features]) - centroid), axis=1)\n",
    "    output['username'] = candidates['username']\n",
    "    output['id_user'] = candidates['id_user']\n",
    "    output['similarity'] = output.apply(lambda x: 1/(1+x['distance']), axis=1)\n",
    "    #output['link'] = output.apply(lambda x: 'www.twitter.com/'+x['username']+'/', axis=1)\n",
    "    \n",
    "    output.sort_values(by='similarity', ascending=False, inplace=True)\n",
    "    \n",
    "    return output"
   ]
  },
  {
   "cell_type": "code",
   "execution_count": 3,
   "metadata": {
    "collapsed": true
   },
   "outputs": [],
   "source": [
    "def computeCentroid(seeds, normheader):\n",
    "    arrays = [np.array(x[normheader]) for index, x in seeds.iterrows()]\n",
    "    \n",
    "    return np.sum(arrays, axis=0)/seeds.shape[0]"
   ]
  },
  {
   "cell_type": "code",
   "execution_count": 47,
   "metadata": {
    "collapsed": true
   },
   "outputs": [],
   "source": [
    "def cumulativeGoodCandidates(ranking):\n",
    "    cumulative = []\n",
    "    n_good_candidates = 0\n",
    "    \n",
    "    for index, ranked_user in ranking.iterrows():\n",
    "        if ranked_user['good'] == True:\n",
    "            n_good_candidates = n_good_candidates + 1\n",
    "        cumulative.append(n_good_candidates)\n",
    "        \n",
    "    return np.array(cumulative)"
   ]
  },
  {
   "cell_type": "code",
   "execution_count": 64,
   "metadata": {
    "collapsed": true
   },
   "outputs": [],
   "source": [
    "def plotData(seeds, candidates):\n",
    "    plt.figure(figsize=(12,12))\n",
    "    plt.scatter(candidates['pca0'], candidates['pca1'], marker='.', s=40, lw=0, alpha=0.7)\n",
    "    plt.scatter(seeds['pca0'], seeds['pca1'], marker='x', color='red')"
   ]
  },
  {
   "cell_type": "code",
   "execution_count": 6,
   "metadata": {
    "collapsed": true
   },
   "outputs": [],
   "source": [
    "header = ['1','2','3','4']\n",
    "pcaheader = ['pca0', 'pca1']"
   ]
  },
  {
   "cell_type": "code",
   "execution_count": 7,
   "metadata": {
    "collapsed": true
   },
   "outputs": [],
   "source": [
    "domain = 'finance'\n",
    "path = '{}/random-test/'.format(domain)\n",
    "datapath = 'data-seed/{}/'.format(domain)\n",
    "randompath = 'data-random/'"
   ]
  },
  {
   "cell_type": "markdown",
   "metadata": {},
   "source": [
    "Compute the precision at K for each combination of 2 seeds and 8 good candidates"
   ]
  },
  {
   "cell_type": "code",
   "execution_count": 8,
   "metadata": {
    "collapsed": true
   },
   "outputs": [],
   "source": [
    "pca = PCA(n_components=2)"
   ]
  },
  {
   "cell_type": "code",
   "execution_count": 42,
   "metadata": {},
   "outputs": [],
   "source": [
    "allseeds = list(pd.read_csv(datapath+'/user.csv', sep='\\t')['id_user'])"
   ]
  },
  {
   "cell_type": "code",
   "execution_count": 11,
   "metadata": {},
   "outputs": [],
   "source": [
    "# data preparation\n",
    "userdata = pd.read_csv(path+'h_reduced_nodes.csv', sep='\\t') # match graph id and user instance\n",
    "data = pd.read_csv(path+'user_features_community_h.emb', sep=' ', header=None, skiprows=1)\n",
    "data = userdata.merge(data, left_on='id', right_on=0)\n",
    "data.drop(0, inplace=True, axis=1)\n",
    "data.columns = ['id_graph','username','id_user','usertype','1','2','3','4']\n",
    "\n",
    "X = pd.DataFrame(pca.fit_transform(data[header]))\n",
    "X.columns = pcaheader\n",
    "\n",
    "data = pd.concat([data, X], axis=1)"
   ]
  },
  {
   "cell_type": "code",
   "execution_count": 61,
   "metadata": {},
   "outputs": [
    {
     "data": {
      "text/plain": [
       "(1, 662.54999999999995)"
      ]
     },
     "execution_count": 61,
     "metadata": {},
     "output_type": "execute_result"
    },
    {
     "data": {
      "image/png": "[encoded data removed]",
      "text/plain": [
       "<matplotlib.figure.Figure at 0x25de0a20>"
      ]
     },
     "metadata": {},
     "output_type": "display_data"
    }
   ],
   "source": [
    "N = 5 # N = range(2, allseeds.shape[0]/2+1)\n",
    "plt.figure(figsize=(14,8))\n",
    "plt.title('Cumulative good candidates for hashtags network - 2 seeds')\n",
    "plt.ylabel('#good candidates')\n",
    "plt.xlabel('ranking position')\n",
    "\n",
    "ysum = np.zeros(data.shape[0] - N)\n",
    "combinations = 0\n",
    "for seeds in list(itertools.combinations(allseeds, N)):\n",
    "    effective_seeds = list(seeds)\n",
    "    good_candidates = list(set(allseeds)-(set(effective_seeds)))\n",
    "    \n",
    "    seedsVectors = data[data['id_user'].isin(effective_seeds)]\n",
    "    centroid = computeCentroid(seedsVectors, pcaheader)\n",
    "    candidates = data[~data['id_user'].isin(effective_seeds)]\n",
    "    \n",
    "    if candidates.shape[0] == (data.shape[0] - N):\n",
    "        # plot embeddings of different categories of data\n",
    "        #plotData(seedsVectors, candidates[candidates['id_user'].isin(good_candidates)],\n",
    "        #     candidates[~candidates['id_user'].isin(good_candidates)], centroid)\n",
    "\n",
    "        r = candidatesRanking(candidates, centroid, pcaheader)\n",
    "\n",
    "        # save complete ranking for further inspections, if needed\n",
    "        #r.to_csv(path+'rankings/ranking_{}_{}.csv'.format(detection, graphtype[0]), index=None)\n",
    "\n",
    "        #compute P@K for each ranking\n",
    "        r['good'] = r.apply(lambda x: True if x['id_user'] in good_candidates else False, axis=1)\n",
    "        y = cumulativeGoodCandidates(r)\n",
    "        ysum = ysum + y\n",
    "        \n",
    "        combinations = combinations + 1\n",
    "plt.plot(ysum.astype(float)/combinations)\n",
    "plt.xlim(xmin=1)"
   ]
  },
  {
   "cell_type": "code",
   "execution_count": 65,
   "metadata": {},
   "outputs": [
    {
     "data": {
      "image/png": "[encoded data removed]",
      "text/plain": [
       "<matplotlib.figure.Figure at 0x25ac67b8>"
      ]
     },
     "metadata": {},
     "output_type": "display_data"
    }
   ],
   "source": [
    "plotData(data[data['id_user'].isin(allseeds)], data[~data['id_user'].isin(allseeds)])"
   ]
  },
  {
   "cell_type": "code",
   "execution_count": null,
   "metadata": {
    "collapsed": true
   },
   "outputs": [],
   "source": []
  }
 ],
 "metadata": {
  "kernelspec": {
   "display_name": "Python 2",
   "language": "python",
   "name": "python2"
  },
  "language_info": {
   "codemirror_mode": {
    "name": "ipython",
    "version": 2
   },
   "file_extension": ".py",
   "mimetype": "text/x-python",
   "name": "python",
   "nbconvert_exporter": "python",
   "pygments_lexer": "ipython2",
   "version": "2.7.13"
  }
 },
 "nbformat": 4,
 "nbformat_minor": 2
}
