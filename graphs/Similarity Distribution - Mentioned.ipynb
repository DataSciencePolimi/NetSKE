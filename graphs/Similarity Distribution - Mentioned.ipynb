{
 "cells": [
  {
   "cell_type": "code",
   "execution_count": 1,
   "metadata": {
    "collapsed": true
   },
   "outputs": [],
   "source": [
    "import pandas as pd\n",
    "import numpy as np\n",
    "import matplotlib.pyplot as plt\n",
    "\n",
    "import os\n",
    "\n",
    "%matplotlib inline"
   ]
  },
  {
   "cell_type": "code",
   "execution_count": 2,
   "metadata": {
    "collapsed": true
   },
   "outputs": [],
   "source": [
    "domain = 'finance'\n",
    "path = '{}/rankings/'.format(domain)"
   ]
  },
  {
   "cell_type": "markdown",
   "metadata": {},
   "source": [
    "Test to analyse the similarity distribution among the different rankings obtained"
   ]
  },
  {
   "cell_type": "code",
   "execution_count": 5,
   "metadata": {},
   "outputs": [
    {
     "data": {
      "text/html": [
       "<div>\n",
       "<style>\n",
       "    .dataframe thead tr:only-child th {\n",
       "        text-align: right;\n",
       "    }\n",
       "\n",
       "    .dataframe thead th {\n",
       "        text-align: left;\n",
       "    }\n",
       "\n",
       "    .dataframe tbody tr th {\n",
       "        vertical-align: top;\n",
       "    }\n",
       "</style>\n",
       "<table border=\"1\" class=\"dataframe\">\n",
       "  <thead>\n",
       "    <tr style=\"text-align: right;\">\n",
       "      <th></th>\n",
       "      <th>username</th>\n",
       "      <th>similarity</th>\n",
       "    </tr>\n",
       "  </thead>\n",
       "  <tbody>\n",
       "    <tr>\n",
       "      <th>0</th>\n",
       "      <td>michaelpachter</td>\n",
       "      <td>0.990045</td>\n",
       "    </tr>\n",
       "    <tr>\n",
       "      <th>1</th>\n",
       "      <td>nicolas_veron</td>\n",
       "      <td>0.989152</td>\n",
       "    </tr>\n",
       "    <tr>\n",
       "      <th>2</th>\n",
       "      <td>epicgames</td>\n",
       "      <td>0.988821</td>\n",
       "    </tr>\n",
       "    <tr>\n",
       "      <th>3</th>\n",
       "      <td>fbonacci</td>\n",
       "      <td>0.988299</td>\n",
       "    </tr>\n",
       "    <tr>\n",
       "      <th>4</th>\n",
       "      <td>odtorson</td>\n",
       "      <td>0.986788</td>\n",
       "    </tr>\n",
       "  </tbody>\n",
       "</table>\n",
       "</div>"
      ],
      "text/plain": [
       "         username  similarity\n",
       "0  michaelpachter    0.990045\n",
       "1   nicolas_veron    0.989152\n",
       "2       epicgames    0.988821\n",
       "3        fbonacci    0.988299\n",
       "4        odtorson    0.986788"
      ]
     },
     "execution_count": 5,
     "metadata": {},
     "output_type": "execute_result"
    }
   ],
   "source": [
    "distr_1 = pd.read_csv(path+'ranking_community_h.csv')\n",
    "distr_1.head()"
   ]
  },
  {
   "cell_type": "code",
   "execution_count": 8,
   "metadata": {
    "collapsed": true
   },
   "outputs": [],
   "source": [
    "distr_1['truncated'] = distr_1.apply(lambda x: float('%.3f'%(x['similarity'])), axis=1)"
   ]
  },
  {
   "cell_type": "code",
   "execution_count": 9,
   "metadata": {},
   "outputs": [
    {
     "data": {
      "text/html": [
       "<div>\n",
       "<style>\n",
       "    .dataframe thead tr:only-child th {\n",
       "        text-align: right;\n",
       "    }\n",
       "\n",
       "    .dataframe thead th {\n",
       "        text-align: left;\n",
       "    }\n",
       "\n",
       "    .dataframe tbody tr th {\n",
       "        vertical-align: top;\n",
       "    }\n",
       "</style>\n",
       "<table border=\"1\" class=\"dataframe\">\n",
       "  <thead>\n",
       "    <tr style=\"text-align: right;\">\n",
       "      <th></th>\n",
       "      <th>username</th>\n",
       "      <th>similarity</th>\n",
       "      <th>truncated</th>\n",
       "    </tr>\n",
       "  </thead>\n",
       "  <tbody>\n",
       "    <tr>\n",
       "      <th>0</th>\n",
       "      <td>michaelpachter</td>\n",
       "      <td>0.990045</td>\n",
       "      <td>0.990</td>\n",
       "    </tr>\n",
       "    <tr>\n",
       "      <th>1</th>\n",
       "      <td>nicolas_veron</td>\n",
       "      <td>0.989152</td>\n",
       "      <td>0.989</td>\n",
       "    </tr>\n",
       "    <tr>\n",
       "      <th>2</th>\n",
       "      <td>epicgames</td>\n",
       "      <td>0.988821</td>\n",
       "      <td>0.989</td>\n",
       "    </tr>\n",
       "    <tr>\n",
       "      <th>3</th>\n",
       "      <td>fbonacci</td>\n",
       "      <td>0.988299</td>\n",
       "      <td>0.988</td>\n",
       "    </tr>\n",
       "    <tr>\n",
       "      <th>4</th>\n",
       "      <td>odtorson</td>\n",
       "      <td>0.986788</td>\n",
       "      <td>0.987</td>\n",
       "    </tr>\n",
       "  </tbody>\n",
       "</table>\n",
       "</div>"
      ],
      "text/plain": [
       "         username  similarity  truncated\n",
       "0  michaelpachter    0.990045      0.990\n",
       "1   nicolas_veron    0.989152      0.989\n",
       "2       epicgames    0.988821      0.989\n",
       "3        fbonacci    0.988299      0.988\n",
       "4        odtorson    0.986788      0.987"
      ]
     },
     "execution_count": 9,
     "metadata": {},
     "output_type": "execute_result"
    }
   ],
   "source": [
    "distr_1.head()"
   ]
  },
  {
   "cell_type": "code",
   "execution_count": 14,
   "metadata": {
    "collapsed": true
   },
   "outputs": [],
   "source": [
    "y = distr_1.groupby(by='truncated').count().reset_index()[['truncated','similarity']]\n",
    "y.columns = ['sim','freq']\n",
    "y.sort_values(by='sim', inplace=True)"
   ]
  },
  {
   "cell_type": "code",
   "execution_count": 26,
   "metadata": {},
   "outputs": [
    {
     "data": {
      "text/plain": [
       "[0.74199999999999999,\n",
       " 0.83599999999999997,\n",
       " 0.89400000000000002,\n",
       " 0.92400000000000004,\n",
       " 0.98999999999999999]"
      ]
     },
     "execution_count": 26,
     "metadata": {},
     "output_type": "execute_result"
    }
   ],
   "source": [
    "labeled_pos = [0, 50, 100, 130, y.shape[0]-1]\n",
    "label_ticks = list(y.iloc[labeled_pos]['sim'])\n",
    "label_ticks"
   ]
  },
  {
   "cell_type": "code",
   "execution_count": 28,
   "metadata": {},
   "outputs": [
    {
     "data": {
      "text/plain": [
       "([<matplotlib.axis.XTick at 0x1235af28>,\n",
       "  <matplotlib.axis.XTick at 0x117a70f0>,\n",
       "  <matplotlib.axis.XTick at 0x1238b9b0>,\n",
       "  <matplotlib.axis.XTick at 0x11bbb208>,\n",
       "  <matplotlib.axis.XTick at 0x11bbbcf8>],\n",
       " <a list of 5 Text xticklabel objects>)"
      ]
     },
     "execution_count": 28,
     "metadata": {},
     "output_type": "execute_result"
    },
    {
     "data": {
      "image/png": "[encoded data removed]",
      "text/plain": [
       "<matplotlib.figure.Figure at 0x10fdf400>"
      ]
     },
     "metadata": {},
     "output_type": "display_data"
    }
   ],
   "source": [
    "x = range(y.shape[0])\n",
    "bar_width = 0.8\n",
    "\n",
    "plt.figure(figsize=(14,10))\n",
    "plt.bar(x, y['freq'],bar_width)\n",
    "plt.xticks(labeled_pos, label_ticks)\n",
    "#plt.tick_params(labelsize=8)"
   ]
  },
  {
   "cell_type": "markdown",
   "metadata": {},
   "source": [
    "Define a function and apply to all the rankings to check if they are similar or not"
   ]
  },
  {
   "cell_type": "code",
   "execution_count": 11,
   "metadata": {
    "collapsed": true
   },
   "outputs": [],
   "source": [
    "def computeSimDistribution(ranking, float_prec, title):\n",
    "    prec_str = '%.{}f'.format(float_prec)\n",
    "    ranking['truncated'] = ranking.apply(lambda x: float(prec_str%(x['similarity'])), axis=1)\n",
    "    \n",
    "    y = ranking.groupby(by='truncated').count().reset_index()[['truncated','similarity']]\n",
    "    y.columns = ['sim','freq']\n",
    "    y.sort_values(by='sim', inplace=True)\n",
    "    N = y.shape[0]-1\n",
    "    \n",
    "    labeled_pos = [0, N/4, N/2, 3*N/4, N]\n",
    "    label_ticks = list(y.iloc[labeled_pos]['sim'])\n",
    "    \n",
    "    x = range(y.shape[0])\n",
    "    bar_width = 0.8\n",
    "\n",
    "    plt.figure(figsize=(14,10))\n",
    "    plt.title(title)\n",
    "    plt.bar(x, y['freq'],bar_width)\n",
    "    plt.xticks(labeled_pos, label_ticks)\n",
    "    \n",
    "    mu = np.mean(y['freq'])\n",
    "    sigma = np.std(y['freq'])\n",
    "   \n",
    "    print mu, sigma"
   ]
  },
  {
   "cell_type": "code",
   "execution_count": 12,
   "metadata": {},
   "outputs": [
    {
     "name": "stdout",
     "output_type": "stream",
     "text": [
      "30.3076923077 25.8200417547\n",
      "39.7826086957 32.3526176909\n",
      "39.1176470588 28.3297439887\n",
      "21.5476190476 29.2030676642\n",
      "25.4193548387 17.4370280716\n",
      "24.7297297297 20.955098262\n"
     ]
    },
    {
     "data": {
      "image/png": "[encoded data removed]",
      "text/plain": [
       "<matplotlib.figure.Figure at 0x42bc390>"
      ]
     },
     "metadata": {},
     "output_type": "display_data"
    },
    {
     "data": {
      "image/png": "[encoded data removed]",
      "text/plain": [
       "<matplotlib.figure.Figure at 0xd476710>"
      ]
     },
     "metadata": {},
     "output_type": "display_data"
    },
    {
     "data": {
      "image/png": "[encoded data removed]",
      "text/plain": [
       "<matplotlib.figure.Figure at 0xddf9c88>"
      ]
     },
     "metadata": {},
     "output_type": "display_data"
    },
    {
     "data": {
      "image/png": "[encoded data removed]",
      "text/plain": [
       "<matplotlib.figure.Figure at 0xcc8b940>"
      ]
     },
     "metadata": {},
     "output_type": "display_data"
    },
    {
     "data": {
      "image/png": "[encoded data removed]",
      "text/plain": [
       "<matplotlib.figure.Figure at 0xc780e10>"
      ]
     },
     "metadata": {},
     "output_type": "display_data"
    },
    {
     "data": {
      "image/png": "[encoded data removed]",
      "text/plain": [
       "<matplotlib.figure.Figure at 0xc7d8f28>"
      ]
     },
     "metadata": {},
     "output_type": "display_data"
    }
   ],
   "source": [
    "for f in os.listdir(path):\n",
    "    r = pd.read_csv(path+f)\n",
    "    computeSimDistribution(r, 2, f)"
   ]
  },
  {
   "cell_type": "code",
   "execution_count": null,
   "metadata": {
    "collapsed": true
   },
   "outputs": [],
   "source": []
  }
 ],
 "metadata": {
  "kernelspec": {
   "display_name": "Python 2",
   "language": "python",
   "name": "python2"
  },
  "language_info": {
   "codemirror_mode": {
    "name": "ipython",
    "version": 2
   },
   "file_extension": ".py",
   "mimetype": "text/x-python",
   "name": "python",
   "nbconvert_exporter": "python",
   "pygments_lexer": "ipython2",
   "version": "2.7.13"
  }
 },
 "nbformat": 4,
 "nbformat_minor": 2
}
