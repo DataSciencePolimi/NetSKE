{
 "cells": [
  {
   "cell_type": "code",
   "execution_count": 39,
   "metadata": {},
   "outputs": [],
   "source": [
    "import snap\n",
    "import pandas as pd\n",
    "import numpy as np\n",
    "\n",
    "import pickle\n",
    "\n",
    "import matplotlib.pyplot as plt\n",
    "\n",
    "%matplotlib inline"
   ]
  },
  {
   "cell_type": "markdown",
   "metadata": {},
   "source": [
    "Classical analysis to quantitatively describe the social networks, built using specific relationships.\n",
    "\n",
    "Metrics to be considered for each network:\n",
    "- #nodes, #edges\n",
    "- average degree, indegree, outdegree\n",
    "- node centrality (?, intensive)\n",
    "- <b> modularity </b> (average and between finance community and the rest, to verify if it is effectively a module)\n",
    "- clustering coefficient\n",
    "- isConnected, connected components"
   ]
  },
  {
   "cell_type": "markdown",
   "metadata": {},
   "source": [
    "NB: default script to be used as basic metrics analysis of any network"
   ]
  },
  {
   "cell_type": "code",
   "execution_count": 19,
   "metadata": {},
   "outputs": [],
   "source": [
    "def autolabel(rects):\n",
    "    \"\"\"\n",
    "    Attach a text label above each bar displaying its height\n",
    "    \"\"\"\n",
    "    for rect in rects:\n",
    "        height = rect.get_height()\n",
    "        plt.text(rect.get_x() + rect.get_width()/2., 1.05*height,\n",
    "                '%d' % int(height), rotation=45,\n",
    "                ha='center', va='bottom')"
   ]
  },
  {
   "cell_type": "markdown",
   "metadata": {},
   "source": [
    "## Following Network"
   ]
  },
  {
   "cell_type": "code",
   "execution_count": 54,
   "metadata": {},
   "outputs": [],
   "source": [
    "path = 'finance_20/random-test/test-network-features/'\n",
    "networkname = 'social_network_1_following'\n",
    "network = snap.LoadEdgeListNet(path+networkname+'.csv', '\\t')"
   ]
  },
  {
   "cell_type": "code",
   "execution_count": 3,
   "metadata": {},
   "outputs": [
    {
     "name": "stdout",
     "output_type": "stream",
     "text": [
      "|V| = 87857\n",
      "|E| = 114282\n",
      "Connected Network: False\n"
     ]
    }
   ],
   "source": [
    "print '|V| = {}'.format(network.GetNodes())\n",
    "print '|E| = {}'.format(network.GetEdges())\n",
    "print 'Connected Network: {}'.format(snap.IsConnected(network))"
   ]
  },
  {
   "cell_type": "code",
   "execution_count": 36,
   "metadata": {},
   "outputs": [
    {
     "name": "stdout",
     "output_type": "stream",
     "text": [
      "Weakly Connected Component Distribution\n",
      "#nodes in component: 2 - #components: 7\n",
      "#nodes in component: 4 - #components: 2\n",
      "#nodes in component: 5 - #components: 2\n",
      "#nodes in component: 7 - #components: 1\n",
      "#nodes in component: 12 - #components: 1\n",
      "#nodes in component: 23 - #components: 1\n",
      "#nodes in component: 27 - #components: 1\n",
      "#nodes in component: 51 - #components: 1\n",
      "#nodes in component: 87705 - #components: 1\n"
     ]
    }
   ],
   "source": [
    "# a WEAKLY connected component is a subgraph where each node is reachable by an UNDIRECTED PATH, starting from each other\n",
    "# node in the component (undirected cycle present)\n",
    "# the property is verified treating the graph as undirected (even if it is directed)\n",
    "ComponentDist = snap.TIntPrV()\n",
    "snap.GetWccSzCnt(network, ComponentDist)\n",
    "print \"Weakly Connected Component Distribution\"\n",
    "for comp in ComponentDist:\n",
    "    print \"#nodes in component: %d - #components: %d\" % (comp.GetVal1(), comp.GetVal2())"
   ]
  },
  {
   "cell_type": "code",
   "execution_count": 37,
   "metadata": {},
   "outputs": [
    {
     "name": "stdout",
     "output_type": "stream",
     "text": [
      "Strongly Connected Component Distribution\n",
      "#nodes in component: 1 - #components: 87805\n",
      "#nodes in component: 2 - #components: 2\n",
      "#nodes in component: 48 - #components: 1\n"
     ]
    }
   ],
   "source": [
    "# a STRONGLY connected component is a subgraph where each node is reachable by a DIRECTED PATH, starting from each other\n",
    "# node in the component (directed cycle present)\n",
    "ComponentDist = snap.TIntPrV()\n",
    "snap.GetSccSzCnt(network, ComponentDist)\n",
    "print \"Strongly Connected Component Distribution\"\n",
    "for comp in ComponentDist:\n",
    "    print \"#nodes in component: %d - #components: %d\" % (comp.GetVal1(), comp.GetVal2())"
   ]
  },
  {
   "cell_type": "code",
   "execution_count": 12,
   "metadata": {},
   "outputs": [],
   "source": [
    "indeg = []\n",
    "count = []\n",
    "indeg_distribution = snap.TIntPrV()\n",
    "snap.GetInDegCnt(network, indeg_distribution)\n",
    "for item in indeg_distribution:\n",
    "    indeg.append(item.GetVal1())\n",
    "    count.append(item.GetVal2())"
   ]
  },
  {
   "cell_type": "code",
   "execution_count": 21,
   "metadata": {},
   "outputs": [
    {
     "data": {
      "image/png": "[encoded data removed]",
      "text/plain": [
       "<Figure size 1296x720 with 1 Axes>"
      ]
     },
     "metadata": {},
     "output_type": "display_data"
    }
   ],
   "source": [
    "# indegree represents the number of incoming following relationships for each node: most of them have 1 as in-degree, \n",
    "# meaning that they are the following of 1 single user (leaves), other are shared across multiple users\n",
    "# 0 in-degree are some of the target users from which we started the collection (the seeds and the random users), that \n",
    "# do not appear in any following list\n",
    "\n",
    "plt.figure(figsize=(18,10))\n",
    "bars = plt.bar(indeg, count)\n",
    "plt.title('In-degree Distribution')\n",
    "plt.xticks(indeg)\n",
    "autolabel(bars)"
   ]
  },
  {
   "cell_type": "code",
   "execution_count": 22,
   "metadata": {},
   "outputs": [],
   "source": [
    "# outdegree represents the dimension on following list for each user\n",
    "# outdegree == 0 are the leaves users, for which we do not have a following list\n",
    "# outdegree is extremely variated, as most users have a different number of followings\n",
    "outdeg = []\n",
    "count = []\n",
    "outdeg_distribution = snap.TIntPrV()\n",
    "snap.GetOutDegCnt(network, outdeg_distribution)\n",
    "for item in outdeg_distribution:\n",
    "    outdeg.append(item.GetVal1())\n",
    "    count.append(item.GetVal2())"
   ]
  },
  {
   "cell_type": "code",
   "execution_count": 34,
   "metadata": {},
   "outputs": [
    {
     "name": "stdout",
     "output_type": "stream",
     "text": [
      "Out-degrees: [0, 1, 2, 3, 4, 6, 8, 9, 10, 11, 13, 15, 16, 17, 18, 19, 20, 21, 22, 24, 26, 31, 33, 34, 35, 36, 41, 43, 46, 50, 54, 63, 65, 71, 74, 80, 81, 82, 83, 85, 93, 96, 99, 103, 108, 117, 120, 131, 136, 141, 142, 149, 150, 153, 156, 160, 169, 173, 179, 184, 186, 191, 209, 210, 219, 222, 238, 244, 249, 251, 274, 286, 288, 319, 325, 343, 345, 351, 372, 379, 400, 407, 421, 427, 455, 458, 485, 496, 497, 508, 534, 585, 597, 653, 666, 675, 685, 711, 732, 754, 756, 778, 817, 861, 869, 876, 886, 904, 908, 971, 984, 1010, 1064, 1107, 1116, 1120, 1140, 1254, 1297, 1429, 1508, 1511, 1538, 1655, 1692, 1994, 2104, 2167, 2442, 2510, 2629, 2883, 3259, 3408, 3554, 3595, 3970, 5144, 5859, 6847, 11485]\n",
      "Frequency [87688, 8, 1, 2, 3, 4, 1, 2, 1, 3, 1, 2, 2, 1, 1, 2, 2, 3, 1, 2, 2, 2, 1, 1, 1, 1, 1, 1, 1, 2, 1, 1, 1, 1, 1, 1, 1, 1, 1, 1, 1, 1, 1, 1, 1, 1, 1, 1, 1, 1, 1, 1, 2, 2, 1, 1, 1, 1, 1, 1, 1, 1, 1, 1, 1, 1, 1, 1, 1, 1, 1, 1, 1, 1, 1, 1, 1, 1, 1, 1, 1, 1, 1, 1, 1, 1, 1, 1, 1, 1, 1, 1, 1, 1, 1, 1, 1, 1, 1, 1, 1, 1, 1, 1, 1, 1, 1, 1, 1, 1, 1, 2, 1, 1, 1, 1, 1, 1, 1, 1, 1, 1, 1, 1, 1, 1, 1, 1, 1, 1, 1, 1, 1, 1, 1, 1, 1, 1, 1, 1, 1]\n"
     ]
    }
   ],
   "source": [
    "print 'Out-degrees: {}'.format(outdeg)\n",
    "print 'Frequency {}'.format(count)"
   ]
  },
  {
   "cell_type": "code",
   "execution_count": 38,
   "metadata": {},
   "outputs": [
    {
     "name": "stdout",
     "output_type": "stream",
     "text": [
      "Clustering Coefficient: 0.018970\n"
     ]
    }
   ],
   "source": [
    "# clustering coefficient is a measure of the tendency of the graph to create tight connections\n",
    "# a triplet is three nodes that are connected by either two (open triplet) or three (closed triplet) undirected ties\n",
    "# the clustering coefficient is the ratio between the closed triplets and all the triplets\n",
    "\n",
    "print 'Clustering Coefficient: %f' % snap.GetClustCf (network, -1)"
   ]
  },
  {
   "cell_type": "code",
   "execution_count": 43,
   "metadata": {},
   "outputs": [
    {
     "name": "stdout",
     "output_type": "stream",
     "text": [
      "0 36361027\n",
      "294 211106542\n",
      "538 22522178\n",
      "877 104952689\n",
      "883 241709263\n",
      "1449 18622869\n",
      "3300 372460791\n",
      "3698 18378349\n",
      "3801 36499730\n",
      "3846 327577091\n",
      "3949 7517052\n",
      "3998 35810531\n",
      "5883 6361512\n",
      "6117 575160556\n",
      "6161 31137628\n",
      "6168 57268394\n",
      "10547 407347022\n",
      "10701 397489668\n",
      "11240 300868924\n",
      "11745 1305698738\n"
     ]
    }
   ],
   "source": [
    "# test the modularity of the community of seeds and its followings\n",
    "seeds = pickle.load(open('../all_members_list.pkl', 'rb'))\n",
    "\n",
    "community_ids = snap.TIntV()\n",
    "for node in network.Nodes():\n",
    "    nid = node.GetId()\n",
    "    id_user = network.GetStrAttrDatN(nid, 'id')\n",
    "    \n",
    "    if id_user in seeds:\n",
    "        community_ids.Add(nid)\n",
    "        print nid, id_user\n",
    "        nodeIt = network.GetNI(nid)\n",
    "        for e in range(nodeIt.GetOutDeg()):\n",
    "            community_ids.Add(nodeIt.GetOutNId(e))\n",
    "community_ids.Merge()"
   ]
  },
  {
   "cell_type": "code",
   "execution_count": 49,
   "metadata": {},
   "outputs": [
    {
     "name": "stdout",
     "output_type": "stream",
     "text": [
      "Nodes in the finance following subnetwork: 22279\n",
      "Percentage of the community with respect to the overall graph: 0.25358252615\n"
     ]
    }
   ],
   "source": [
    "print \"Nodes in the finance following subnetwork: %d\" % community_ids.Len()\n",
    "print \"Percentage of the community with respect to the overall graph: {}\".format(float(community_ids.Len())/network.GetNodes())"
   ]
  },
  {
   "cell_type": "code",
   "execution_count": 50,
   "metadata": {},
   "outputs": [],
   "source": [
    "# need to redefine the network as an undirected graphs\n",
    "modularity = snap.GetModularity(snap.GetUnDir(network), community_ids)"
   ]
  },
  {
   "cell_type": "code",
   "execution_count": 51,
   "metadata": {},
   "outputs": [
    {
     "name": "stdout",
     "output_type": "stream",
     "text": [
      "Modularity of finance community: 0.109797657756\n"
     ]
    }
   ],
   "source": [
    "print 'Modularity of finance community: {}'.format(modularity)"
   ]
  },
  {
   "cell_type": "code",
   "execution_count": 59,
   "metadata": {},
   "outputs": [
    {
     "ename": "AttributeError",
     "evalue": "'PNEANet' object has no attribute 'getNodes'",
     "output_type": "error",
     "traceback": [
      "\u001b[0;31m---------------------------------------------------------------------------\u001b[0m",
      "\u001b[0;31mAttributeError\u001b[0m                            Traceback (most recent call last)",
      "\u001b[0;32m<ipython-input-59-00bc2ce205d4>\u001b[0m in \u001b[0;36m<module>\u001b[0;34m()\u001b[0m\n\u001b[1;32m      1\u001b[0m \u001b[0mall_ids\u001b[0m \u001b[0;34m=\u001b[0m \u001b[0msnap\u001b[0m\u001b[0;34m.\u001b[0m\u001b[0mTIntV\u001b[0m\u001b[0;34m(\u001b[0m\u001b[0;34m)\u001b[0m\u001b[0;34m\u001b[0m\u001b[0m\n\u001b[0;32m----> 2\u001b[0;31m \u001b[0;32mfor\u001b[0m \u001b[0mi\u001b[0m \u001b[0;32min\u001b[0m \u001b[0mrange\u001b[0m\u001b[0;34m(\u001b[0m\u001b[0mnetwork\u001b[0m\u001b[0;34m.\u001b[0m\u001b[0mgetNodes\u001b[0m\u001b[0;34m)\u001b[0m\u001b[0;34m:\u001b[0m\u001b[0;34m\u001b[0m\u001b[0m\n\u001b[0m\u001b[1;32m      3\u001b[0m     \u001b[0mall_ids\u001b[0m\u001b[0;34m.\u001b[0m\u001b[0mAdd\u001b[0m\u001b[0;34m(\u001b[0m\u001b[0mi\u001b[0m\u001b[0;34m)\u001b[0m\u001b[0;34m\u001b[0m\u001b[0m\n\u001b[1;32m      4\u001b[0m \u001b[0;34m\u001b[0m\u001b[0m\n\u001b[1;32m      5\u001b[0m \u001b[0mmodularity_graph\u001b[0m \u001b[0;34m=\u001b[0m \u001b[0msnap\u001b[0m\u001b[0;34m.\u001b[0m\u001b[0mCommunityCNM\u001b[0m\u001b[0;34m(\u001b[0m\u001b[0msnap\u001b[0m\u001b[0;34m.\u001b[0m\u001b[0mGetUnDir\u001b[0m\u001b[0;34m(\u001b[0m\u001b[0mnetwork\u001b[0m\u001b[0;34m)\u001b[0m\u001b[0;34m,\u001b[0m \u001b[0mall_ids\u001b[0m\u001b[0;34m)\u001b[0m\u001b[0;34m\u001b[0m\u001b[0m\n",
      "\u001b[0;31mAttributeError\u001b[0m: 'PNEANet' object has no attribute 'getNodes'"
     ]
    }
   ],
   "source": [
    "all_ids = snap.TIntV()\n",
    "for i in range(network.getNodes):\n",
    "    all_ids.Add(i)\n",
    "    \n",
    "modularity_graph = snap.CommunityCNM(snap.GetUnDir(network), all_ids)"
   ]
  },
  {
   "cell_type": "code",
   "execution_count": null,
   "metadata": {},
   "outputs": [],
   "source": []
  }
 ],
 "metadata": {
  "kernelspec": {
   "display_name": "Python 2",
   "language": "python",
   "name": "python2"
  },
  "language_info": {
   "codemirror_mode": {
    "name": "ipython",
    "version": 2
   },
   "file_extension": ".py",
   "mimetype": "text/x-python",
   "name": "python",
   "nbconvert_exporter": "python",
   "pygments_lexer": "ipython2",
   "version": "2.7.15"
  }
 },
 "nbformat": 4,
 "nbformat_minor": 2
}
