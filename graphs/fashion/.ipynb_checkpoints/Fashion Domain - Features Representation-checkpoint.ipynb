{
 "cells": [
  {
   "cell_type": "code",
   "execution_count": 1,
   "metadata": {},
   "outputs": [],
   "source": [
    "import pandas as pd\n",
    "import numpy as np\n",
    "\n",
    "from numpy.linalg import norm\n",
    "from sklearn.decomposition import PCA\n",
    "\n",
    "import itertools\n",
    "import random\n",
    "\n",
    "import pickle\n",
    "\n",
    "import matplotlib.pyplot as plt\n",
    "%matplotlib inline"
   ]
  },
  {
   "cell_type": "code",
   "execution_count": 5,
   "metadata": {},
   "outputs": [],
   "source": [
    "domain = 'finance_20'\n",
    "datapath = '../data-seed/{}/'.format(domain)\n",
    "path = 'random-test/test-network-features/'\n",
    "header = ['{}'.format(i) for i in range(1,9)]"
   ]
  },
  {
   "cell_type": "code",
   "execution_count": 3,
   "metadata": {},
   "outputs": [],
   "source": [
    "test = 1\n",
    "\n",
    "seed_data = pd.read_csv(datapath+'/user.csv', sep='\\t')\n",
    "seed_data['usertype'] = 'seed'\n",
    "\n",
    "# test ids needed to filter the mentioned/following/followed users (they are not included in the ranking)\n",
    "testusers = pd.read_csv('../data-random/user.csv', sep='\\t')"
   ]
  },
  {
   "cell_type": "code",
   "execution_count": 25,
   "metadata": {},
   "outputs": [],
   "source": [
    "def plotData(seeds, candidates, centroids = None):\n",
    "    x = 'pca1'\n",
    "    y = 'pca2'\n",
    "    \n",
    "    plt.figure(figsize=(12,12))\n",
    "    plt.scatter(candidates[x], candidates[y], marker='.', s=40, lw=0, alpha=0.7, label='candidates')\n",
    "    plt.scatter(seeds[x], seeds[y], marker='x', color='red', label='seeds')\n",
    "    \n",
    "    if centroids is not None:\n",
    "        for c in centroids:\n",
    "            plt.scatter(c[0], c[1], marker='o', color='black', label='centroid')\n",
    "    \n",
    "    plt.legend()"
   ]
  },
  {
   "cell_type": "code",
   "execution_count": 8,
   "metadata": {},
   "outputs": [],
   "source": [
    "pca = PCA(n_components=2)"
   ]
  },
  {
   "cell_type": "markdown",
   "metadata": {},
   "source": [
    "#### Use PCA to show the features using two components"
   ]
  },
  {
   "cell_type": "markdown",
   "metadata": {},
   "source": [
    "1. Mentions"
   ]
  },
  {
   "cell_type": "code",
   "execution_count": 6,
   "metadata": {},
   "outputs": [],
   "source": [
    "# features file reading and metadata inclusion\n",
    "userdata = pd.read_csv(path+'m_network_{}_nodes.csv'.format(test), sep='\\t') # match graph id and user instance\n",
    "userdata = userdata[userdata['id_node'].isin(['seed', 'user'])]\n",
    "\n",
    "data = pd.read_csv(path+'m_network_{}.emb'.format(test), sep=' ', header=None, skiprows=1)\n",
    "data = userdata.merge(data, left_on='id', right_on=0)\n",
    "\n",
    "data.drop(0, inplace=True, axis=1)\n",
    "data.columns = ['id_graph','username','id_user','usertype']+header\n",
    "data['id_user'] = data['id_user'].astype(int)\n",
    "\n",
    "# keeps only seeds and test users for the evaluation\n",
    "t1_users = testusers[testusers['n_test'] == test][['id_user', 'screen_name']].drop_duplicates()\n",
    "t1_users['usertype'] = 'user'\n",
    "data = data.merge(pd.concat([seed_data[['id_user', 'screen_name', 'usertype']], t1_users]), on='id_user')"
   ]
  },
  {
   "cell_type": "code",
   "execution_count": 7,
   "metadata": {},
   "outputs": [
    {
     "data": {
      "text/html": [
       "<div>\n",
       "<style scoped>\n",
       "    .dataframe tbody tr th:only-of-type {\n",
       "        vertical-align: middle;\n",
       "    }\n",
       "\n",
       "    .dataframe tbody tr th {\n",
       "        vertical-align: top;\n",
       "    }\n",
       "\n",
       "    .dataframe thead th {\n",
       "        text-align: right;\n",
       "    }\n",
       "</style>\n",
       "<table border=\"1\" class=\"dataframe\">\n",
       "  <thead>\n",
       "    <tr style=\"text-align: right;\">\n",
       "      <th></th>\n",
       "      <th>id_graph</th>\n",
       "      <th>username</th>\n",
       "      <th>id_user</th>\n",
       "      <th>usertype_x</th>\n",
       "      <th>1</th>\n",
       "      <th>2</th>\n",
       "      <th>3</th>\n",
       "      <th>4</th>\n",
       "      <th>5</th>\n",
       "      <th>6</th>\n",
       "      <th>7</th>\n",
       "      <th>8</th>\n",
       "      <th>screen_name</th>\n",
       "      <th>usertype_y</th>\n",
       "    </tr>\n",
       "  </thead>\n",
       "  <tbody>\n",
       "    <tr>\n",
       "      <th>0</th>\n",
       "      <td>1</td>\n",
       "      <td>laurenlacapra</td>\n",
       "      <td>36361027</td>\n",
       "      <td>seed</td>\n",
       "      <td>-0.548160</td>\n",
       "      <td>0.181656</td>\n",
       "      <td>0.461822</td>\n",
       "      <td>-0.910707</td>\n",
       "      <td>-1.274620</td>\n",
       "      <td>-1.529140</td>\n",
       "      <td>1.82440</td>\n",
       "      <td>-1.717880</td>\n",
       "      <td>laurenlacapra</td>\n",
       "      <td>seed</td>\n",
       "    </tr>\n",
       "    <tr>\n",
       "      <th>1</th>\n",
       "      <td>180</td>\n",
       "      <td>lamonicabuzz</td>\n",
       "      <td>104952689</td>\n",
       "      <td>seed</td>\n",
       "      <td>-0.098627</td>\n",
       "      <td>0.227143</td>\n",
       "      <td>1.520190</td>\n",
       "      <td>-3.624560</td>\n",
       "      <td>1.075950</td>\n",
       "      <td>1.157080</td>\n",
       "      <td>4.87405</td>\n",
       "      <td>-0.034515</td>\n",
       "      <td>lamonicabuzz</td>\n",
       "      <td>seed</td>\n",
       "    </tr>\n",
       "    <tr>\n",
       "      <th>2</th>\n",
       "      <td>321</td>\n",
       "      <td>bill_easterly</td>\n",
       "      <td>35810531</td>\n",
       "      <td>seed</td>\n",
       "      <td>0.042843</td>\n",
       "      <td>-0.459264</td>\n",
       "      <td>-0.716104</td>\n",
       "      <td>0.344023</td>\n",
       "      <td>-1.116910</td>\n",
       "      <td>0.372826</td>\n",
       "      <td>2.08932</td>\n",
       "      <td>-2.591330</td>\n",
       "      <td>bill_easterly</td>\n",
       "      <td>seed</td>\n",
       "    </tr>\n",
       "    <tr>\n",
       "      <th>3</th>\n",
       "      <td>421</td>\n",
       "      <td>fgoria</td>\n",
       "      <td>6361512</td>\n",
       "      <td>seed</td>\n",
       "      <td>-0.127736</td>\n",
       "      <td>-0.670789</td>\n",
       "      <td>1.402930</td>\n",
       "      <td>-2.330040</td>\n",
       "      <td>-1.241000</td>\n",
       "      <td>-0.833808</td>\n",
       "      <td>3.30335</td>\n",
       "      <td>-0.586527</td>\n",
       "      <td>fgoria</td>\n",
       "      <td>seed</td>\n",
       "    </tr>\n",
       "    <tr>\n",
       "      <th>4</th>\n",
       "      <td>595</td>\n",
       "      <td>firoozye</td>\n",
       "      <td>31137628</td>\n",
       "      <td>seed</td>\n",
       "      <td>-1.059490</td>\n",
       "      <td>-0.325453</td>\n",
       "      <td>0.051111</td>\n",
       "      <td>0.128841</td>\n",
       "      <td>-0.999711</td>\n",
       "      <td>-0.474522</td>\n",
       "      <td>2.68951</td>\n",
       "      <td>-0.315296</td>\n",
       "      <td>firoozye</td>\n",
       "      <td>seed</td>\n",
       "    </tr>\n",
       "  </tbody>\n",
       "</table>\n",
       "</div>"
      ],
      "text/plain": [
       "   id_graph       username    id_user usertype_x         1         2  \\\n",
       "0         1  laurenlacapra   36361027       seed -0.548160  0.181656   \n",
       "1       180   lamonicabuzz  104952689       seed -0.098627  0.227143   \n",
       "2       321  bill_easterly   35810531       seed  0.042843 -0.459264   \n",
       "3       421         fgoria    6361512       seed -0.127736 -0.670789   \n",
       "4       595       firoozye   31137628       seed -1.059490 -0.325453   \n",
       "\n",
       "          3         4         5         6        7         8    screen_name  \\\n",
       "0  0.461822 -0.910707 -1.274620 -1.529140  1.82440 -1.717880  laurenlacapra   \n",
       "1  1.520190 -3.624560  1.075950  1.157080  4.87405 -0.034515   lamonicabuzz   \n",
       "2 -0.716104  0.344023 -1.116910  0.372826  2.08932 -2.591330  bill_easterly   \n",
       "3  1.402930 -2.330040 -1.241000 -0.833808  3.30335 -0.586527         fgoria   \n",
       "4  0.051111  0.128841 -0.999711 -0.474522  2.68951 -0.315296       firoozye   \n",
       "\n",
       "  usertype_y  \n",
       "0       seed  \n",
       "1       seed  \n",
       "2       seed  \n",
       "3       seed  \n",
       "4       seed  "
      ]
     },
     "execution_count": 7,
     "metadata": {},
     "output_type": "execute_result"
    }
   ],
   "source": [
    "data.head()"
   ]
  },
  {
   "cell_type": "code",
   "execution_count": 11,
   "metadata": {},
   "outputs": [],
   "source": [
    "X = pca.fit_transform(data[header])\n",
    "vizdata = data.merge(pd.DataFrame(X, columns=['pca1', 'pca2']), left_index=True, right_index=True)"
   ]
  },
  {
   "cell_type": "code",
   "execution_count": 26,
   "metadata": {},
   "outputs": [
    {
     "data": {
      "text/plain": [
       "Text(0.5,1,'PCA decomposition of mention features')"
      ]
     },
     "execution_count": 26,
     "metadata": {},
     "output_type": "execute_result"
    },
    {
     "data": {
      "image/png": "[encoded data removed]",
      "text/plain": [
       "<Figure size 864x864 with 1 Axes>"
      ]
     },
     "metadata": {},
     "output_type": "display_data"
    }
   ],
   "source": [
    "plotData(vizdata[vizdata['usertype_x'] == 'seed'],\n",
    "        vizdata[vizdata['usertype_x'] == 'user'])\n",
    "plt.title('PCA decomposition of mention features')"
   ]
  },
  {
   "cell_type": "markdown",
   "metadata": {},
   "source": [
    "2. Following"
   ]
  },
  {
   "cell_type": "code",
   "execution_count": 27,
   "metadata": {},
   "outputs": [],
   "source": [
    "# features file reading and metadata inclusion\n",
    "userdata = pd.read_csv(path+'social_network_{}_following_nodes.csv'.format(test), sep='\\t')\n",
    "data = pd.read_csv(path+'social_network_{}_following.emb'.format(test), sep=' ', header=None, skiprows=1)\n",
    "data = userdata.merge(data, left_on='id', right_on=0)\n",
    "data.drop(0, inplace=True, axis=1)\n",
    "\n",
    "# need to add usernames, too and filter the mentioned users that should not be included\n",
    "t1_users = testusers[testusers['n_test'] == test][['id_user', 'screen_name']].drop_duplicates()\n",
    "t1_users['usertype'] = 'user'\n",
    "data = data.merge(pd.concat([seed_data[['id_user', 'screen_name', 'usertype']], t1_users]), on='id_user')\n",
    "\n",
    "data.columns = ['id_graph','followers','following','id_user']+header+['username', 'usertype']"
   ]
  },
  {
   "cell_type": "code",
   "execution_count": 28,
   "metadata": {},
   "outputs": [],
   "source": [
    "X = pca.fit_transform(data[header])\n",
    "vizdata = data.merge(pd.DataFrame(X, columns=['pca1', 'pca2']), left_index=True, right_index=True)"
   ]
  },
  {
   "cell_type": "code",
   "execution_count": 30,
   "metadata": {},
   "outputs": [
    {
     "data": {
      "text/plain": [
       "Text(0.5,1,'PCA decomposition of following network features')"
      ]
     },
     "execution_count": 30,
     "metadata": {},
     "output_type": "execute_result"
    },
    {
     "data": {
      "image/png": "[encoded data removed]",
      "text/plain": [
       "<Figure size 864x864 with 1 Axes>"
      ]
     },
     "metadata": {},
     "output_type": "display_data"
    }
   ],
   "source": [
    "plotData(vizdata[vizdata['usertype'] == 'seed'],\n",
    "        vizdata[vizdata['usertype'] == 'user'])\n",
    "plt.title('PCA decomposition of following network features')"
   ]
  },
  {
   "cell_type": "markdown",
   "metadata": {},
   "source": [
    "3. Followers"
   ]
  },
  {
   "cell_type": "code",
   "execution_count": 31,
   "metadata": {},
   "outputs": [],
   "source": [
    "# features file reading and metadata inclusion\n",
    "userdata = pd.read_csv(path+'social_network_{}_follower_nodes.csv'.format(test), sep='\\t')\n",
    "data = pd.read_csv(path+'social_network_{}_follower.emb'.format(test), sep=' ', header=None, skiprows=1)\n",
    "data = userdata.merge(data, left_on='id', right_on=0)\n",
    "data.drop(0, inplace=True, axis=1)\n",
    "\n",
    "# need to add usernames, too and filter the mentioned users that should not be included\n",
    "t1_users = testusers[testusers['n_test'] == test][['id_user', 'screen_name']].drop_duplicates()\n",
    "t1_users['usertype'] = 'user'\n",
    "data = data.merge(pd.concat([seed_data[['id_user', 'screen_name', 'usertype']], t1_users]), on='id_user')\n",
    "\n",
    "data.columns = ['id_graph','followers','following','id_user']+header+['username', 'usertype']"
   ]
  },
  {
   "cell_type": "code",
   "execution_count": 32,
   "metadata": {},
   "outputs": [],
   "source": [
    "X = pca.fit_transform(data[header])\n",
    "vizdata = data.merge(pd.DataFrame(X, columns=['pca1', 'pca2']), left_index=True, right_index=True)"
   ]
  },
  {
   "cell_type": "code",
   "execution_count": 34,
   "metadata": {},
   "outputs": [
    {
     "data": {
      "text/plain": [
       "Text(0.5,1,'PCA decomposition of followers network features')"
      ]
     },
     "execution_count": 34,
     "metadata": {},
     "output_type": "execute_result"
    },
    {
     "data": {
      "image/png": "[encoded data removed]",
      "text/plain": [
       "<Figure size 864x864 with 1 Axes>"
      ]
     },
     "metadata": {},
     "output_type": "display_data"
    }
   ],
   "source": [
    "plotData(vizdata[vizdata['usertype'] == 'seed'],\n",
    "        vizdata[vizdata['usertype'] == 'user'])\n",
    "plt.title('PCA decomposition of followers network features')"
   ]
  },
  {
   "cell_type": "code",
   "execution_count": null,
   "metadata": {},
   "outputs": [],
   "source": []
  }
 ],
 "metadata": {
  "kernelspec": {
   "display_name": "Python 2",
   "language": "python",
   "name": "python2"
  },
  "language_info": {
   "codemirror_mode": {
    "name": "ipython",
    "version": 2
   },
   "file_extension": ".py",
   "mimetype": "text/x-python",
   "name": "python",
   "nbconvert_exporter": "python",
   "pygments_lexer": "ipython2",
   "version": "2.7.15"
  }
 },
 "nbformat": 4,
 "nbformat_minor": 2
}
