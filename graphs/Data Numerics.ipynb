{
 "cells": [
  {
   "cell_type": "code",
   "execution_count": 1,
   "metadata": {},
   "outputs": [],
   "source": [
    "import pandas as pd"
   ]
  },
  {
   "cell_type": "code",
   "execution_count": 2,
   "metadata": {},
   "outputs": [],
   "source": [
    "domains = ['chess', 'aw', 'finance_20', 'fashion']"
   ]
  },
  {
   "cell_type": "code",
   "execution_count": 3,
   "metadata": {},
   "outputs": [],
   "source": [
    "path = 'data-seed/'\n",
    "randompath = 'data-random/'"
   ]
  },
  {
   "cell_type": "code",
   "execution_count": 6,
   "metadata": {},
   "outputs": [
    {
     "name": "stderr",
     "output_type": "stream",
     "text": [
      "/home/brambilla/anaconda3/envs/mattia-env/lib/python2.7/site-packages/IPython/core/interactiveshell.py:2714: DtypeWarning: Columns (0,1) have mixed types. Specify dtype option on import or set low_memory=False.\n",
      "  interactivity=interactivity, compiler=compiler, result=result)\n"
     ]
    }
   ],
   "source": [
    "res = []\n",
    "for d in domains:\n",
    "    n_users = pd.read_csv(path+d+'/user.csv', sep='\\t').drop_duplicates().shape[0]\n",
    "    n_tweets = pd.read_csv(path+d+'/tweet.csv', sep='\\t').drop_duplicates().shape[0]\n",
    "    n_follower = len(pd.read_csv(path+d+'/follower.csv')['id_follower'].unique())\n",
    "    n_following = len(pd.read_csv(path+d+'/following.csv')['id_followed'].unique())\n",
    "    res.append(tuple((d, n_users, n_tweets, n_following, n_follower)))\n",
    "\n",
    "u = pd.read_csv(randompath + 'user_data_1.csv').drop_duplicates()\n",
    "tw = pd.read_csv(randompath + 'tweet.csv', sep='\\t').drop_duplicates()\n",
    "\n",
    "n_random_u = u.shape[0]\n",
    "n_random_tweets = u.merge(tw, on='id_user').shape[0]\n",
    "n_random_follower = len(pd.read_csv(randompath+'follower_1.csv')['id_follower'].unique())\n",
    "n_random_following = len(pd.read_csv(randompath+'following_1.csv')['id_followed'].unique())\n",
    "\n",
    "res.append(tuple(('random', n_random_u, n_random_tweets, n_random_following, n_random_follower)))"
   ]
  },
  {
   "cell_type": "code",
   "execution_count": 7,
   "metadata": {},
   "outputs": [
    {
     "name": "stdout",
     "output_type": "stream",
     "text": [
      "\\begin{tabular}{llrrrr}\n",
      "\\toprule\n",
      "{} &      domain &  \\#users &  \\#posts &  \\#following &  \\#follower \\\\\n",
      "\\midrule\n",
      "0 &       chess &      20 &    2262 &        6723 &     451862 \\\\\n",
      "1 &          aw &      20 &    1734 &       13514 &     135834 \\\\\n",
      "2 &  finance\\_20 &      20 &    2882 &       22279 &    1360652 \\\\\n",
      "3 &     fashion &      18 &    1294 &        2314 &       8737 \\\\\n",
      "4 &      random &     160 &   12387 &       68829 &    3922712 \\\\\n",
      "\\bottomrule\n",
      "\\end{tabular}\n",
      "\n"
     ]
    }
   ],
   "source": [
    "print pd.DataFrame(res, columns=['domain','#users', '#posts','#following','#follower']).to_latex()"
   ]
  },
  {
   "cell_type": "code",
   "execution_count": null,
   "metadata": {
    "collapsed": true
   },
   "outputs": [],
   "source": []
  }
 ],
 "metadata": {
  "kernelspec": {
   "display_name": "Python 2",
   "language": "python",
   "name": "python2"
  },
  "language_info": {
   "codemirror_mode": {
    "name": "ipython",
    "version": 2
   },
   "file_extension": ".py",
   "mimetype": "text/x-python",
   "name": "python",
   "nbconvert_exporter": "python",
   "pygments_lexer": "ipython2",
   "version": "2.7.15"
  }
 },
 "nbformat": 4,
 "nbformat_minor": 2
}
