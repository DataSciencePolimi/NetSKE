{
 "cells": [
  {
   "cell_type": "code",
   "execution_count": null,
   "metadata": {},
   "outputs": [],
   "source": [
    "import snap\n",
    "import pandas as pd\n",
    "import numpy as np\n",
    "\n",
    "import matplotlib.pyplot as plt\n",
    "\n",
    "%matplotlib inline"
   ]
  },
  {
   "cell_type": "markdown",
   "metadata": {},
   "source": [
    "Classical analysis to quantitatively describe the social networks, built using followers and following relationships.\n",
    "\n",
    "Metrics to be considered for each network:\n",
    "- #nodes, #edges\n",
    "- average degree, indegree, outdegree\n",
    "- node centrality (?, intensive)\n",
    "- <b> modularity </b> (average and between finance community and the rest, to verify if it is effectively a module)\n",
    "- clustering coefficient\n",
    "- isConnected, connected components"
   ]
  },
  {
   "cell_type": "markdown",
   "metadata": {},
   "source": [
    "NB: default script to be used as basic metrics analysis of any network"
   ]
  },
  {
   "cell_type": "code",
   "execution_count": null,
   "metadata": {},
   "outputs": [],
   "source": [
    "path = ''\n",
    "networkname = ''\n",
    "network = snap.LoadEdgeListNet(path+networkname+'.csv', '\\t')"
   ]
  }
 ],
 "metadata": {
  "kernelspec": {
   "display_name": "Python 3",
   "language": "python",
   "name": "python3"
  },
  "language_info": {
   "codemirror_mode": {
    "name": "ipython",
    "version": 3
   },
   "file_extension": ".py",
   "mimetype": "text/x-python",
   "name": "python",
   "nbconvert_exporter": "python",
   "pygments_lexer": "ipython3",
   "version": "3.6.5"
  }
 },
 "nbformat": 4,
 "nbformat_minor": 2
}
