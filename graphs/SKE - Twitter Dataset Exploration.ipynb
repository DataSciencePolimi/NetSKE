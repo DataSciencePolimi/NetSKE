{
 "cells": [
  {
   "cell_type": "code",
   "execution_count": 1,
   "metadata": {
    "collapsed": true
   },
   "outputs": [],
   "source": [
    "import pandas as pd\n",
    "import numpy as np\n",
    "import re\n",
    "\n",
    "import json"
   ]
  },
  {
   "cell_type": "code",
   "execution_count": 2,
   "metadata": {
    "collapsed": true
   },
   "outputs": [],
   "source": [
    "def filterString(string):\n",
    "    strOut = string.replace('\\r',' ').replace('\\n',' ').replace('\\t',' ')\n",
    "    return strOut"
   ]
  },
  {
   "cell_type": "code",
   "execution_count": 3,
   "metadata": {
    "collapsed": true
   },
   "outputs": [],
   "source": [
    "path = 'data-seed/finance/'\n",
    "with open('data-seed/seed_tweets.json', 'r') as seedfile:\n",
    "    seed = json.load(seedfile)"
   ]
  },
  {
   "cell_type": "code",
   "execution_count": 6,
   "metadata": {
    "collapsed": true
   },
   "outputs": [],
   "source": [
    "path = 'data-candidates/finance/'\n",
    "with open('data-candidates/candidate_tweets.json', 'r') as candidatefile:\n",
    "    candidates = json.load(candidatefile)"
   ]
  },
  {
   "cell_type": "code",
   "execution_count": 7,
   "metadata": {
    "collapsed": true
   },
   "outputs": [],
   "source": [
    "tweet_header = 'id_tweet\\tid_user\\tscreen_name\\tlang\\tfavourite_count\\tcreate_at\\tretweet_count\\ttext\\n'\n",
    "mention_header = 'id_tweet\\tid_user\\tscreen_name\\n'\n",
    "hashtag_header = 'id_tweet\\ttag\\n'\n",
    "user_header = 'id_user\\tscreen_name\\n'\n",
    "with open(path+'user.csv', 'w') as userfile:\n",
    "    with open(path+'tweet.csv', 'w') as tweetfile:\n",
    "        with open(path+'mention.csv', 'w') as mentionfile:\n",
    "            with open(path+'tag.csv', 'w') as tagfile:\n",
    "                tweetfile.write(tweet_header)\n",
    "                mentionfile.write(mention_header)\n",
    "                tagfile.write(hashtag_header)\n",
    "                userfile.write(user_header)\n",
    "                for user in candidates:\n",
    "                    for tweet in candidates[user]:\n",
    "                        #  tweet data\n",
    "                        id_tweet = tweet['_id']\n",
    "                        id_user = tweet['id_user']\n",
    "                        screen_name = tweet['screen_name'].lower()\n",
    "                        lang = tweet['lang']\n",
    "                        fav_count = tweet['favourite_count']\n",
    "                        timestamp = tweet['create_at']\n",
    "                        rt_count = tweet['retweet_count']\n",
    "                        text = filterString(tweet['text']).encode('utf-8')\n",
    "                        tweetrow = '{}\\t{}\\t{}\\t{}\\t{}\\t{}\\t{}\\t{}\\n'.format(id_tweet,id_user,screen_name,lang,fav_count,timestamp,rt_count,text)\n",
    "                        tweetfile.write(tweetrow)\n",
    "                        \n",
    "                        # hashtag data\n",
    "                        p = re.compile(\"(?<=^|(?<=[^a-zA-Z0-9-_\\.]))#([A-Za-z]+[A-Za-z0-9]+)\")\n",
    "                        hashtags = p.findall(text)\n",
    "                        for tag in hashtags:\n",
    "                            tagrow = '{}\\t{}\\n'.format(id_tweet, tag.lower())\n",
    "                            tagfile.write(tagrow)\n",
    "\n",
    "                        # mention data\n",
    "                        mentions = tweet['mentions']\n",
    "                        for m in mentions:\n",
    "                            id_user_mentioned = m['id']\n",
    "                            screen_name_mentioned = m['screen_name'].lower()\n",
    "                            mentionrow = '{}\\t{}\\t{}\\n'.format(id_tweet, id_user_mentioned, screen_name_mentioned)\n",
    "                            mentionfile.write(mentionrow)\n",
    "                        \n",
    "                    # user data\n",
    "                    userrow = '{}\\t{}\\n'.format(id_user,screen_name)\n",
    "                    userfile.write(userrow)\n",
    "            "
   ]
  },
  {
   "cell_type": "markdown",
   "metadata": {
    "collapsed": true
   },
   "source": [
    "Statistics"
   ]
  },
  {
   "cell_type": "code",
   "execution_count": 43,
   "metadata": {},
   "outputs": [
    {
     "name": "stdout",
     "output_type": "stream",
     "text": [
      "USER: 925\n",
      "Seeds: 10\n",
      "Candidates: 915\n",
      "---------------\n",
      "TWEET: 178907\n",
      "Seeds: 1970\n",
      "Candidates: 176937\n",
      "---------------\n",
      "TAG: 27653\n",
      "Seeds: 219\n",
      "Candidates: 27434\n",
      "---------------\n",
      "MENTION: 176391\n",
      "Seeds: 1689\n",
      "Candidates: 174702\n",
      "---------------\n"
     ]
    }
   ],
   "source": [
    "pathseed = 'data-seed/finance/'\n",
    "pathcandidate = 'data-candidates/finance/'\n",
    "\n",
    "for table in ['user', 'tweet', 'tag', 'mention']:\n",
    "    seeddata = pd.read_csv(pathseed+table+'.csv', sep='\\t', quoting=3).shape[0]\n",
    "    candidatedata = pd.read_csv(pathcandidate+table+'.csv', sep='\\t', quoting=3).shape[0]\n",
    "    print '{}: {}'.format(table.upper(), seeddata+candidatedata)\n",
    "    print 'Seeds: {}'.format(seeddata)\n",
    "    print 'Candidates: {}'.format(candidatedata)\n",
    "    print '---------------'"
   ]
  },
  {
   "cell_type": "code",
   "execution_count": 36,
   "metadata": {
    "collapsed": true
   },
   "outputs": [],
   "source": [
    "tweet = pd.read_csv(pathcandidate+'tweet.csv', sep='\\t', quoting=3)\n",
    "mention = pd.read_csv(pathcandidate+'mention.csv', sep='\\t')"
   ]
  },
  {
   "cell_type": "code",
   "execution_count": 37,
   "metadata": {},
   "outputs": [
    {
     "data": {
      "text/html": [
       "<div>\n",
       "<style>\n",
       "    .dataframe thead tr:only-child th {\n",
       "        text-align: right;\n",
       "    }\n",
       "\n",
       "    .dataframe thead th {\n",
       "        text-align: left;\n",
       "    }\n",
       "\n",
       "    .dataframe tbody tr th {\n",
       "        vertical-align: top;\n",
       "    }\n",
       "</style>\n",
       "<table border=\"1\" class=\"dataframe\">\n",
       "  <thead>\n",
       "    <tr style=\"text-align: right;\">\n",
       "      <th></th>\n",
       "      <th>id_tweet</th>\n",
       "      <th>id_user</th>\n",
       "      <th>screen_name</th>\n",
       "      <th>lang</th>\n",
       "      <th>favourite_count</th>\n",
       "      <th>create_at</th>\n",
       "      <th>retweet_coun</th>\n",
       "      <th>text</th>\n",
       "    </tr>\n",
       "  </thead>\n",
       "  <tbody>\n",
       "    <tr>\n",
       "      <th>0</th>\n",
       "      <td>966850148381978624</td>\n",
       "      <td>31432492</td>\n",
       "      <td>maggielake</td>\n",
       "      <td>en</td>\n",
       "      <td>18</td>\n",
       "      <td>2018-02-23 01:40:13</td>\n",
       "      <td>6</td>\n",
       "      <td>“It is not about being liberal, Dem or Republi...</td>\n",
       "    </tr>\n",
       "    <tr>\n",
       "      <th>1</th>\n",
       "      <td>959182226800959488</td>\n",
       "      <td>31432492</td>\n",
       "      <td>maggielake</td>\n",
       "      <td>en</td>\n",
       "      <td>0</td>\n",
       "      <td>2018-02-01 21:50:38</td>\n",
       "      <td>5270</td>\n",
       "      <td>RT @rihanna: Merci @emmanuelmacron for steppin...</td>\n",
       "    </tr>\n",
       "    <tr>\n",
       "      <th>2</th>\n",
       "      <td>959182200129380355</td>\n",
       "      <td>31432492</td>\n",
       "      <td>maggielake</td>\n",
       "      <td>en</td>\n",
       "      <td>0</td>\n",
       "      <td>2018-02-01 21:50:31</td>\n",
       "      <td>2821</td>\n",
       "      <td>RT @rihanna: hi @JulieBishopMP &amp;amp; @Turnbull...</td>\n",
       "    </tr>\n",
       "    <tr>\n",
       "      <th>3</th>\n",
       "      <td>959182152477921285</td>\n",
       "      <td>31432492</td>\n",
       "      <td>maggielake</td>\n",
       "      <td>en</td>\n",
       "      <td>0</td>\n",
       "      <td>2018-02-01 21:50:20</td>\n",
       "      <td>4325</td>\n",
       "      <td>RT @rihanna: 🇬🇧 Hello @theresa_may and @Penn...</td>\n",
       "    </tr>\n",
       "    <tr>\n",
       "      <th>4</th>\n",
       "      <td>951144922719162373</td>\n",
       "      <td>31432492</td>\n",
       "      <td>maggielake</td>\n",
       "      <td>en</td>\n",
       "      <td>9</td>\n",
       "      <td>2018-01-10 17:33:15</td>\n",
       "      <td>2</td>\n",
       "      <td>Her dress design changed everything https://t....</td>\n",
       "    </tr>\n",
       "  </tbody>\n",
       "</table>\n",
       "</div>"
      ],
      "text/plain": [
       "             id_tweet   id_user screen_name lang  favourite_count  \\\n",
       "0  966850148381978624  31432492  maggielake   en               18   \n",
       "1  959182226800959488  31432492  maggielake   en                0   \n",
       "2  959182200129380355  31432492  maggielake   en                0   \n",
       "3  959182152477921285  31432492  maggielake   en                0   \n",
       "4  951144922719162373  31432492  maggielake   en                9   \n",
       "\n",
       "             create_at  retweet_coun  \\\n",
       "0  2018-02-23 01:40:13             6   \n",
       "1  2018-02-01 21:50:38          5270   \n",
       "2  2018-02-01 21:50:31          2821   \n",
       "3  2018-02-01 21:50:20          4325   \n",
       "4  2018-01-10 17:33:15             2   \n",
       "\n",
       "                                                text  \n",
       "0  “It is not about being liberal, Dem or Republi...  \n",
       "1  RT @rihanna: Merci @emmanuelmacron for steppin...  \n",
       "2  RT @rihanna: hi @JulieBishopMP &amp; @Turnbull...  \n",
       "3  RT @rihanna: 🇬🇧 Hello @theresa_may and @Penn...  \n",
       "4  Her dress design changed everything https://t....  "
      ]
     },
     "execution_count": 37,
     "metadata": {},
     "output_type": "execute_result"
    }
   ],
   "source": [
    "tweet.head()"
   ]
  },
  {
   "cell_type": "code",
   "execution_count": 38,
   "metadata": {},
   "outputs": [
    {
     "data": {
      "text/html": [
       "<div>\n",
       "<style>\n",
       "    .dataframe thead tr:only-child th {\n",
       "        text-align: right;\n",
       "    }\n",
       "\n",
       "    .dataframe thead th {\n",
       "        text-align: left;\n",
       "    }\n",
       "\n",
       "    .dataframe tbody tr th {\n",
       "        vertical-align: top;\n",
       "    }\n",
       "</style>\n",
       "<table border=\"1\" class=\"dataframe\">\n",
       "  <thead>\n",
       "    <tr style=\"text-align: right;\">\n",
       "      <th></th>\n",
       "      <th>id_tweet</th>\n",
       "      <th>id_user</th>\n",
       "      <th>screen_name</th>\n",
       "    </tr>\n",
       "  </thead>\n",
       "  <tbody>\n",
       "    <tr>\n",
       "      <th>0</th>\n",
       "      <td>959182226800959488</td>\n",
       "      <td>79293791</td>\n",
       "      <td>rihanna</td>\n",
       "    </tr>\n",
       "    <tr>\n",
       "      <th>1</th>\n",
       "      <td>959182226800959488</td>\n",
       "      <td>1976143068</td>\n",
       "      <td>emmanuelmacron</td>\n",
       "    </tr>\n",
       "    <tr>\n",
       "      <th>2</th>\n",
       "      <td>959182226800959488</td>\n",
       "      <td>171314974</td>\n",
       "      <td>gpforeducation</td>\n",
       "    </tr>\n",
       "    <tr>\n",
       "      <th>3</th>\n",
       "      <td>959182200129380355</td>\n",
       "      <td>79293791</td>\n",
       "      <td>rihanna</td>\n",
       "    </tr>\n",
       "    <tr>\n",
       "      <th>4</th>\n",
       "      <td>959182200129380355</td>\n",
       "      <td>89856037</td>\n",
       "      <td>juliebishopmp</td>\n",
       "    </tr>\n",
       "  </tbody>\n",
       "</table>\n",
       "</div>"
      ],
      "text/plain": [
       "             id_tweet     id_user     screen_name\n",
       "0  959182226800959488    79293791         rihanna\n",
       "1  959182226800959488  1976143068  emmanuelmacron\n",
       "2  959182226800959488   171314974  gpforeducation\n",
       "3  959182200129380355    79293791         rihanna\n",
       "4  959182200129380355    89856037   juliebishopmp"
      ]
     },
     "execution_count": 38,
     "metadata": {},
     "output_type": "execute_result"
    }
   ],
   "source": [
    "mention.head()"
   ]
  },
  {
   "cell_type": "code",
   "execution_count": 39,
   "metadata": {
    "collapsed": true
   },
   "outputs": [],
   "source": [
    "test = tweet[['id_tweet','text']].merge(mention, on='id_tweet', how='right')"
   ]
  },
  {
   "cell_type": "code",
   "execution_count": 40,
   "metadata": {},
   "outputs": [
    {
     "data": {
      "text/html": [
       "<div>\n",
       "<style>\n",
       "    .dataframe thead tr:only-child th {\n",
       "        text-align: right;\n",
       "    }\n",
       "\n",
       "    .dataframe thead th {\n",
       "        text-align: left;\n",
       "    }\n",
       "\n",
       "    .dataframe tbody tr th {\n",
       "        vertical-align: top;\n",
       "    }\n",
       "</style>\n",
       "<table border=\"1\" class=\"dataframe\">\n",
       "  <thead>\n",
       "    <tr style=\"text-align: right;\">\n",
       "      <th></th>\n",
       "      <th>id_tweet</th>\n",
       "      <th>text</th>\n",
       "      <th>id_user</th>\n",
       "      <th>screen_name</th>\n",
       "    </tr>\n",
       "  </thead>\n",
       "  <tbody>\n",
       "  </tbody>\n",
       "</table>\n",
       "</div>"
      ],
      "text/plain": [
       "Empty DataFrame\n",
       "Columns: [id_tweet, text, id_user, screen_name]\n",
       "Index: []"
      ]
     },
     "execution_count": 40,
     "metadata": {},
     "output_type": "execute_result"
    }
   ],
   "source": [
    "test[test['text'].isnull()]"
   ]
  },
  {
   "cell_type": "code",
   "execution_count": 41,
   "metadata": {},
   "outputs": [
    {
     "data": {
      "text/plain": [
       "(176937, 8)"
      ]
     },
     "execution_count": 41,
     "metadata": {},
     "output_type": "execute_result"
    }
   ],
   "source": [
    "tweet.shape"
   ]
  },
  {
   "cell_type": "code",
   "execution_count": null,
   "metadata": {
    "collapsed": true
   },
   "outputs": [],
   "source": []
  }
 ],
 "metadata": {
  "kernelspec": {
   "display_name": "Python 2",
   "language": "python",
   "name": "python2"
  },
  "language_info": {
   "codemirror_mode": {
    "name": "ipython",
    "version": 2
   },
   "file_extension": ".py",
   "mimetype": "text/x-python",
   "name": "python",
   "nbconvert_exporter": "python",
   "pygments_lexer": "ipython2",
   "version": "2.7.13"
  }
 },
 "nbformat": 4,
 "nbformat_minor": 2
}
