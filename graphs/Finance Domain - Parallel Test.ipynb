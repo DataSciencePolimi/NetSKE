{
 "cells": [
  {
   "cell_type": "code",
   "execution_count": 1,
   "metadata": {
    "collapsed": true
   },
   "outputs": [],
   "source": [
    "import pandas as pd\n",
    "import numpy as np\n",
    "\n",
    "from numpy.linalg import norm\n",
    "from sklearn.decomposition import PCA\n",
    "\n",
    "import itertools\n",
    "import random\n",
    "\n",
    "import pickle\n",
    "\n",
    "import matplotlib.pyplot as plt\n",
    "%matplotlib inline"
   ]
  },
  {
   "cell_type": "markdown",
   "metadata": {},
   "source": [
    "Extract network features and use them to compute similarity between 20 seeds in the <b>finance domain</b> and <b>random users</b>."
   ]
  },
  {
   "cell_type": "markdown",
   "metadata": {},
   "source": [
    "The idea is to keep part of the seeds as seeds and the other part as good candidates, while all the random users are bad candidates. In this way it is possible to assess automatically the goodness of the method, because the groundtruth is already validated."
   ]
  },
  {
   "cell_type": "markdown",
   "metadata": {},
   "source": [
    "Steps to follow:\n",
    "1. Split seeds in candidates and effective seeds (10/10) - <b> define shared list of combinations </b>\n",
    "2. Compute centroid with effective seeds\n",
    "3. Rank random users and candidates with respect to the centroid\n",
    "4. Compute #good candidates extracted at each level of ranking and plot the resulting line against the random ranking (linear)\n",
    "5. Iterate with different splits\n",
    "6. Compare with respect to the fingerprint method"
   ]
  },
  {
   "cell_type": "code",
   "execution_count": 2,
   "metadata": {
    "collapsed": true
   },
   "outputs": [],
   "source": [
    "# ranking is based on distance similarity\n",
    "def candidatesRanking(candidates, centroid, features):\n",
    "    #centroid_v = np.array(centroid[features])\n",
    "    \n",
    "    output = pd.DataFrame()\n",
    "    output['distance'] = candidates.apply(lambda x: norm(np.array(x[features]) - centroid), axis=1)\n",
    "    output['username'] = candidates['username']\n",
    "    output['id_user'] = candidates['id_user']\n",
    "    output['similarity'] = output.apply(lambda x: 1/(1+x['distance']), axis=1)\n",
    "    #output['link'] = output.apply(lambda x: 'www.twitter.com/'+x['username']+'/', axis=1)\n",
    "    \n",
    "    output.sort_values(by='similarity', ascending=False, inplace=True)\n",
    "    \n",
    "    # reset_index -> index+1 becomes the ranking\n",
    "    output.reset_index(inplace=True)\n",
    "    \n",
    "    return output"
   ]
  },
  {
   "cell_type": "code",
   "execution_count": 3,
   "metadata": {
    "collapsed": true
   },
   "outputs": [],
   "source": [
    "def computeCentroid(seeds, normheader):\n",
    "    arrays = [np.array(x[normheader]) for index, x in seeds.iterrows()]\n",
    "    \n",
    "    return np.sum(arrays, axis=0)/seeds.shape[0]"
   ]
  },
  {
   "cell_type": "code",
   "execution_count": 4,
   "metadata": {
    "collapsed": true
   },
   "outputs": [],
   "source": [
    "def cumulativeGoodCandidates(ranking):\n",
    "    cumulative = []\n",
    "    n_good_candidates = 0\n",
    "    \n",
    "    for index, ranked_user in ranking.iterrows():\n",
    "        if ranked_user['good'] == True:\n",
    "            n_good_candidates = n_good_candidates + 1\n",
    "        cumulative.append(n_good_candidates)\n",
    "        \n",
    "    return np.array(cumulative)"
   ]
  },
  {
   "cell_type": "code",
   "execution_count": 5,
   "metadata": {
    "collapsed": true
   },
   "outputs": [],
   "source": [
    "def plotData(seeds, candidates, components):\n",
    "    x = components[0]\n",
    "    y = components[1]\n",
    "    \n",
    "    plt.figure(figsize=(12,12))\n",
    "    plt.scatter(candidates[x], candidates[y], marker='.', s=40, lw=0, alpha=0.7)\n",
    "    plt.scatter(seeds[x], seeds[y], marker='x', color='red')"
   ]
  },
  {
   "cell_type": "code",
   "execution_count": 6,
   "metadata": {
    "collapsed": true
   },
   "outputs": [],
   "source": [
    "def computeSimDistribution(ranking, float_prec):\n",
    "    prec_str = '%.{}f'.format(float_prec)\n",
    "    ranking['truncated'] = ranking.apply(lambda x: float(prec_str%(x['similarity'])), axis=1)\n",
    "    \n",
    "    y = ranking.groupby(by='truncated').count().reset_index()[['truncated','similarity']]\n",
    "    y.columns = ['sim','freq']\n",
    "    y.sort_values(by='sim', inplace=True)\n",
    "    \n",
    "    return y"
   ]
  },
  {
   "cell_type": "code",
   "execution_count": 7,
   "metadata": {
    "collapsed": true
   },
   "outputs": [],
   "source": [
    "header = ['{}'.format(i) for i in range(1,9)]"
   ]
  },
  {
   "cell_type": "code",
   "execution_count": 8,
   "metadata": {
    "collapsed": true
   },
   "outputs": [],
   "source": [
    "domain = 'finance_20'\n",
    "path = '{}/random-test/'.format(domain)\n",
    "datapath = 'data-seed/{}/'.format(domain)\n",
    "randompath = 'data-random/'"
   ]
  },
  {
   "cell_type": "markdown",
   "metadata": {},
   "source": [
    "## List of members/candidates combinations"
   ]
  },
  {
   "cell_type": "markdown",
   "metadata": {},
   "source": [
    "Generate the combinations of ids to be used as actual members (the others are the good candidates by set difference)"
   ]
  },
  {
   "cell_type": "code",
   "execution_count": null,
   "metadata": {},
   "outputs": [],
   "source": [
    "allseeds = map(str, list(pd.read_csv(datapath+'/user.csv', sep='\\t')['id_user']))\n",
    "len(allseeds)"
   ]
  },
  {
   "cell_type": "code",
   "execution_count": null,
   "metadata": {},
   "outputs": [],
   "source": [
    "N = 10\n",
    "all_combinations = list(itertools.combinations(allseeds, N))\n",
    "print len(all_combinations)"
   ]
  },
  {
   "cell_type": "code",
   "execution_count": null,
   "metadata": {
    "collapsed": true
   },
   "outputs": [],
   "source": [
    "shared_combinations = random.sample(all_combinations, 100)"
   ]
  },
  {
   "cell_type": "code",
   "execution_count": null,
   "metadata": {
    "collapsed": true
   },
   "outputs": [],
   "source": [
    "with open('../all_members_list.pkl', 'w') as alldata:\n",
    "    pickle.dump(allseeds, alldata)\n",
    "with open('../combinations.pkl', 'w') as currdata:\n",
    "    pickle.dump(shared_combinations, currdata)"
   ]
  },
  {
   "cell_type": "markdown",
   "metadata": {
    "collapsed": true
   },
   "source": [
    "## Nouns Network Test"
   ]
  },
  {
   "cell_type": "code",
   "execution_count": 9,
   "metadata": {
    "collapsed": true
   },
   "outputs": [],
   "source": [
    "allseeds = pickle.load(open('../all_members_list.pkl', 'r'))\n",
    "combinations = pickle.load(open('../combinations.pkl', 'r'))"
   ]
  },
  {
   "cell_type": "code",
   "execution_count": 10,
   "metadata": {},
   "outputs": [
    {
     "data": {
      "text/plain": [
       "['36361027',\n",
       " '104952689',\n",
       " '35810531',\n",
       " '6361512',\n",
       " '31137628',\n",
       " '18622869',\n",
       " '241709263',\n",
       " '397489668',\n",
       " '18378349',\n",
       " '327577091',\n",
       " '7517052',\n",
       " '1305698738',\n",
       " '22522178',\n",
       " '372460791',\n",
       " '300868924',\n",
       " '211106542',\n",
       " '575160556',\n",
       " '407347022',\n",
       " '36499730',\n",
       " '57268394']"
      ]
     },
     "execution_count": 10,
     "metadata": {},
     "output_type": "execute_result"
    }
   ],
   "source": [
    "allseeds"
   ]
  },
  {
   "cell_type": "code",
   "execution_count": 12,
   "metadata": {},
   "outputs": [
    {
     "data": {
      "text/plain": [
       "100"
      ]
     },
     "execution_count": 12,
     "metadata": {},
     "output_type": "execute_result"
    }
   ],
   "source": [
    "len(combinations)"
   ]
  },
  {
   "cell_type": "code",
   "execution_count": 14,
   "metadata": {
    "collapsed": true
   },
   "outputs": [],
   "source": [
    "seed_data = pd.read_csv(datapath+'/user.csv', sep='\\t')"
   ]
  },
  {
   "cell_type": "code",
   "execution_count": 15,
   "metadata": {},
   "outputs": [
    {
     "data": {
      "image/png": "[encoded data removed]",
      "text/plain": [
       "<matplotlib.figure.Figure at 0x1e3b2e80>"
      ]
     },
     "metadata": {},
     "output_type": "display_data"
    }
   ],
   "source": [
    "domain = 'finance_20'\n",
    "path = '{}/random-test/test-network-features/'.format(domain) \n",
    "\n",
    "for test in [1]:\n",
    "    # store the retrieval position of each seed\n",
    "    candidates_ranking = {}\n",
    "    for u in allseeds:\n",
    "        candidates_ranking[u] = []\n",
    "        \n",
    "    # features file reading and metadata inclusion\n",
    "    userdata = pd.read_csv(path+'noun_network_{}_nodes.csv'.format(test), sep='\\t') # match graph id and user instance\n",
    "    data = pd.read_csv(path+'user_features_w_{}.emb'.format(test), sep=' ', header=None, skiprows=1)\n",
    "    data = userdata.merge(data, left_on='id', right_on=0)\n",
    "    data.drop(0, inplace=True, axis=1)\n",
    "    data.columns = ['id_graph','id_user','username','usertype']+header\n",
    "\n",
    "    data = data[data['usertype'].isin(['seed','user'])]\n",
    "    data.reset_index(inplace=True)\n",
    "    \n",
    "    ysum = np.zeros(data.shape[0] - 10)\n",
    "    #alldistr = pd.DataFrame(columns=['sim','freq'])\n",
    "\n",
    "    for seeds in combinations:\n",
    "        effective_seeds = list(seeds)\n",
    "        good_candidates = list(set(allseeds)-(set(effective_seeds)))\n",
    "\n",
    "        seedsVectors = data[data['id_user'].isin(effective_seeds)]\n",
    "        centroid = computeCentroid(seedsVectors, header)\n",
    "        candidates = data[~data['id_user'].isin(effective_seeds)]\n",
    "\n",
    "        r = candidatesRanking(candidates, centroid, header)\n",
    "        r['good'] = r.apply(lambda x: True if x['id_user'] in good_candidates else False, axis=1)\n",
    "        y = cumulativeGoodCandidates(r)\n",
    "        ysum = ysum + y\n",
    "        \n",
    "        for index, candidate in r[r['good'] == True].iterrows():\n",
    "            id_user = candidate['id_user']\n",
    "            candidates_ranking[id_user].append(index+1)\n",
    "\n",
    "        #sim_distr = computeSimDistribution(r, 3)\n",
    "        #alldistr = pd.concat([alldistr, sim_distr])\n",
    "\n",
    "    y_avg = ysum.astype(float)/len(combinations)\n",
    "    \n",
    "    plt.figure(figsize=(14,8))\n",
    "    plt.title('Cumulative good candidates for nouns network - Test {}'.format(test))\n",
    "    plt.ylabel('#good candidates')\n",
    "    plt.xlabel('ranking position')\n",
    "\n",
    "    plt.plot(y_avg)\n",
    "    plt.plot([0, len(y_avg)],[0, 10], linestyle='--', color='black')\n",
    "    plt.xlim(xmin=1)\n",
    "\n",
    "    plt.yticks(range(1,11))\n",
    "    plt.grid(True)"
   ]
  },
  {
   "cell_type": "code",
   "execution_count": 16,
   "metadata": {},
   "outputs": [
    {
     "name": "stdout",
     "output_type": "stream",
     "text": [
      "eu_eurostat 55.1666666667\n",
      "fgoria 15.8596491228\n",
      "laurenlacapra 2.69811320755\n",
      "dsquareddigest 14.9322033898\n",
      "howardlindzon 11.7058823529\n",
      "keithmccullough 39.0163934426\n",
      "queen_europe 4.65957446809\n",
      "reinman_mt 85.387755102\n",
      "lamonicabuzz 36.8039215686\n",
      "faulljonathan 85.9268292683\n",
      "kathylienfx 7.48571428571\n",
      "justinwolfers 2.62903225806\n",
      "ezraklein 6.0652173913\n",
      "rencapman 9.5625\n",
      "economistmeg 1.08333333333\n",
      "bill_easterly 7.07317073171\n",
      "firoozye 5.88235294118\n",
      "reformedbroker 1.66666666667\n",
      "katie_martin_fx 1.9347826087\n",
      "economisthulk 127.923076923\n"
     ]
    }
   ],
   "source": [
    "for id_user in candidates_ranking:\n",
    "    print seed_data[seed_data['id_user'] == int(id_user)]['screen_name'].values[0], np.mean(candidates_ranking[id_user])"
   ]
  },
  {
   "cell_type": "code",
   "execution_count": 17,
   "metadata": {},
   "outputs": [
    {
     "name": "stdout",
     "output_type": "stream",
     "text": [
      "300868924 [63, 42, 72, 50, 50, 50, 25, 88, 50, 92, 60, 57, 41, 86, 93, 48, 53, 64, 17, 50, 32, 48, 38, 50, 63, 38, 62, 57, 65, 74, 47, 82, 26, 20, 61, 47, 47, 27, 65, 36, 54, 77, 45, 69, 93, 49, 73, 52]\n",
      "6361512 [22, 7, 26, 14, 3, 3, 15, 30, 25, 26, 42, 29, 23, 18, 14, 2, 21, 12, 13, 12, 15, 19, 24, 6, 10, 5, 26, 7, 31, 22, 11, 9, 15, 14, 19, 7, 5, 19, 6, 4, 16, 8, 17, 5, 40, 10, 19, 10, 2, 11, 4, 9, 30, 21, 30, 32, 9]\n",
      "36361027 [3, 2, 2, 1, 3, 3, 2, 2, 3, 3, 3, 4, 3, 2, 4, 3, 3, 2, 3, 1, 3, 2, 1, 2, 3, 5, 3, 4, 3, 2, 2, 2, 1, 4, 3, 3, 2, 2, 3, 3, 3, 3, 4, 3, 2, 3, 4, 2, 3, 4, 1, 4, 2]\n",
      "211106542 [17, 48, 8, 5, 12, 13, 10, 13, 17, 8, 4, 6, 19, 11, 13, 20, 12, 15, 37, 44, 9, 5, 5, 23, 7, 18, 7, 13, 15, 22, 8, 11, 22, 6, 11, 37, 27, 8, 31, 6, 7, 20, 4, 11, 6, 5, 25, 29, 22, 16, 7, 7, 21, 14, 7, 22, 15, 10, 10]\n",
      "7517052 [25, 27, 4, 6, 8, 6, 26, 18, 13, 3, 16, 28, 6, 17, 5, 4, 11, 4, 10, 15, 4, 14, 5, 32, 4, 10, 28, 10, 14, 17, 39, 6, 9, 10, 13, 5, 15, 7, 7, 15, 5, 10, 7, 8, 5, 5, 8, 4, 20, 6, 3]\n",
      "18378349 [26, 68, 38, 12, 48, 21, 32, 56, 36, 45, 20, 59, 48, 35, 52, 22, 76, 72, 58, 9, 40, 53, 46, 11, 40, 43, 38, 30, 45, 38, 49, 56, 31, 23, 53, 58, 53, 63, 21, 63, 41, 11, 41, 40, 26, 14, 38, 49, 10, 43, 43, 11, 75, 36, 48, 18, 13, 28, 41, 47, 20]\n",
      "407347022 [4, 4, 7, 4, 5, 4, 4, 6, 2, 5, 5, 2, 4, 7, 10, 3, 2, 5, 6, 3, 3, 6, 4, 2, 4, 6, 6, 2, 5, 5, 2, 1, 4, 4, 10, 7, 4, 10, 5, 2, 2, 5, 3, 9, 10, 2, 4]\n",
      "372460791 [80, 81, 71, 74, 84, 77, 74, 95, 97, 87, 99, 99, 99, 80, 91, 62, 87, 93, 95, 92, 95, 95, 92, 90, 69, 64, 66, 95, 93, 98, 83, 83, 68, 92, 78, 62, 80, 107, 97, 102, 57, 86, 89, 87, 66, 84, 91, 102, 96]\n",
      "104952689 [29, 56, 41, 9, 45, 45, 16, 54, 74, 36, 46, 31, 11, 57, 42, 35, 40, 11, 40, 41, 68, 20, 33, 48, 37, 60, 44, 59, 45, 47, 21, 40, 17, 25, 45, 17, 36, 14, 44, 13, 27, 11, 32, 61, 38, 39, 19, 41, 44, 25, 48]\n",
      "575160556 [107, 101, 97, 79, 102, 87, 79, 90, 63, 90, 99, 115, 89, 69, 55, 105, 85, 50, 66, 86, 85, 102, 90, 96, 64, 93, 104, 103, 98, 71, 87, 89, 72, 84, 63, 102, 80, 75, 88, 82, 81]\n",
      "36499730 [5, 3, 17, 11, 9, 8, 22, 6, 11, 11, 5, 7, 9, 3, 4, 7, 2, 14, 5, 16, 5, 10, 3, 4, 3, 6, 5, 14, 5, 5, 5, 5, 3, 9, 5]\n",
      "327577091 [2, 5, 4, 3, 2, 2, 2, 1, 2, 3, 3, 1, 1, 3, 4, 2, 4, 2, 3, 2, 2, 2, 3, 2, 4, 3, 2, 3, 3, 3, 4, 3, 3, 1, 3, 3, 4, 3, 4, 1, 3, 2, 3, 2, 2, 2, 1, 3, 4, 4, 3, 3, 1, 3, 1, 3, 4, 4, 2, 2, 3, 1]\n",
      "18622869 [4, 5, 17, 7, 5, 4, 6, 5, 4, 6, 4, 6, 5, 3, 9, 10, 9, 4, 4, 4, 8, 2, 5, 5, 6, 3, 5, 7, 7, 8, 3, 9, 5, 8, 7, 7, 10, 5, 3, 7, 13, 2, 6, 4, 7, 6]\n",
      "397489668 [6, 10, 5, 10, 2, 14, 4, 5, 4, 8, 21, 14, 5, 7, 23, 4, 9, 11, 6, 5, 12, 11, 4, 8, 19, 7, 13, 5, 22, 8, 8, 9, 7, 4, 16, 5, 4, 20, 26, 23, 12, 6, 6, 6, 6, 5, 9, 5]\n",
      "241709263 [1, 1, 1, 1, 1, 1, 1, 1, 1, 1, 1, 2, 1, 1, 1, 1, 1, 1, 1, 1, 1, 1, 1, 1, 1, 1, 1, 1, 1, 1, 1, 1, 1, 3, 1, 1, 1, 1, 1, 1, 1, 1, 1, 1, 1, 1, 2, 1]\n",
      "35810531 [3, 3, 9, 4, 11, 10, 16, 6, 5, 6, 10, 4, 5, 4, 7, 8, 10, 6, 5, 9, 12, 9, 6, 3, 3, 4, 6, 7, 9, 4, 3, 3, 8, 19, 3, 11, 1, 6, 12, 10, 10]\n",
      "31137628 [6, 4, 5, 6, 8, 7, 6, 4, 8, 2, 7, 4, 10, 7, 7, 6, 6, 5, 6, 5, 6, 4, 7, 5, 9, 4, 6, 4, 4, 4, 6, 5, 5, 11, 4, 5, 8, 6, 9, 5, 5, 4, 8, 3, 4, 11, 7, 6, 7, 7, 2]\n",
      "22522178 [2, 1, 1, 2, 2, 2, 2, 2, 1, 3, 1, 2, 1, 1, 2, 3, 2, 2, 1, 1, 3, 1, 1, 2, 3, 1, 1, 2, 2, 2, 2, 2, 2, 1, 1, 2, 2, 1, 2, 1, 1, 1, 2, 2, 1, 2, 1, 1, 1, 2, 2, 2, 1, 3]\n",
      "57268394 [3, 2, 1, 1, 2, 1, 3, 1, 1, 2, 1, 2, 1, 1, 2, 4, 3, 3, 2, 4, 2, 3, 1, 2, 3, 2, 1, 2, 2, 2, 2, 1, 1, 2, 3, 2, 1, 2, 2, 2, 1, 2, 1, 3, 3, 1]\n",
      "1305698738 [119, 129, 118, 126, 121, 120, 130, 134, 126, 129, 134, 121, 130, 128, 132, 132, 134, 133, 131, 121, 138, 130, 129, 131, 124, 121, 125, 133, 131, 123, 136, 133, 134, 133, 128, 130, 122, 127, 122, 136, 118, 122, 124, 125, 127, 131, 136, 117, 130, 129, 127, 132]\n"
     ]
    }
   ],
   "source": [
    "for id_user in candidates_ranking:\n",
    "    print id_user, candidates_ranking[id_user]"
   ]
  },
  {
   "cell_type": "code",
   "execution_count": null,
   "metadata": {
    "collapsed": true
   },
   "outputs": [],
   "source": []
  }
 ],
 "metadata": {
  "kernelspec": {
   "display_name": "Python 2",
   "language": "python",
   "name": "python2"
  },
  "language_info": {
   "codemirror_mode": {
    "name": "ipython",
    "version": 2
   },
   "file_extension": ".py",
   "mimetype": "text/x-python",
   "name": "python",
   "nbconvert_exporter": "python",
   "pygments_lexer": "ipython2",
   "version": "2.7.13"
  }
 },
 "nbformat": 4,
 "nbformat_minor": 2
}
