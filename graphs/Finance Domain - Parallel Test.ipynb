{
 "cells": [
  {
   "cell_type": "code",
   "execution_count": 1,
   "metadata": {
    "collapsed": true
   },
   "outputs": [],
   "source": [
    "import pandas as pd\n",
    "import numpy as np\n",
    "\n",
    "from numpy.linalg import norm\n",
    "from sklearn.decomposition import PCA\n",
    "\n",
    "import itertools\n",
    "import random\n",
    "\n",
    "import pickle\n",
    "\n",
    "import matplotlib.pyplot as plt\n",
    "%matplotlib inline"
   ]
  },
  {
   "cell_type": "markdown",
   "metadata": {},
   "source": [
    "Extract network features and use them to compute similarity between 20 seeds in the <b>finance domain</b> and <b>random users</b>."
   ]
  },
  {
   "cell_type": "markdown",
   "metadata": {},
   "source": [
    "The idea is to keep part of the seeds as seeds and the other part as good candidates, while all the random users are bad candidates. In this way it is possible to assess automatically the goodness of the method, because the groundtruth is already validated."
   ]
  },
  {
   "cell_type": "markdown",
   "metadata": {},
   "source": [
    "Steps to follow:\n",
    "1. Split seeds in candidates and effective seeds (10/10) - <b> define shared list of combinations </b>\n",
    "2. Compute centroid with effective seeds\n",
    "3. Rank random users and candidates with respect to the centroid\n",
    "4. Compute #good candidates extracted at each level of ranking and plot the resulting line against the random ranking (linear)\n",
    "5. Iterate with different splits\n",
    "6. Compare with respect to the fingerprint method"
   ]
  },
  {
   "cell_type": "code",
   "execution_count": 2,
   "metadata": {
    "collapsed": true
   },
   "outputs": [],
   "source": [
    "# ranking is based on distance similarity\n",
    "def candidatesRanking(candidates, centroid, features):\n",
    "    #centroid_v = np.array(centroid[features])\n",
    "    \n",
    "    output = pd.DataFrame()\n",
    "    output['distance'] = candidates.apply(lambda x: norm(np.array(x[features]) - centroid), axis=1)\n",
    "    output['username'] = candidates['username']\n",
    "    output['id_user'] = candidates['id_user']\n",
    "    output['similarity'] = output.apply(lambda x: 1/(1+x['distance']), axis=1)\n",
    "    #output['link'] = output.apply(lambda x: 'www.twitter.com/'+x['username']+'/', axis=1)\n",
    "    \n",
    "    output.sort_values(by='similarity', ascending=False, inplace=True)\n",
    "    \n",
    "    # reset_index -> index+1 becomes the ranking\n",
    "    output.reset_index(inplace=True)\n",
    "    \n",
    "    return output"
   ]
  },
  {
   "cell_type": "code",
   "execution_count": 3,
   "metadata": {
    "collapsed": true
   },
   "outputs": [],
   "source": [
    "def computeCentroid(seeds, normheader):\n",
    "    arrays = [np.array(x[normheader]) for index, x in seeds.iterrows()]\n",
    "    \n",
    "    return np.sum(arrays, axis=0)/seeds.shape[0]"
   ]
  },
  {
   "cell_type": "code",
   "execution_count": 4,
   "metadata": {
    "collapsed": true
   },
   "outputs": [],
   "source": [
    "def cumulativeGoodCandidates(ranking):\n",
    "    cumulative = []\n",
    "    n_good_candidates = 0\n",
    "    \n",
    "    for index, ranked_user in ranking.iterrows():\n",
    "        if ranked_user['good'] == True:\n",
    "            n_good_candidates = n_good_candidates + 1\n",
    "        cumulative.append(n_good_candidates)\n",
    "        \n",
    "    return np.array(cumulative)"
   ]
  },
  {
   "cell_type": "code",
   "execution_count": 5,
   "metadata": {
    "collapsed": true
   },
   "outputs": [],
   "source": [
    "def plotData(seeds, candidates, components):\n",
    "    x = components[0]\n",
    "    y = components[1]\n",
    "    \n",
    "    plt.figure(figsize=(12,12))\n",
    "    plt.scatter(candidates[x], candidates[y], marker='.', s=40, lw=0, alpha=0.7)\n",
    "    plt.scatter(seeds[x], seeds[y], marker='x', color='red')"
   ]
  },
  {
   "cell_type": "code",
   "execution_count": 6,
   "metadata": {
    "collapsed": true
   },
   "outputs": [],
   "source": [
    "def computeSimDistribution(ranking, float_prec):\n",
    "    prec_str = '%.{}f'.format(float_prec)\n",
    "    ranking['truncated'] = ranking.apply(lambda x: float(prec_str%(x['similarity'])), axis=1)\n",
    "    \n",
    "    y = ranking.groupby(by='truncated').count().reset_index()[['truncated','similarity']]\n",
    "    y.columns = ['sim','freq']\n",
    "    y.sort_values(by='sim', inplace=True)\n",
    "    \n",
    "    return y"
   ]
  },
  {
   "cell_type": "code",
   "execution_count": 7,
   "metadata": {
    "collapsed": true
   },
   "outputs": [],
   "source": [
    "header = ['{}'.format(i) for i in range(1,9)]"
   ]
  },
  {
   "cell_type": "markdown",
   "metadata": {},
   "source": [
    "## List of members/candidates combinations"
   ]
  },
  {
   "cell_type": "markdown",
   "metadata": {},
   "source": [
    "Generate the combinations of ids to be used as actual members (the others are the good candidates by set difference)"
   ]
  },
  {
   "cell_type": "code",
   "execution_count": null,
   "metadata": {
    "collapsed": true
   },
   "outputs": [],
   "source": [
    "allseeds = map(str, list(pd.read_csv(datapath+'/user.csv', sep='\\t')['id_user']))\n",
    "len(allseeds)"
   ]
  },
  {
   "cell_type": "code",
   "execution_count": null,
   "metadata": {
    "collapsed": true
   },
   "outputs": [],
   "source": [
    "N = 10\n",
    "all_combinations = list(itertools.combinations(allseeds, N))\n",
    "print len(all_combinations)"
   ]
  },
  {
   "cell_type": "code",
   "execution_count": null,
   "metadata": {
    "collapsed": true
   },
   "outputs": [],
   "source": [
    "shared_combinations = random.sample(all_combinations, 100)"
   ]
  },
  {
   "cell_type": "code",
   "execution_count": null,
   "metadata": {
    "collapsed": true
   },
   "outputs": [],
   "source": [
    "with open('../all_members_list.pkl', 'w') as alldata:\n",
    "    pickle.dump(allseeds, alldata)\n",
    "with open('../combinations.pkl', 'w') as currdata:\n",
    "    pickle.dump(shared_combinations, currdata)"
   ]
  },
  {
   "cell_type": "markdown",
   "metadata": {},
   "source": [
    "# Run tests with fixed combinations"
   ]
  },
  {
   "cell_type": "code",
   "execution_count": 8,
   "metadata": {
    "collapsed": true
   },
   "outputs": [],
   "source": [
    "allseeds = pickle.load(open('../all_members_list.pkl', 'r'))\n",
    "combinations = pickle.load(open('../combinations.pkl', 'r'))"
   ]
  },
  {
   "cell_type": "code",
   "execution_count": 9,
   "metadata": {},
   "outputs": [
    {
     "data": {
      "text/plain": [
       "['36361027',\n",
       " '104952689',\n",
       " '35810531',\n",
       " '6361512',\n",
       " '31137628',\n",
       " '18622869',\n",
       " '241709263',\n",
       " '397489668',\n",
       " '18378349',\n",
       " '327577091',\n",
       " '7517052',\n",
       " '1305698738',\n",
       " '22522178',\n",
       " '372460791',\n",
       " '300868924',\n",
       " '211106542',\n",
       " '575160556',\n",
       " '407347022',\n",
       " '36499730',\n",
       " '57268394']"
      ]
     },
     "execution_count": 9,
     "metadata": {},
     "output_type": "execute_result"
    }
   ],
   "source": [
    "allseeds"
   ]
  },
  {
   "cell_type": "code",
   "execution_count": 10,
   "metadata": {},
   "outputs": [
    {
     "data": {
      "text/plain": [
       "100"
      ]
     },
     "execution_count": 10,
     "metadata": {},
     "output_type": "execute_result"
    }
   ],
   "source": [
    "len(combinations)"
   ]
  },
  {
   "cell_type": "code",
   "execution_count": 11,
   "metadata": {
    "collapsed": true
   },
   "outputs": [],
   "source": [
    "domain = 'finance_20'\n",
    "datapath = 'data-seed/{}/'.format(domain)\n",
    "seed_data = pd.read_csv(datapath+'/user.csv', sep='\\t')"
   ]
  },
  {
   "cell_type": "markdown",
   "metadata": {
    "collapsed": true
   },
   "source": [
    "## Nouns Network Test - 1"
   ]
  },
  {
   "cell_type": "code",
   "execution_count": 17,
   "metadata": {},
   "outputs": [
    {
     "name": "stdout",
     "output_type": "stream",
     "text": [
      "Average P@20: 6.77\n"
     ]
    },
    {
     "data": {
      "image/png": "[encoded data removed]",
      "text/plain": [
       "<matplotlib.figure.Figure at 0x1f010080>"
      ]
     },
     "metadata": {},
     "output_type": "display_data"
    }
   ],
   "source": [
    "path = '{}/random-test/test-network-features/'.format(domain) \n",
    "\n",
    "for test in [1]:\n",
    "    # store the retrieval position of each seed\n",
    "    candidates_ranking = {}\n",
    "    for u in allseeds:\n",
    "        candidates_ranking[u] = []\n",
    "        \n",
    "    # features file reading and metadata inclusion\n",
    "    userdata = pd.read_csv(path+'noun_network_{}_nodes.csv'.format(test), sep='\\t') # match graph id and user instance\n",
    "    data = pd.read_csv(path+'user_features_w_{}.emb'.format(test), sep=' ', header=None, skiprows=1)\n",
    "    data = userdata.merge(data, left_on='id', right_on=0)\n",
    "    data.drop(0, inplace=True, axis=1)\n",
    "    data.columns = ['id_graph','id_user','username','usertype']+header\n",
    "\n",
    "    data = data[data['usertype'].isin(['seed','user'])]\n",
    "    data.reset_index(inplace=True)\n",
    "    \n",
    "    # store everyone ranking to check if, on average, some interesting user comes up\n",
    "    all_ranking = {}\n",
    "    for u in list(data['id_user']):\n",
    "        all_ranking[u] = []\n",
    "    \n",
    "    ysum = np.zeros(data.shape[0] - 10)\n",
    "    #alldistr = pd.DataFrame(columns=['sim','freq'])\n",
    "    prec_20 = []\n",
    "    \n",
    "    for seeds in combinations:\n",
    "        effective_seeds = list(seeds)\n",
    "        good_candidates = list(set(allseeds)-(set(effective_seeds)))\n",
    "\n",
    "        seedsVectors = data[data['id_user'].isin(effective_seeds)]\n",
    "        centroid = computeCentroid(seedsVectors, header)\n",
    "        candidates = data[~data['id_user'].isin(effective_seeds)]\n",
    "\n",
    "        r = candidatesRanking(candidates, centroid, header)\n",
    "        r['good'] = r.apply(lambda x: True if x['id_user'] in good_candidates else False, axis=1)\n",
    "        y = cumulativeGoodCandidates(r)\n",
    "        ysum = ysum + y\n",
    "        \n",
    "        for index, candidate in r[r['good'] == True].iterrows():\n",
    "            id_user = candidate['id_user']\n",
    "            candidates_ranking[id_user].append(index+1)\n",
    "        \n",
    "        for index, candidate in r.iterrows():\n",
    "            id_user = candidate['id_user']\n",
    "            all_ranking[id_user].append(index+1)\n",
    "        \n",
    "        prec_20.append(cumulativeGoodCandidates(r[:20])[19])\n",
    "        #sim_distr = computeSimDistribution(r, 3)\n",
    "        #alldistr = pd.concat([alldistr, sim_distr])\n",
    "\n",
    "    y_avg = ysum.astype(float)/len(combinations)\n",
    "    \n",
    "    plt.figure(figsize=(14,8))\n",
    "    plt.title('Cumulative good candidates for nouns network - Test {}'.format(test))\n",
    "    plt.ylabel('#good candidates')\n",
    "    plt.xlabel('ranking position')\n",
    "\n",
    "    plt.plot(y_avg)\n",
    "    plt.plot([0, len(y_avg)],[0, 10], linestyle='--', color='black')\n",
    "    plt.xlim(xmin=1)\n",
    "\n",
    "    plt.yticks(range(1,11))\n",
    "    plt.grid(True)\n",
    "    \n",
    "    print 'Average P@20: {:.2f}'.format(np.mean(prec_20))"
   ]
  },
  {
   "cell_type": "code",
   "execution_count": 14,
   "metadata": {
    "collapsed": true
   },
   "outputs": [],
   "source": [
    "result = []\n",
    "for id_user in sorted(candidates_ranking, key=candidates_ranking.get):\n",
    "    result.append(tuple(\n",
    "        (seed_data[seed_data['id_user'] == int(id_user)]['screen_name'].values[0], np.mean(candidates_ranking[id_user]))\n",
    "    ))"
   ]
  },
  {
   "cell_type": "code",
   "execution_count": 15,
   "metadata": {},
   "outputs": [
    {
     "data": {
      "text/html": [
       "<div>\n",
       "<style>\n",
       "    .dataframe thead tr:only-child th {\n",
       "        text-align: right;\n",
       "    }\n",
       "\n",
       "    .dataframe thead th {\n",
       "        text-align: left;\n",
       "    }\n",
       "\n",
       "    .dataframe tbody tr th {\n",
       "        vertical-align: top;\n",
       "    }\n",
       "</style>\n",
       "<table border=\"1\" class=\"dataframe\">\n",
       "  <thead>\n",
       "    <tr style=\"text-align: right;\">\n",
       "      <th></th>\n",
       "      <th>screen_name</th>\n",
       "      <th>ranking</th>\n",
       "    </tr>\n",
       "  </thead>\n",
       "  <tbody>\n",
       "    <tr>\n",
       "      <th>0</th>\n",
       "      <td>economistmeg</td>\n",
       "      <td>1.083333</td>\n",
       "    </tr>\n",
       "    <tr>\n",
       "      <th>1</th>\n",
       "      <td>reformedbroker</td>\n",
       "      <td>1.666667</td>\n",
       "    </tr>\n",
       "    <tr>\n",
       "      <th>3</th>\n",
       "      <td>katie_martin_fx</td>\n",
       "      <td>1.934783</td>\n",
       "    </tr>\n",
       "    <tr>\n",
       "      <th>2</th>\n",
       "      <td>justinwolfers</td>\n",
       "      <td>2.629032</td>\n",
       "    </tr>\n",
       "    <tr>\n",
       "      <th>4</th>\n",
       "      <td>laurenlacapra</td>\n",
       "      <td>2.698113</td>\n",
       "    </tr>\n",
       "    <tr>\n",
       "      <th>6</th>\n",
       "      <td>queen_europe</td>\n",
       "      <td>4.659574</td>\n",
       "    </tr>\n",
       "    <tr>\n",
       "      <th>9</th>\n",
       "      <td>firoozye</td>\n",
       "      <td>5.882353</td>\n",
       "    </tr>\n",
       "    <tr>\n",
       "      <th>7</th>\n",
       "      <td>ezraklein</td>\n",
       "      <td>6.065217</td>\n",
       "    </tr>\n",
       "    <tr>\n",
       "      <th>5</th>\n",
       "      <td>bill_easterly</td>\n",
       "      <td>7.073171</td>\n",
       "    </tr>\n",
       "    <tr>\n",
       "      <th>8</th>\n",
       "      <td>kathylienfx</td>\n",
       "      <td>7.485714</td>\n",
       "    </tr>\n",
       "    <tr>\n",
       "      <th>10</th>\n",
       "      <td>rencapman</td>\n",
       "      <td>9.562500</td>\n",
       "    </tr>\n",
       "    <tr>\n",
       "      <th>13</th>\n",
       "      <td>howardlindzon</td>\n",
       "      <td>11.705882</td>\n",
       "    </tr>\n",
       "    <tr>\n",
       "      <th>11</th>\n",
       "      <td>dsquareddigest</td>\n",
       "      <td>14.932203</td>\n",
       "    </tr>\n",
       "    <tr>\n",
       "      <th>12</th>\n",
       "      <td>fgoria</td>\n",
       "      <td>15.859649</td>\n",
       "    </tr>\n",
       "    <tr>\n",
       "      <th>15</th>\n",
       "      <td>lamonicabuzz</td>\n",
       "      <td>36.803922</td>\n",
       "    </tr>\n",
       "    <tr>\n",
       "      <th>14</th>\n",
       "      <td>keithmccullough</td>\n",
       "      <td>39.016393</td>\n",
       "    </tr>\n",
       "    <tr>\n",
       "      <th>16</th>\n",
       "      <td>eu_eurostat</td>\n",
       "      <td>55.166667</td>\n",
       "    </tr>\n",
       "    <tr>\n",
       "      <th>17</th>\n",
       "      <td>reinman_mt</td>\n",
       "      <td>85.387755</td>\n",
       "    </tr>\n",
       "    <tr>\n",
       "      <th>18</th>\n",
       "      <td>faulljonathan</td>\n",
       "      <td>85.926829</td>\n",
       "    </tr>\n",
       "    <tr>\n",
       "      <th>19</th>\n",
       "      <td>economisthulk</td>\n",
       "      <td>127.923077</td>\n",
       "    </tr>\n",
       "  </tbody>\n",
       "</table>\n",
       "</div>"
      ],
      "text/plain": [
       "        screen_name     ranking\n",
       "0      economistmeg    1.083333\n",
       "1    reformedbroker    1.666667\n",
       "3   katie_martin_fx    1.934783\n",
       "2     justinwolfers    2.629032\n",
       "4     laurenlacapra    2.698113\n",
       "6      queen_europe    4.659574\n",
       "9          firoozye    5.882353\n",
       "7         ezraklein    6.065217\n",
       "5     bill_easterly    7.073171\n",
       "8       kathylienfx    7.485714\n",
       "10        rencapman    9.562500\n",
       "13    howardlindzon   11.705882\n",
       "11   dsquareddigest   14.932203\n",
       "12           fgoria   15.859649\n",
       "15     lamonicabuzz   36.803922\n",
       "14  keithmccullough   39.016393\n",
       "16      eu_eurostat   55.166667\n",
       "17       reinman_mt   85.387755\n",
       "18    faulljonathan   85.926829\n",
       "19    economisthulk  127.923077"
      ]
     },
     "execution_count": 15,
     "metadata": {},
     "output_type": "execute_result"
    }
   ],
   "source": [
    "pd.DataFrame(result, columns=['screen_name', 'ranking']).sort_values(by='ranking')"
   ]
  },
  {
   "cell_type": "code",
   "execution_count": 16,
   "metadata": {},
   "outputs": [
    {
     "name": "stdout",
     "output_type": "stream",
     "text": [
      "300868924 [63, 42, 72, 50, 50, 50, 25, 88, 50, 92, 60, 57, 41, 86, 93, 48, 53, 64, 17, 50, 32, 48, 38, 50, 63, 38, 62, 57, 65, 74, 47, 82, 26, 20, 61, 47, 47, 27, 65, 36, 54, 77, 45, 69, 93, 49, 73, 52]\n",
      "6361512 [22, 7, 26, 14, 3, 3, 15, 30, 25, 26, 42, 29, 23, 18, 14, 2, 21, 12, 13, 12, 15, 19, 24, 6, 10, 5, 26, 7, 31, 22, 11, 9, 15, 14, 19, 7, 5, 19, 6, 4, 16, 8, 17, 5, 40, 10, 19, 10, 2, 11, 4, 9, 30, 21, 30, 32, 9]\n",
      "36361027 [3, 2, 2, 1, 3, 3, 2, 2, 3, 3, 3, 4, 3, 2, 4, 3, 3, 2, 3, 1, 3, 2, 1, 2, 3, 5, 3, 4, 3, 2, 2, 2, 1, 4, 3, 3, 2, 2, 3, 3, 3, 3, 4, 3, 2, 3, 4, 2, 3, 4, 1, 4, 2]\n",
      "211106542 [17, 48, 8, 5, 12, 13, 10, 13, 17, 8, 4, 6, 19, 11, 13, 20, 12, 15, 37, 44, 9, 5, 5, 23, 7, 18, 7, 13, 15, 22, 8, 11, 22, 6, 11, 37, 27, 8, 31, 6, 7, 20, 4, 11, 6, 5, 25, 29, 22, 16, 7, 7, 21, 14, 7, 22, 15, 10, 10]\n",
      "7517052 [25, 27, 4, 6, 8, 6, 26, 18, 13, 3, 16, 28, 6, 17, 5, 4, 11, 4, 10, 15, 4, 14, 5, 32, 4, 10, 28, 10, 14, 17, 39, 6, 9, 10, 13, 5, 15, 7, 7, 15, 5, 10, 7, 8, 5, 5, 8, 4, 20, 6, 3]\n",
      "18378349 [26, 68, 38, 12, 48, 21, 32, 56, 36, 45, 20, 59, 48, 35, 52, 22, 76, 72, 58, 9, 40, 53, 46, 11, 40, 43, 38, 30, 45, 38, 49, 56, 31, 23, 53, 58, 53, 63, 21, 63, 41, 11, 41, 40, 26, 14, 38, 49, 10, 43, 43, 11, 75, 36, 48, 18, 13, 28, 41, 47, 20]\n",
      "407347022 [4, 4, 7, 4, 5, 4, 4, 6, 2, 5, 5, 2, 4, 7, 10, 3, 2, 5, 6, 3, 3, 6, 4, 2, 4, 6, 6, 2, 5, 5, 2, 1, 4, 4, 10, 7, 4, 10, 5, 2, 2, 5, 3, 9, 10, 2, 4]\n",
      "372460791 [80, 81, 71, 74, 84, 77, 74, 95, 97, 87, 99, 99, 99, 80, 91, 62, 87, 93, 95, 92, 95, 95, 92, 90, 69, 64, 66, 95, 93, 98, 83, 83, 68, 92, 78, 62, 80, 107, 97, 102, 57, 86, 89, 87, 66, 84, 91, 102, 96]\n",
      "104952689 [29, 56, 41, 9, 45, 45, 16, 54, 74, 36, 46, 31, 11, 57, 42, 35, 40, 11, 40, 41, 68, 20, 33, 48, 37, 60, 44, 59, 45, 47, 21, 40, 17, 25, 45, 17, 36, 14, 44, 13, 27, 11, 32, 61, 38, 39, 19, 41, 44, 25, 48]\n",
      "575160556 [107, 101, 97, 79, 102, 87, 79, 90, 63, 90, 99, 115, 89, 69, 55, 105, 85, 50, 66, 86, 85, 102, 90, 96, 64, 93, 104, 103, 98, 71, 87, 89, 72, 84, 63, 102, 80, 75, 88, 82, 81]\n",
      "36499730 [5, 3, 17, 11, 9, 8, 22, 6, 11, 11, 5, 7, 9, 3, 4, 7, 2, 14, 5, 16, 5, 10, 3, 4, 3, 6, 5, 14, 5, 5, 5, 5, 3, 9, 5]\n",
      "327577091 [2, 5, 4, 3, 2, 2, 2, 1, 2, 3, 3, 1, 1, 3, 4, 2, 4, 2, 3, 2, 2, 2, 3, 2, 4, 3, 2, 3, 3, 3, 4, 3, 3, 1, 3, 3, 4, 3, 4, 1, 3, 2, 3, 2, 2, 2, 1, 3, 4, 4, 3, 3, 1, 3, 1, 3, 4, 4, 2, 2, 3, 1]\n",
      "18622869 [4, 5, 17, 7, 5, 4, 6, 5, 4, 6, 4, 6, 5, 3, 9, 10, 9, 4, 4, 4, 8, 2, 5, 5, 6, 3, 5, 7, 7, 8, 3, 9, 5, 8, 7, 7, 10, 5, 3, 7, 13, 2, 6, 4, 7, 6]\n",
      "397489668 [6, 10, 5, 10, 2, 14, 4, 5, 4, 8, 21, 14, 5, 7, 23, 4, 9, 11, 6, 5, 12, 11, 4, 8, 19, 7, 13, 5, 22, 8, 8, 9, 7, 4, 16, 5, 4, 20, 26, 23, 12, 6, 6, 6, 6, 5, 9, 5]\n",
      "241709263 [1, 1, 1, 1, 1, 1, 1, 1, 1, 1, 1, 2, 1, 1, 1, 1, 1, 1, 1, 1, 1, 1, 1, 1, 1, 1, 1, 1, 1, 1, 1, 1, 1, 3, 1, 1, 1, 1, 1, 1, 1, 1, 1, 1, 1, 1, 2, 1]\n",
      "35810531 [3, 3, 9, 4, 11, 10, 16, 6, 5, 6, 10, 4, 5, 4, 7, 8, 10, 6, 5, 9, 12, 9, 6, 3, 3, 4, 6, 7, 9, 4, 3, 3, 8, 19, 3, 11, 1, 6, 12, 10, 10]\n",
      "31137628 [6, 4, 5, 6, 8, 7, 6, 4, 8, 2, 7, 4, 10, 7, 7, 6, 6, 5, 6, 5, 6, 4, 7, 5, 9, 4, 6, 4, 4, 4, 6, 5, 5, 11, 4, 5, 8, 6, 9, 5, 5, 4, 8, 3, 4, 11, 7, 6, 7, 7, 2]\n",
      "22522178 [2, 1, 1, 2, 2, 2, 2, 2, 1, 3, 1, 2, 1, 1, 2, 3, 2, 2, 1, 1, 3, 1, 1, 2, 3, 1, 1, 2, 2, 2, 2, 2, 2, 1, 1, 2, 2, 1, 2, 1, 1, 1, 2, 2, 1, 2, 1, 1, 1, 2, 2, 2, 1, 3]\n",
      "57268394 [3, 2, 1, 1, 2, 1, 3, 1, 1, 2, 1, 2, 1, 1, 2, 4, 3, 3, 2, 4, 2, 3, 1, 2, 3, 2, 1, 2, 2, 2, 2, 1, 1, 2, 3, 2, 1, 2, 2, 2, 1, 2, 1, 3, 3, 1]\n",
      "1305698738 [119, 129, 118, 126, 121, 120, 130, 134, 126, 129, 134, 121, 130, 128, 132, 132, 134, 133, 131, 121, 138, 130, 129, 131, 124, 121, 125, 133, 131, 123, 136, 133, 134, 133, 128, 130, 122, 127, 122, 136, 118, 122, 124, 125, 127, 131, 136, 117, 130, 129, 127, 132]\n"
     ]
    }
   ],
   "source": [
    "for id_user in candidates_ranking:\n",
    "    print id_user, candidates_ranking[id_user]"
   ]
  },
  {
   "cell_type": "code",
   "execution_count": 23,
   "metadata": {
    "collapsed": true
   },
   "outputs": [],
   "source": [
    "allresult = []\n",
    "for id_user in all_ranking:\n",
    "    allresult.append(tuple(\n",
    "        (id_user, data[data['id_user'] == id_user]['username'].values[0], np.mean(all_ranking[id_user]))\n",
    "    ))"
   ]
  },
  {
   "cell_type": "code",
   "execution_count": 25,
   "metadata": {
    "collapsed": true
   },
   "outputs": [],
   "source": [
    "df_all = pd.DataFrame(allresult, columns=['id_user', 'screen_name', 'ranking']).sort_values(by='ranking')\n",
    "df_all['member'] = df_all.apply(lambda x: 'seed' if x['id_user'] in allseeds else 'random', axis=1)"
   ]
  },
  {
   "cell_type": "code",
   "execution_count": 28,
   "metadata": {
    "scrolled": true
   },
   "outputs": [
    {
     "data": {
      "text/html": [
       "<div>\n",
       "<style>\n",
       "    .dataframe thead tr:only-child th {\n",
       "        text-align: right;\n",
       "    }\n",
       "\n",
       "    .dataframe thead th {\n",
       "        text-align: left;\n",
       "    }\n",
       "\n",
       "    .dataframe tbody tr th {\n",
       "        vertical-align: top;\n",
       "    }\n",
       "</style>\n",
       "<table border=\"1\" class=\"dataframe\">\n",
       "  <thead>\n",
       "    <tr style=\"text-align: right;\">\n",
       "      <th></th>\n",
       "      <th>id_user</th>\n",
       "      <th>screen_name</th>\n",
       "      <th>ranking</th>\n",
       "      <th>member</th>\n",
       "    </tr>\n",
       "  </thead>\n",
       "  <tbody>\n",
       "    <tr>\n",
       "      <th>91</th>\n",
       "      <td>241709263</td>\n",
       "      <td>economistmeg</td>\n",
       "      <td>1.083333</td>\n",
       "      <td>seed</td>\n",
       "    </tr>\n",
       "    <tr>\n",
       "      <th>62</th>\n",
       "      <td>22522178</td>\n",
       "      <td>reformedbroker</td>\n",
       "      <td>1.666667</td>\n",
       "      <td>seed</td>\n",
       "    </tr>\n",
       "    <tr>\n",
       "      <th>32</th>\n",
       "      <td>57268394</td>\n",
       "      <td>katie_martin_fx</td>\n",
       "      <td>1.934783</td>\n",
       "      <td>seed</td>\n",
       "    </tr>\n",
       "    <tr>\n",
       "      <th>134</th>\n",
       "      <td>327577091</td>\n",
       "      <td>justinwolfers</td>\n",
       "      <td>2.629032</td>\n",
       "      <td>seed</td>\n",
       "    </tr>\n",
       "    <tr>\n",
       "      <th>101</th>\n",
       "      <td>36361027</td>\n",
       "      <td>laurenlacapra</td>\n",
       "      <td>2.698113</td>\n",
       "      <td>seed</td>\n",
       "    </tr>\n",
       "    <tr>\n",
       "      <th>139</th>\n",
       "      <td>407347022</td>\n",
       "      <td>queen_europe</td>\n",
       "      <td>4.659574</td>\n",
       "      <td>seed</td>\n",
       "    </tr>\n",
       "    <tr>\n",
       "      <th>31</th>\n",
       "      <td>31137628</td>\n",
       "      <td>firoozye</td>\n",
       "      <td>5.882353</td>\n",
       "      <td>seed</td>\n",
       "    </tr>\n",
       "    <tr>\n",
       "      <th>60</th>\n",
       "      <td>6936172</td>\n",
       "      <td>mweigel</td>\n",
       "      <td>6.000000</td>\n",
       "      <td>random</td>\n",
       "    </tr>\n",
       "    <tr>\n",
       "      <th>52</th>\n",
       "      <td>18622869</td>\n",
       "      <td>ezraklein</td>\n",
       "      <td>6.065217</td>\n",
       "      <td>seed</td>\n",
       "    </tr>\n",
       "    <tr>\n",
       "      <th>18</th>\n",
       "      <td>35810531</td>\n",
       "      <td>bill_easterly</td>\n",
       "      <td>7.073171</td>\n",
       "      <td>seed</td>\n",
       "    </tr>\n",
       "    <tr>\n",
       "      <th>142</th>\n",
       "      <td>36499730</td>\n",
       "      <td>kathylienfx</td>\n",
       "      <td>7.485714</td>\n",
       "      <td>seed</td>\n",
       "    </tr>\n",
       "    <tr>\n",
       "      <th>48</th>\n",
       "      <td>3942</td>\n",
       "      <td>_oi___</td>\n",
       "      <td>8.470000</td>\n",
       "      <td>random</td>\n",
       "    </tr>\n",
       "    <tr>\n",
       "      <th>125</th>\n",
       "      <td>17</td>\n",
       "      <td>tonystubblebine</td>\n",
       "      <td>9.030000</td>\n",
       "      <td>random</td>\n",
       "    </tr>\n",
       "    <tr>\n",
       "      <th>39</th>\n",
       "      <td>397489668</td>\n",
       "      <td>rencapman</td>\n",
       "      <td>9.562500</td>\n",
       "      <td>seed</td>\n",
       "    </tr>\n",
       "    <tr>\n",
       "      <th>154</th>\n",
       "      <td>47</td>\n",
       "      <td>kellan</td>\n",
       "      <td>10.020000</td>\n",
       "      <td>random</td>\n",
       "    </tr>\n",
       "    <tr>\n",
       "      <th>76</th>\n",
       "      <td>7517052</td>\n",
       "      <td>howardlindzon</td>\n",
       "      <td>11.705882</td>\n",
       "      <td>seed</td>\n",
       "    </tr>\n",
       "    <tr>\n",
       "      <th>97</th>\n",
       "      <td>9320</td>\n",
       "      <td>michalp</td>\n",
       "      <td>13.160000</td>\n",
       "      <td>random</td>\n",
       "    </tr>\n",
       "    <tr>\n",
       "      <th>95</th>\n",
       "      <td>66</td>\n",
       "      <td>dunstan</td>\n",
       "      <td>13.440000</td>\n",
       "      <td>random</td>\n",
       "    </tr>\n",
       "    <tr>\n",
       "      <th>56</th>\n",
       "      <td>15883</td>\n",
       "      <td>jorgepinon</td>\n",
       "      <td>13.600000</td>\n",
       "      <td>random</td>\n",
       "    </tr>\n",
       "    <tr>\n",
       "      <th>98</th>\n",
       "      <td>211106542</td>\n",
       "      <td>dsquareddigest</td>\n",
       "      <td>14.932203</td>\n",
       "      <td>seed</td>\n",
       "    </tr>\n",
       "  </tbody>\n",
       "</table>\n",
       "</div>"
      ],
      "text/plain": [
       "       id_user      screen_name    ranking  member\n",
       "91   241709263     economistmeg   1.083333    seed\n",
       "62    22522178   reformedbroker   1.666667    seed\n",
       "32    57268394  katie_martin_fx   1.934783    seed\n",
       "134  327577091    justinwolfers   2.629032    seed\n",
       "101   36361027    laurenlacapra   2.698113    seed\n",
       "139  407347022     queen_europe   4.659574    seed\n",
       "31    31137628         firoozye   5.882353    seed\n",
       "60     6936172          mweigel   6.000000  random\n",
       "52    18622869        ezraklein   6.065217    seed\n",
       "18    35810531    bill_easterly   7.073171    seed\n",
       "142   36499730      kathylienfx   7.485714    seed\n",
       "48        3942           _oi___   8.470000  random\n",
       "125         17  tonystubblebine   9.030000  random\n",
       "39   397489668        rencapman   9.562500    seed\n",
       "154         47           kellan  10.020000  random\n",
       "76     7517052    howardlindzon  11.705882    seed\n",
       "97        9320          michalp  13.160000  random\n",
       "95          66          dunstan  13.440000  random\n",
       "56       15883       jorgepinon  13.600000  random\n",
       "98   211106542   dsquareddigest  14.932203    seed"
      ]
     },
     "execution_count": 28,
     "metadata": {},
     "output_type": "execute_result"
    }
   ],
   "source": [
    "df_all[:20]"
   ]
  },
  {
   "cell_type": "code",
   "execution_count": 18,
   "metadata": {},
   "outputs": [
    {
     "data": {
      "image/png": "[encoded data removed]",
      "text/plain": [
       "<matplotlib.figure.Figure at 0x1edd6860>"
      ]
     },
     "metadata": {},
     "output_type": "display_data"
    }
   ],
   "source": [
    "plotData(data[data['usertype'] == 'seed'], data[data['usertype']=='user'], header)"
   ]
  },
  {
   "cell_type": "markdown",
   "metadata": {
    "collapsed": true
   },
   "source": [
    "## Nouns Network Test - All Random"
   ]
  },
  {
   "cell_type": "code",
   "execution_count": 23,
   "metadata": {
    "collapsed": true
   },
   "outputs": [],
   "source": [
    "domain = 'finance_20'\n",
    "path = '{}/random-test/'.format(domain)\n",
    "randompath = 'data-random/'"
   ]
  },
  {
   "cell_type": "code",
   "execution_count": 24,
   "metadata": {},
   "outputs": [
    {
     "data": {
      "text/html": [
       "<div>\n",
       "<style>\n",
       "    .dataframe thead tr:only-child th {\n",
       "        text-align: right;\n",
       "    }\n",
       "\n",
       "    .dataframe thead th {\n",
       "        text-align: left;\n",
       "    }\n",
       "\n",
       "    .dataframe tbody tr th {\n",
       "        vertical-align: top;\n",
       "    }\n",
       "</style>\n",
       "<table border=\"1\" class=\"dataframe\">\n",
       "  <thead>\n",
       "    <tr style=\"text-align: right;\">\n",
       "      <th></th>\n",
       "      <th>index</th>\n",
       "      <th>id_graph</th>\n",
       "      <th>id_user</th>\n",
       "      <th>username</th>\n",
       "      <th>usertype</th>\n",
       "      <th>1</th>\n",
       "      <th>2</th>\n",
       "      <th>3</th>\n",
       "      <th>4</th>\n",
       "      <th>5</th>\n",
       "      <th>6</th>\n",
       "      <th>7</th>\n",
       "      <th>8</th>\n",
       "    </tr>\n",
       "  </thead>\n",
       "  <tbody>\n",
       "    <tr>\n",
       "      <th>0</th>\n",
       "      <td>0</td>\n",
       "      <td>0</td>\n",
       "      <td>36361027</td>\n",
       "      <td>laurenlacapra</td>\n",
       "      <td>seed</td>\n",
       "      <td>-2.89856</td>\n",
       "      <td>1.93564</td>\n",
       "      <td>-3.68447</td>\n",
       "      <td>-2.42179</td>\n",
       "      <td>4.44126</td>\n",
       "      <td>5.23677</td>\n",
       "      <td>2.61690</td>\n",
       "      <td>-1.71369</td>\n",
       "    </tr>\n",
       "    <tr>\n",
       "      <th>1</th>\n",
       "      <td>845</td>\n",
       "      <td>845</td>\n",
       "      <td>104952689</td>\n",
       "      <td>lamonicabuzz</td>\n",
       "      <td>seed</td>\n",
       "      <td>-3.02294</td>\n",
       "      <td>1.99816</td>\n",
       "      <td>-3.87449</td>\n",
       "      <td>-2.44990</td>\n",
       "      <td>4.62214</td>\n",
       "      <td>5.29700</td>\n",
       "      <td>2.73009</td>\n",
       "      <td>-1.80683</td>\n",
       "    </tr>\n",
       "    <tr>\n",
       "      <th>2</th>\n",
       "      <td>1410</td>\n",
       "      <td>1410</td>\n",
       "      <td>35810531</td>\n",
       "      <td>bill_easterly</td>\n",
       "      <td>seed</td>\n",
       "      <td>-2.89909</td>\n",
       "      <td>1.87014</td>\n",
       "      <td>-3.63816</td>\n",
       "      <td>-2.38163</td>\n",
       "      <td>4.32495</td>\n",
       "      <td>5.06926</td>\n",
       "      <td>2.52970</td>\n",
       "      <td>-1.67351</td>\n",
       "    </tr>\n",
       "    <tr>\n",
       "      <th>3</th>\n",
       "      <td>1798</td>\n",
       "      <td>1798</td>\n",
       "      <td>6361512</td>\n",
       "      <td>fgoria</td>\n",
       "      <td>seed</td>\n",
       "      <td>-3.02518</td>\n",
       "      <td>1.89178</td>\n",
       "      <td>-3.69543</td>\n",
       "      <td>-2.28578</td>\n",
       "      <td>4.52761</td>\n",
       "      <td>5.10321</td>\n",
       "      <td>2.59032</td>\n",
       "      <td>-1.76764</td>\n",
       "    </tr>\n",
       "    <tr>\n",
       "      <th>4</th>\n",
       "      <td>2199</td>\n",
       "      <td>2199</td>\n",
       "      <td>300868924</td>\n",
       "      <td>eu_eurostat</td>\n",
       "      <td>seed</td>\n",
       "      <td>-3.21636</td>\n",
       "      <td>1.95015</td>\n",
       "      <td>-4.01752</td>\n",
       "      <td>-2.50268</td>\n",
       "      <td>4.85479</td>\n",
       "      <td>5.49657</td>\n",
       "      <td>2.79836</td>\n",
       "      <td>-1.89539</td>\n",
       "    </tr>\n",
       "  </tbody>\n",
       "</table>\n",
       "</div>"
      ],
      "text/plain": [
       "   index  id_graph    id_user       username usertype        1        2  \\\n",
       "0      0         0   36361027  laurenlacapra     seed -2.89856  1.93564   \n",
       "1    845       845  104952689   lamonicabuzz     seed -3.02294  1.99816   \n",
       "2   1410      1410   35810531  bill_easterly     seed -2.89909  1.87014   \n",
       "3   1798      1798    6361512         fgoria     seed -3.02518  1.89178   \n",
       "4   2199      2199  300868924    eu_eurostat     seed -3.21636  1.95015   \n",
       "\n",
       "         3        4        5        6        7        8  \n",
       "0 -3.68447 -2.42179  4.44126  5.23677  2.61690 -1.71369  \n",
       "1 -3.87449 -2.44990  4.62214  5.29700  2.73009 -1.80683  \n",
       "2 -3.63816 -2.38163  4.32495  5.06926  2.52970 -1.67351  \n",
       "3 -3.69543 -2.28578  4.52761  5.10321  2.59032 -1.76764  \n",
       "4 -4.01752 -2.50268  4.85479  5.49657  2.79836 -1.89539  "
      ]
     },
     "execution_count": 24,
     "metadata": {},
     "output_type": "execute_result"
    }
   ],
   "source": [
    "# features file reading and metadata inclusion\n",
    "userdata = pd.read_csv(path+'noun_network_nodes.csv', sep='\\t') # match graph id and user instance\n",
    "data = pd.read_csv(path+'user_features_noun.emb', sep=' ', header=None, skiprows=1)\n",
    "data = userdata.merge(data, left_on='id', right_on=0)\n",
    "data.drop(0, inplace=True, axis=1)\n",
    "data.columns = ['id_graph','id_user','username','usertype']+header\n",
    "\n",
    "data = data[data['usertype'].isin(['seed','user'])]\n",
    "data.reset_index(inplace=True)\n",
    "data.head()"
   ]
  },
  {
   "cell_type": "code",
   "execution_count": 25,
   "metadata": {},
   "outputs": [
    {
     "name": "stdout",
     "output_type": "stream",
     "text": [
      "Average P@20: 4.41\n"
     ]
    },
    {
     "data": {
      "image/png": "[encoded data removed]",
      "text/plain": [
       "<matplotlib.figure.Figure at 0x1f20bf98>"
      ]
     },
     "metadata": {},
     "output_type": "display_data"
    }
   ],
   "source": [
    "# store the retrieval position of each seed\n",
    "candidates_ranking = {}\n",
    "for u in allseeds:\n",
    "    candidates_ranking[u] = []\n",
    "    \n",
    "ysum = np.zeros(data.shape[0] - 10)\n",
    "#alldistr = pd.DataFrame(columns=['sim','freq'])\n",
    "prec_20 = []\n",
    "\n",
    "for seeds in combinations:\n",
    "    effective_seeds = list(seeds)\n",
    "    good_candidates = list(set(allseeds)-(set(effective_seeds)))\n",
    "\n",
    "    seedsVectors = data[data['id_user'].isin(effective_seeds)]\n",
    "    centroid = computeCentroid(seedsVectors, header)\n",
    "    candidates = data[~data['id_user'].isin(effective_seeds)]\n",
    "\n",
    "    r = candidatesRanking(candidates, centroid, header)\n",
    "    r['good'] = r.apply(lambda x: True if x['id_user'] in good_candidates else False, axis=1)\n",
    "    y = cumulativeGoodCandidates(r)\n",
    "    ysum = ysum + y\n",
    "\n",
    "    for index, candidate in r[r['good'] == True].iterrows():\n",
    "        id_user = candidate['id_user']\n",
    "        candidates_ranking[id_user].append(index+1)\n",
    "\n",
    "    #sim_distr = computeSimDistribution(r, 3)\n",
    "    #alldistr = pd.concat([alldistr, sim_distr])\n",
    "    prec_20.append(cumulativeGoodCandidates(r[:20])[19])\n",
    "    \n",
    "y_avg = ysum.astype(float)/len(combinations)\n",
    "\n",
    "plt.figure(figsize=(14,8))\n",
    "plt.title('Cumulative good candidates for nouns network - All Random')\n",
    "plt.ylabel('#good candidates')\n",
    "plt.xlabel('ranking position')\n",
    "\n",
    "plt.plot(y_avg)\n",
    "plt.plot([0, len(y_avg)],[0, 10], linestyle='--', color='black')\n",
    "plt.xlim(xmin=1)\n",
    "\n",
    "plt.yticks(range(1,11))\n",
    "plt.grid(True)\n",
    "\n",
    "print 'Average P@20: {:.2f}'.format(np.mean(prec_20))"
   ]
  },
  {
   "cell_type": "code",
   "execution_count": 26,
   "metadata": {
    "collapsed": true
   },
   "outputs": [],
   "source": [
    "result = [] # seed_data[seed_data['id_user'] == int(id_user)]['screen_name'].values[0]\n",
    "for id_user in sorted(candidates_ranking, key=candidates_ranking.get):\n",
    "    result.append(tuple(\n",
    "        (id_user, np.mean(candidates_ranking[id_user]))\n",
    "    ))"
   ]
  },
  {
   "cell_type": "code",
   "execution_count": 27,
   "metadata": {},
   "outputs": [
    {
     "data": {
      "text/html": [
       "<div>\n",
       "<style>\n",
       "    .dataframe thead tr:only-child th {\n",
       "        text-align: right;\n",
       "    }\n",
       "\n",
       "    .dataframe thead th {\n",
       "        text-align: left;\n",
       "    }\n",
       "\n",
       "    .dataframe tbody tr th {\n",
       "        vertical-align: top;\n",
       "    }\n",
       "</style>\n",
       "<table border=\"1\" class=\"dataframe\">\n",
       "  <thead>\n",
       "    <tr style=\"text-align: right;\">\n",
       "      <th></th>\n",
       "      <th>screen_name</th>\n",
       "      <th>ranking</th>\n",
       "    </tr>\n",
       "  </thead>\n",
       "  <tbody>\n",
       "    <tr>\n",
       "      <th>1</th>\n",
       "      <td>36499730</td>\n",
       "      <td>1.857143</td>\n",
       "    </tr>\n",
       "    <tr>\n",
       "      <th>0</th>\n",
       "      <td>36361027</td>\n",
       "      <td>2.320755</td>\n",
       "    </tr>\n",
       "    <tr>\n",
       "      <th>7</th>\n",
       "      <td>6361512</td>\n",
       "      <td>2.929825</td>\n",
       "    </tr>\n",
       "    <tr>\n",
       "      <th>2</th>\n",
       "      <td>22522178</td>\n",
       "      <td>3.703704</td>\n",
       "    </tr>\n",
       "    <tr>\n",
       "      <th>3</th>\n",
       "      <td>575160556</td>\n",
       "      <td>3.731707</td>\n",
       "    </tr>\n",
       "    <tr>\n",
       "      <th>5</th>\n",
       "      <td>31137628</td>\n",
       "      <td>7.588235</td>\n",
       "    </tr>\n",
       "    <tr>\n",
       "      <th>4</th>\n",
       "      <td>35810531</td>\n",
       "      <td>14.439024</td>\n",
       "    </tr>\n",
       "    <tr>\n",
       "      <th>6</th>\n",
       "      <td>18378349</td>\n",
       "      <td>47.360656</td>\n",
       "    </tr>\n",
       "    <tr>\n",
       "      <th>11</th>\n",
       "      <td>18622869</td>\n",
       "      <td>57.347826</td>\n",
       "    </tr>\n",
       "    <tr>\n",
       "      <th>10</th>\n",
       "      <td>241709263</td>\n",
       "      <td>67.562500</td>\n",
       "    </tr>\n",
       "    <tr>\n",
       "      <th>12</th>\n",
       "      <td>407347022</td>\n",
       "      <td>75.425532</td>\n",
       "    </tr>\n",
       "    <tr>\n",
       "      <th>8</th>\n",
       "      <td>327577091</td>\n",
       "      <td>110.838710</td>\n",
       "    </tr>\n",
       "    <tr>\n",
       "      <th>9</th>\n",
       "      <td>104952689</td>\n",
       "      <td>121.568627</td>\n",
       "    </tr>\n",
       "    <tr>\n",
       "      <th>13</th>\n",
       "      <td>397489668</td>\n",
       "      <td>122.187500</td>\n",
       "    </tr>\n",
       "    <tr>\n",
       "      <th>14</th>\n",
       "      <td>7517052</td>\n",
       "      <td>125.764706</td>\n",
       "    </tr>\n",
       "    <tr>\n",
       "      <th>15</th>\n",
       "      <td>211106542</td>\n",
       "      <td>282.288136</td>\n",
       "    </tr>\n",
       "    <tr>\n",
       "      <th>16</th>\n",
       "      <td>57268394</td>\n",
       "      <td>313.521739</td>\n",
       "    </tr>\n",
       "    <tr>\n",
       "      <th>18</th>\n",
       "      <td>300868924</td>\n",
       "      <td>438.458333</td>\n",
       "    </tr>\n",
       "    <tr>\n",
       "      <th>17</th>\n",
       "      <td>372460791</td>\n",
       "      <td>486.244898</td>\n",
       "    </tr>\n",
       "    <tr>\n",
       "      <th>19</th>\n",
       "      <td>1305698738</td>\n",
       "      <td>645.423077</td>\n",
       "    </tr>\n",
       "  </tbody>\n",
       "</table>\n",
       "</div>"
      ],
      "text/plain": [
       "   screen_name     ranking\n",
       "1     36499730    1.857143\n",
       "0     36361027    2.320755\n",
       "7      6361512    2.929825\n",
       "2     22522178    3.703704\n",
       "3    575160556    3.731707\n",
       "5     31137628    7.588235\n",
       "4     35810531   14.439024\n",
       "6     18378349   47.360656\n",
       "11    18622869   57.347826\n",
       "10   241709263   67.562500\n",
       "12   407347022   75.425532\n",
       "8    327577091  110.838710\n",
       "9    104952689  121.568627\n",
       "13   397489668  122.187500\n",
       "14     7517052  125.764706\n",
       "15   211106542  282.288136\n",
       "16    57268394  313.521739\n",
       "18   300868924  438.458333\n",
       "17   372460791  486.244898\n",
       "19  1305698738  645.423077"
      ]
     },
     "execution_count": 27,
     "metadata": {},
     "output_type": "execute_result"
    }
   ],
   "source": [
    "pd.DataFrame(result, columns=['screen_name', 'ranking']).sort_values(by='ranking')"
   ]
  },
  {
   "cell_type": "code",
   "execution_count": 28,
   "metadata": {},
   "outputs": [
    {
     "name": "stdout",
     "output_type": "stream",
     "text": [
      "300868924 [556, 462, 539, 311, 470, 432, 530, 483, 368, 433, 402, 568, 531, 489, 355, 382, 493, 556, 393, 430, 229, 591, 447, 302, 308, 466, 559, 558, 261, 446, 603, 410, 519, 455, 434, 292, 294, 384, 541, 549, 227, 517, 490, 346, 422, 388, 329, 496]\n",
      "6361512 [7, 1, 3, 2, 2, 2, 3, 3, 1, 4, 6, 2, 2, 5, 3, 2, 3, 1, 10, 3, 3, 5, 3, 2, 3, 1, 4, 3, 3, 1, 3, 4, 8, 2, 3, 2, 4, 3, 1, 3, 3, 2, 2, 2, 3, 1, 1, 4, 1, 3, 2, 1, 2, 3, 4, 3, 4]\n",
      "36361027 [1, 1, 2, 2, 1, 1, 1, 4, 2, 4, 3, 1, 3, 1, 2, 1, 3, 1, 1, 1, 2, 3, 1, 3, 1, 2, 2, 1, 2, 2, 1, 3, 12, 4, 2, 2, 5, 2, 2, 4, 2, 1, 2, 1, 4, 3, 2, 4, 2, 2, 4, 2, 2]\n",
      "211106542 [264, 450, 298, 263, 417, 345, 245, 181, 343, 400, 321, 178, 248, 233, 207, 408, 315, 182, 365, 449, 474, 240, 265, 336, 42, 519, 266, 70, 478, 214, 204, 389, 295, 443, 277, 454, 304, 144, 272, 526, 217, 86, 297, 113, 295, 204, 146, 38, 86, 85, 197, 318, 443, 333, 233, 477, 342, 83, 338]\n",
      "7517052 [139, 47, 82, 176, 119, 137, 32, 147, 182, 130, 39, 112, 19, 11, 150, 100, 120, 193, 3, 222, 173, 223, 201, 11, 162, 151, 63, 134, 144, 32, 144, 16, 151, 221, 190, 27, 189, 131, 196, 201, 192, 151, 21, 92, 182, 72, 158, 55, 193, 179, 199]\n",
      "18378349 [6, 206, 10, 9, 113, 25, 2, 24, 6, 21, 68, 24, 2, 4, 2, 2, 228, 22, 3, 3, 33, 60, 200, 3, 28, 291, 1, 2, 1, 1, 224, 82, 44, 12, 150, 195, 24, 171, 4, 11, 315, 1, 4, 12, 1, 8, 1, 2, 1, 1, 120, 1, 45, 26, 2, 1, 24, 1, 2, 3, 1]\n",
      "407347022 [56, 59, 22, 115, 94, 78, 14, 63, 118, 59, 15, 28, 114, 45, 12, 47, 4, 156, 37, 109, 25, 51, 70, 10, 101, 124, 158, 2, 130, 123, 12, 36, 124, 28, 79, 122, 133, 151, 12, 15, 127, 143, 9, 133, 116, 132, 134]\n",
      "372460791 [482, 473, 475, 463, 466, 482, 471, 494, 482, 489, 481, 475, 494, 492, 487, 482, 493, 503, 474, 488, 500, 502, 498, 493, 497, 482, 465, 486, 490, 501, 491, 493, 480, 481, 489, 483, 492, 497, 498, 494, 475, 490, 477, 481, 467, 495, 497, 492, 494]\n",
      "104952689 [46, 294, 80, 209, 205, 12, 37, 5, 332, 221, 122, 11, 148, 316, 45, 135, 2, 47, 2, 2, 333, 22, 8, 201, 195, 271, 296, 109, 281, 66, 2, 418, 2, 183, 78, 74, 4, 2, 4, 2, 116, 278, 162, 181, 11, 320, 145, 15, 4, 142, 4]\n",
      "575160556 [3, 3, 3, 6, 1, 4, 3, 2, 6, 3, 4, 1, 2, 7, 15, 4, 3, 2, 2, 4, 2, 2, 3, 2, 10, 3, 2, 3, 6, 6, 3, 3, 3, 3, 6, 2, 2, 2, 4, 2, 6]\n",
      "36499730 [2, 1, 1, 1, 2, 1, 10, 2, 1, 1, 1, 2, 2, 1, 1, 1, 1, 3, 1, 3, 1, 1, 1, 1, 2, 1, 1, 2, 11, 1, 1, 1, 1, 1, 1]\n",
      "327577091 [16, 144, 121, 56, 141, 98, 104, 153, 98, 2, 21, 36, 144, 147, 54, 67, 68, 66, 176, 195, 144, 180, 175, 146, 177, 136, 117, 16, 95, 12, 88, 16, 164, 124, 1, 170, 122, 160, 16, 156, 157, 117, 153, 173, 183, 174, 168, 122, 11, 173, 33, 17, 50, 178, 97, 171, 123, 123, 163, 37, 152, 175]\n",
      "18622869 [55, 12, 6, 50, 116, 116, 34, 8, 5, 7, 45, 44, 196, 229, 11, 15, 1, 311, 18, 242, 4, 101, 34, 93, 26, 6, 337, 3, 3, 60, 14, 2, 1, 6, 145, 2, 55, 73, 39, 3, 9, 47, 6, 3, 43, 2]\n",
      "397489668 [119, 267, 165, 6, 152, 17, 170, 41, 6, 33, 361, 160, 19, 310, 349, 29, 71, 415, 3, 5, 357, 10, 27, 220, 296, 80, 306, 2, 44, 5, 209, 116, 179, 28, 11, 3, 146, 274, 185, 212, 49, 352, 28, 6, 8, 6, 5, 3]\n",
      "241709263 [49, 14, 5, 59, 79, 18, 57, 5, 27, 49, 10, 86, 28, 30, 2, 28, 33, 168, 178, 146, 2, 106, 149, 68, 47, 3, 4, 40, 8, 57, 2, 168, 128, 85, 122, 17, 134, 159, 141, 23, 3, 127, 16, 143, 76, 124, 107, 113]\n",
      "35810531 [3, 6, 23, 4, 9, 3, 4, 3, 1, 6, 4, 3, 39, 49, 36, 46, 15, 5, 4, 32, 7, 3, 5, 28, 4, 4, 25, 7, 25, 28, 4, 2, 39, 4, 24, 5, 3, 38, 8, 9, 25]\n",
      "31137628 [4, 1, 2, 1, 5, 2, 2, 5, 3, 7, 6, 5, 4, 2, 3, 2, 4, 1, 15, 4, 7, 49, 6, 1, 3, 1, 7, 13, 3, 43, 18, 2, 4, 1, 2, 8, 3, 22, 4, 3, 17, 8, 22, 3, 1, 4, 4, 3, 17, 8, 22]\n",
      "22522178 [2, 2, 3, 3, 4, 1, 1, 1, 3, 2, 1, 1, 4, 4, 1, 1, 2, 3, 5, 1, 38, 2, 17, 1, 15, 3, 1, 2, 1, 1, 2, 1, 2, 5, 5, 7, 1, 1, 1, 1, 1, 5, 3, 1, 1, 1, 1, 9, 1, 7, 3, 3, 4, 8]\n",
      "57268394 [274, 267, 327, 300, 311, 259, 329, 305, 207, 324, 298, 296, 257, 306, 338, 346, 342, 349, 340, 329, 341, 306, 305, 300, 307, 321, 316, 337, 336, 299, 307, 331, 309, 336, 343, 337, 314, 250, 336, 292, 336, 342, 316, 334, 327, 340]\n",
      "1305698738 [626, 676, 625, 667, 656, 646, 655, 639, 663, 663, 615, 692, 664, 598, 651, 651, 657, 676, 691, 603, 649, 700, 571, 692, 601, 544, 602, 663, 648, 663, 637, 675, 633, 678, 641, 678, 708, 662, 572, 656, 638, 624, 601, 648, 668, 676, 657, 651, 691, 652, 569, 600]\n"
     ]
    }
   ],
   "source": [
    "for id_user in candidates_ranking:\n",
    "    print id_user, candidates_ranking[id_user]"
   ]
  },
  {
   "cell_type": "markdown",
   "metadata": {
    "collapsed": true
   },
   "source": [
    "## Hashtags Network Test - 1"
   ]
  },
  {
   "cell_type": "code",
   "execution_count": 15,
   "metadata": {},
   "outputs": [
    {
     "name": "stdout",
     "output_type": "stream",
     "text": [
      "Average P@20: 1.69\n"
     ]
    },
    {
     "data": {
      "image/png": "[encoded data removed]",
      "text/plain": [
       "<matplotlib.figure.Figure at 0x1ecab860>"
      ]
     },
     "metadata": {},
     "output_type": "display_data"
    }
   ],
   "source": [
    "path = '{}/random-test/test-network-features/'.format(domain) \n",
    "\n",
    "for test in [1]:\n",
    "    # store the retrieval position of each seed\n",
    "    candidates_ranking = {}\n",
    "    for u in allseeds:\n",
    "        candidates_ranking[u] = []\n",
    "        \n",
    "    # features file reading and metadata inclusion\n",
    "    userdata = pd.read_csv(path+'h_network_{}_nodes.csv'.format(test), sep='\\t') # match graph id and user instance\n",
    "    data = pd.read_csv(path+'h_network_{}.emb'.format(test), sep=' ', header=None, skiprows=1)\n",
    "    data = userdata.merge(data, left_on='id', right_on=0)\n",
    "    data.drop(0, inplace=True, axis=1)\n",
    "    data.columns = ['id_graph','username','id_user','usertype']+header\n",
    "\n",
    "    data = data[data['usertype'].isin(['seed','user'])]\n",
    "    data.reset_index(inplace=True)\n",
    "    \n",
    "    # store everyone ranking to check if, on average, some interesting user comes up\n",
    "    all_ranking = {}\n",
    "    for u in list(data['id_user']):\n",
    "        all_ranking[u] = []\n",
    "    \n",
    "    ysum = np.zeros(data.shape[0] - 10)\n",
    "    #alldistr = pd.DataFrame(columns=['sim','freq'])\n",
    "    prec_20 = []\n",
    "    \n",
    "    for seeds in combinations:\n",
    "        effective_seeds = list(seeds)\n",
    "        good_candidates = list(set(allseeds)-(set(effective_seeds)))\n",
    "\n",
    "        seedsVectors = data[data['id_user'].isin(effective_seeds)]\n",
    "        centroid = computeCentroid(seedsVectors, header)\n",
    "        candidates = data[~data['id_user'].isin(effective_seeds)]\n",
    "\n",
    "        r = candidatesRanking(candidates, centroid, header)\n",
    "        r['good'] = r.apply(lambda x: True if x['id_user'] in good_candidates else False, axis=1)\n",
    "        y = cumulativeGoodCandidates(r)\n",
    "        ysum = ysum + y\n",
    "        \n",
    "        for index, candidate in r[r['good'] == True].iterrows():\n",
    "            id_user = candidate['id_user']\n",
    "            candidates_ranking[id_user].append(index+1)\n",
    "        \n",
    "        for index, candidate in r.iterrows():\n",
    "            id_user = candidate['id_user']\n",
    "            all_ranking[id_user].append(index+1)\n",
    "        \n",
    "        prec_20.append(cumulativeGoodCandidates(r[:20])[19])\n",
    "        #sim_distr = computeSimDistribution(r, 3)\n",
    "        #alldistr = pd.concat([alldistr, sim_distr])\n",
    "\n",
    "    y_avg = ysum.astype(float)/len(combinations)\n",
    "    \n",
    "    plt.figure(figsize=(14,8))\n",
    "    plt.title('Cumulative good candidates for hashtag network - Test {}'.format(test))\n",
    "    plt.ylabel('#good candidates')\n",
    "    plt.xlabel('ranking position')\n",
    "\n",
    "    plt.plot(y_avg)\n",
    "    plt.plot([0, len(y_avg)],[0, 10], linestyle='--', color='black')\n",
    "    plt.xlim(xmin=1)\n",
    "\n",
    "    plt.yticks(range(1,11))\n",
    "    plt.grid(True)\n",
    "    \n",
    "    print 'Average P@20: {:.2f}'.format(np.mean(prec_20))"
   ]
  },
  {
   "cell_type": "code",
   "execution_count": 16,
   "metadata": {
    "scrolled": true
   },
   "outputs": [
    {
     "data": {
      "image/png": "[encoded data removed]",
      "text/plain": [
       "<matplotlib.figure.Figure at 0x1ef49588>"
      ]
     },
     "metadata": {},
     "output_type": "display_data"
    }
   ],
   "source": [
    "plotData(data[data['usertype'] == 'seed'], data[data['usertype']=='user'], header)"
   ]
  },
  {
   "cell_type": "markdown",
   "metadata": {
    "collapsed": true
   },
   "source": [
    "## Mention Network Test - 1"
   ]
  },
  {
   "cell_type": "code",
   "execution_count": 22,
   "metadata": {},
   "outputs": [
    {
     "name": "stdout",
     "output_type": "stream",
     "text": [
      "Average P@20: 6.10\n"
     ]
    },
    {
     "data": {
      "image/png": "[encoded data removed]",
      "text/plain": [
       "<matplotlib.figure.Figure at 0x1f2ee860>"
      ]
     },
     "metadata": {},
     "output_type": "display_data"
    }
   ],
   "source": [
    "path = '{}/random-test/test-network-features/'.format(domain) \n",
    "\n",
    "for test in [1]:\n",
    "    # store the retrieval position of each seed\n",
    "    candidates_ranking = {}\n",
    "    for u in allseeds:\n",
    "        candidates_ranking[u] = []\n",
    "    \n",
    "    # test ids needed to filter the mentioned users (they are not included in the ranking)\n",
    "    testusers = pd.read_csv('data-random/user.csv', sep='\\t')\n",
    "    test_ids = map(str, testusers[testusers['n_test'] == test]['id_user'].unique())\n",
    "    \n",
    "    # features file reading and metadata inclusion\n",
    "    userdata = pd.read_csv(path+'m_network_{}_nodes.csv'.format(test), sep='\\t') # match graph id and user instance\n",
    "    data = pd.read_csv(path+'m_network_{}.emb'.format(test), sep=' ', header=None, skiprows=1)\n",
    "    data = userdata.merge(data, left_on='id', right_on=0)\n",
    "    data.drop(0, inplace=True, axis=1)\n",
    "    data.columns = ['id_graph','username','id_user','usertype']+header\n",
    "    \n",
    "    # keeps only seeds and test users for the evaluation\n",
    "    data = data[(data['usertype'] == 'seed') | (data['id_user'].isin(test_ids))]\n",
    "    data.reset_index(inplace=True)\n",
    "    \n",
    "    # store everyone ranking to check if, on average, some interesting user comes up\n",
    "    all_ranking = {}\n",
    "    for u in list(data['id_user']):\n",
    "        all_ranking[u] = []\n",
    "    \n",
    "    ysum = np.zeros(data.shape[0] - 10)\n",
    "    #alldistr = pd.DataFrame(columns=['sim','freq'])\n",
    "    prec_20 = []\n",
    "    \n",
    "    for seeds in combinations:\n",
    "        effective_seeds = list(seeds)\n",
    "        good_candidates = list(set(allseeds)-(set(effective_seeds)))\n",
    "\n",
    "        seedsVectors = data[data['id_user'].isin(effective_seeds)]\n",
    "        centroid = computeCentroid(seedsVectors, header)\n",
    "        candidates = data[~data['id_user'].isin(effective_seeds)]\n",
    "\n",
    "        r = candidatesRanking(candidates, centroid, header)\n",
    "        r['good'] = r.apply(lambda x: True if x['id_user'] in good_candidates else False, axis=1)\n",
    "        y = cumulativeGoodCandidates(r)\n",
    "        ysum = ysum + y\n",
    "        \n",
    "        for index, candidate in r[r['good'] == True].iterrows():\n",
    "            id_user = candidate['id_user']\n",
    "            candidates_ranking[id_user].append(index+1)\n",
    "        \n",
    "        for index, candidate in r.iterrows():\n",
    "            id_user = candidate['id_user']\n",
    "            all_ranking[id_user].append(index+1)\n",
    "        \n",
    "        prec_20.append(cumulativeGoodCandidates(r[:20])[19])\n",
    "        #sim_distr = computeSimDistribution(r, 3)\n",
    "        #alldistr = pd.concat([alldistr, sim_distr])\n",
    "\n",
    "    y_avg = ysum.astype(float)/len(combinations)\n",
    "    \n",
    "    plt.figure(figsize=(14,8))\n",
    "    plt.title('Cumulative good candidates for mention network - Test {}'.format(test))\n",
    "    plt.ylabel('#good candidates')\n",
    "    plt.xlabel('ranking position')\n",
    "\n",
    "    plt.plot(y_avg)\n",
    "    plt.plot([0, len(y_avg)],[0, 10], linestyle='--', color='black')\n",
    "    plt.xlim(xmin=1)\n",
    "\n",
    "    plt.yticks(range(1,11))\n",
    "    plt.grid(True)\n",
    "    \n",
    "    print 'Average P@20: {:.2f}'.format(np.mean(prec_20))"
   ]
  },
  {
   "cell_type": "code",
   "execution_count": 24,
   "metadata": {
    "collapsed": true
   },
   "outputs": [],
   "source": [
    "result = []\n",
    "for id_user in sorted(candidates_ranking, key=candidates_ranking.get):\n",
    "    result.append(tuple(\n",
    "        (seed_data[seed_data['id_user'] == int(id_user)]['screen_name'].values[0], np.mean(candidates_ranking[id_user]))\n",
    "    ))"
   ]
  },
  {
   "cell_type": "code",
   "execution_count": 25,
   "metadata": {},
   "outputs": [
    {
     "data": {
      "text/html": [
       "<div>\n",
       "<style>\n",
       "    .dataframe thead tr:only-child th {\n",
       "        text-align: right;\n",
       "    }\n",
       "\n",
       "    .dataframe thead th {\n",
       "        text-align: left;\n",
       "    }\n",
       "\n",
       "    .dataframe tbody tr th {\n",
       "        vertical-align: top;\n",
       "    }\n",
       "</style>\n",
       "<table border=\"1\" class=\"dataframe\">\n",
       "  <thead>\n",
       "    <tr style=\"text-align: right;\">\n",
       "      <th></th>\n",
       "      <th>screen_name</th>\n",
       "      <th>ranking</th>\n",
       "    </tr>\n",
       "  </thead>\n",
       "  <tbody>\n",
       "    <tr>\n",
       "      <th>0</th>\n",
       "      <td>katie_martin_fx</td>\n",
       "      <td>1.347826</td>\n",
       "    </tr>\n",
       "    <tr>\n",
       "      <th>4</th>\n",
       "      <td>justinwolfers</td>\n",
       "      <td>2.048387</td>\n",
       "    </tr>\n",
       "    <tr>\n",
       "      <th>1</th>\n",
       "      <td>economisthulk</td>\n",
       "      <td>2.326923</td>\n",
       "    </tr>\n",
       "    <tr>\n",
       "      <th>2</th>\n",
       "      <td>dsquareddigest</td>\n",
       "      <td>2.644068</td>\n",
       "    </tr>\n",
       "    <tr>\n",
       "      <th>3</th>\n",
       "      <td>reformedbroker</td>\n",
       "      <td>3.481481</td>\n",
       "    </tr>\n",
       "    <tr>\n",
       "      <th>6</th>\n",
       "      <td>firoozye</td>\n",
       "      <td>4.235294</td>\n",
       "    </tr>\n",
       "    <tr>\n",
       "      <th>5</th>\n",
       "      <td>economistmeg</td>\n",
       "      <td>5.687500</td>\n",
       "    </tr>\n",
       "    <tr>\n",
       "      <th>10</th>\n",
       "      <td>howardlindzon</td>\n",
       "      <td>8.588235</td>\n",
       "    </tr>\n",
       "    <tr>\n",
       "      <th>9</th>\n",
       "      <td>laurenlacapra</td>\n",
       "      <td>9.660377</td>\n",
       "    </tr>\n",
       "    <tr>\n",
       "      <th>7</th>\n",
       "      <td>bill_easterly</td>\n",
       "      <td>13.097561</td>\n",
       "    </tr>\n",
       "    <tr>\n",
       "      <th>8</th>\n",
       "      <td>faulljonathan</td>\n",
       "      <td>14.317073</td>\n",
       "    </tr>\n",
       "    <tr>\n",
       "      <th>12</th>\n",
       "      <td>fgoria</td>\n",
       "      <td>14.368421</td>\n",
       "    </tr>\n",
       "    <tr>\n",
       "      <th>11</th>\n",
       "      <td>rencapman</td>\n",
       "      <td>20.583333</td>\n",
       "    </tr>\n",
       "    <tr>\n",
       "      <th>14</th>\n",
       "      <td>ezraklein</td>\n",
       "      <td>38.543478</td>\n",
       "    </tr>\n",
       "    <tr>\n",
       "      <th>15</th>\n",
       "      <td>keithmccullough</td>\n",
       "      <td>40.885246</td>\n",
       "    </tr>\n",
       "    <tr>\n",
       "      <th>13</th>\n",
       "      <td>queen_europe</td>\n",
       "      <td>48.914894</td>\n",
       "    </tr>\n",
       "    <tr>\n",
       "      <th>16</th>\n",
       "      <td>eu_eurostat</td>\n",
       "      <td>70.333333</td>\n",
       "    </tr>\n",
       "    <tr>\n",
       "      <th>17</th>\n",
       "      <td>reinman_mt</td>\n",
       "      <td>108.020408</td>\n",
       "    </tr>\n",
       "    <tr>\n",
       "      <th>18</th>\n",
       "      <td>lamonicabuzz</td>\n",
       "      <td>139.431373</td>\n",
       "    </tr>\n",
       "    <tr>\n",
       "      <th>19</th>\n",
       "      <td>kathylienfx</td>\n",
       "      <td>145.028571</td>\n",
       "    </tr>\n",
       "  </tbody>\n",
       "</table>\n",
       "</div>"
      ],
      "text/plain": [
       "        screen_name     ranking\n",
       "0   katie_martin_fx    1.347826\n",
       "4     justinwolfers    2.048387\n",
       "1     economisthulk    2.326923\n",
       "2    dsquareddigest    2.644068\n",
       "3    reformedbroker    3.481481\n",
       "6          firoozye    4.235294\n",
       "5      economistmeg    5.687500\n",
       "10    howardlindzon    8.588235\n",
       "9     laurenlacapra    9.660377\n",
       "7     bill_easterly   13.097561\n",
       "8     faulljonathan   14.317073\n",
       "12           fgoria   14.368421\n",
       "11        rencapman   20.583333\n",
       "14        ezraklein   38.543478\n",
       "15  keithmccullough   40.885246\n",
       "13     queen_europe   48.914894\n",
       "16      eu_eurostat   70.333333\n",
       "17       reinman_mt  108.020408\n",
       "18     lamonicabuzz  139.431373\n",
       "19      kathylienfx  145.028571"
      ]
     },
     "execution_count": 25,
     "metadata": {},
     "output_type": "execute_result"
    }
   ],
   "source": [
    "pd.DataFrame(result, columns=['screen_name', 'ranking']).sort_values(by='ranking')"
   ]
  },
  {
   "cell_type": "code",
   "execution_count": 26,
   "metadata": {},
   "outputs": [
    {
     "name": "stdout",
     "output_type": "stream",
     "text": [
      "300868924 [67, 37, 82, 55, 73, 51, 67, 93, 64, 77, 60, 76, 93, 72, 80, 91, 94, 67, 56, 61, 74, 56, 74, 35, 92, 65, 79, 76, 61, 89, 62, 73, 55, 67, 83, 51, 62, 82, 64, 58, 67, 80, 71, 55, 66, 91, 87, 85]\n",
      "6361512 [25, 5, 11, 7, 9, 29, 5, 2, 15, 15, 13, 7, 2, 6, 6, 9, 34, 32, 8, 7, 13, 39, 45, 31, 5, 21, 8, 9, 30, 26, 4, 17, 7, 10, 20, 6, 5, 9, 13, 19, 32, 29, 12, 19, 4, 7, 6, 6, 4, 17, 4, 13, 6, 38, 8, 19, 11]\n",
      "36361027 [9, 4, 14, 4, 10, 8, 18, 25, 6, 5, 11, 19, 4, 4, 6, 17, 5, 5, 18, 5, 14, 3, 11, 15, 12, 9, 32, 10, 9, 5, 11, 5, 3, 5, 5, 11, 4, 3, 29, 12, 11, 6, 7, 6, 5, 6, 10, 4, 25, 8, 3, 10, 6]\n",
      "211106542 [2, 2, 1, 3, 2, 3, 2, 7, 10, 2, 1, 3, 1, 5, 1, 1, 1, 3, 2, 4, 2, 1, 5, 2, 2, 1, 2, 4, 2, 6, 3, 3, 2, 2, 5, 1, 2, 2, 1, 2, 2, 3, 1, 3, 3, 4, 2, 5, 2, 3, 2, 4, 2, 3, 2, 3, 2, 3, 1]\n",
      "7517052 [11, 6, 16, 7, 15, 5, 9, 6, 14, 4, 5, 4, 1, 12, 12, 3, 10, 6, 2, 13, 12, 25, 6, 13, 5, 19, 3, 3, 5, 6, 11, 6, 7, 11, 4, 4, 8, 7, 11, 17, 4, 6, 1, 5, 4, 4, 21, 4, 15, 23, 7]\n",
      "18378349 [37, 34, 44, 21, 47, 23, 36, 48, 37, 27, 33, 54, 39, 44, 65, 44, 41, 45, 39, 33, 33, 31, 63, 24, 37, 34, 69, 42, 43, 49, 68, 48, 65, 35, 53, 46, 45, 42, 29, 38, 24, 44, 38, 27, 35, 23, 39, 28, 52, 61, 43, 40, 51, 42, 27, 23, 32, 43, 50, 40, 47]\n",
      "407347022 [27, 49, 55, 43, 89, 45, 56, 62, 17, 56, 36, 29, 38, 42, 86, 63, 58, 24, 43, 37, 37, 57, 30, 26, 43, 65, 23, 64, 37, 50, 45, 42, 50, 69, 70, 64, 47, 79, 56, 37, 45, 74, 51, 59, 37, 26, 61]\n",
      "372460791 [107, 100, 104, 121, 100, 114, 112, 106, 109, 116, 81, 107, 107, 107, 111, 97, 108, 107, 92, 103, 110, 123, 122, 116, 128, 127, 99, 111, 87, 122, 104, 112, 99, 66, 114, 119, 111, 106, 125, 107, 115, 116, 103, 102, 100, 112, 126, 106, 96]\n",
      "104952689 [140, 144, 138, 138, 140, 140, 138, 139, 140, 137, 139, 137, 139, 143, 142, 138, 140, 136, 140, 141, 145, 140, 137, 141, 141, 144, 139, 142, 139, 138, 138, 141, 139, 138, 140, 138, 137, 141, 140, 135, 141, 137, 142, 142, 141, 139, 138, 136, 140, 135, 138]\n",
      "575160556 [8, 40, 30, 7, 7, 6, 22, 16, 8, 19, 8, 40, 6, 6, 3, 15, 15, 4, 4, 22, 19, 7, 28, 6, 1, 22, 24, 19, 21, 5, 8, 12, 11, 11, 24, 29, 10, 5, 14, 7, 18]\n",
      "36499730 [153, 140, 149, 143, 152, 143, 141, 147, 147, 150, 151, 141, 143, 145, 157, 155, 143, 137, 143, 145, 144, 150, 146, 141, 137, 143, 147, 140, 137, 148, 142, 147, 147, 139, 143]\n",
      "327577091 [4, 2, 1, 5, 2, 2, 1, 1, 2, 2, 2, 2, 1, 4, 2, 2, 1, 3, 4, 2, 1, 2, 4, 1, 3, 1, 2, 1, 4, 1, 2, 2, 2, 3, 1, 1, 4, 2, 1, 4, 2, 2, 4, 1, 1, 1, 2, 3, 1, 2, 1, 1, 4, 2, 1, 3, 2, 2, 1, 2, 1, 1]\n",
      "18622869 [36, 29, 58, 38, 41, 30, 37, 38, 42, 34, 31, 48, 63, 54, 23, 48, 16, 61, 22, 66, 23, 40, 51, 64, 49, 16, 53, 25, 43, 39, 47, 17, 53, 21, 58, 11, 70, 49, 32, 40, 31, 17, 29, 42, 15, 23]\n",
      "397489668 [15, 3, 11, 14, 3, 38, 49, 26, 9, 16, 14, 3, 35, 36, 42, 10, 47, 33, 21, 13, 62, 6, 29, 29, 33, 8, 5, 5, 9, 18, 11, 23, 18, 23, 5, 22, 23, 39, 36, 15, 7, 25, 26, 17, 8, 17, 7, 24]\n",
      "241709263 [4, 4, 7, 3, 2, 5, 3, 1, 9, 3, 4, 7, 1, 3, 9, 6, 4, 7, 8, 5, 8, 7, 15, 13, 2, 12, 9, 4, 3, 6, 2, 4, 4, 5, 5, 1, 6, 4, 12, 10, 3, 4, 3, 6, 4, 18, 4, 4]\n",
      "35810531 [5, 17, 15, 6, 8, 8, 23, 11, 3, 16, 19, 9, 23, 8, 47, 44, 9, 17, 14, 25, 13, 6, 5, 12, 8, 13, 7, 10, 21, 9, 6, 6, 28, 2, 2, 8, 7, 18, 11, 9, 9]\n",
      "31137628 [4, 5, 6, 2, 4, 2, 3, 5, 8, 5, 14, 1, 3, 4, 6, 4, 2, 5, 5, 4, 4, 7, 2, 3, 6, 3, 3, 7, 5, 6, 3, 3, 3, 3, 6, 4, 7, 2, 5, 3, 3, 3, 4, 3, 3, 5, 3, 6, 3, 3, 3]\n",
      "22522178 [3, 2, 2, 3, 2, 3, 5, 8, 4, 3, 3, 6, 3, 2, 4, 5, 3, 4, 3, 5, 3, 1, 3, 9, 4, 3, 2, 6, 4, 6, 6, 5, 5, 1, 1, 2, 6, 3, 2, 4, 3, 3, 4, 2, 3, 5, 2, 3, 1, 2, 3, 4, 2, 2]\n",
      "57268394 [1, 1, 1, 2, 1, 1, 1, 2, 1, 1, 1, 3, 2, 2, 1, 1, 1, 1, 2, 3, 2, 1, 1, 1, 1, 2, 1, 1, 1, 1, 1, 1, 3, 1, 2, 1, 1, 2, 1, 1, 1, 1, 1, 2, 1, 1]\n",
      "1305698738 [1, 3, 1, 1, 2, 1, 1, 1, 4, 4, 4, 3, 3, 2, 2, 6, 1, 5, 1, 1, 1, 3, 1, 5, 2, 1, 1, 1, 4, 2, 3, 4, 3, 4, 3, 1, 4, 2, 2, 2, 2, 2, 1, 1, 4, 4, 4, 2, 2, 1, 1, 1]\n"
     ]
    }
   ],
   "source": [
    "for id_user in candidates_ranking:\n",
    "    print id_user, candidates_ranking[id_user]"
   ]
  },
  {
   "cell_type": "code",
   "execution_count": 27,
   "metadata": {
    "collapsed": true
   },
   "outputs": [],
   "source": [
    "allresult = []\n",
    "for id_user in all_ranking:\n",
    "    allresult.append(tuple(\n",
    "        (id_user, data[data['id_user'] == id_user]['username'].values[0], np.mean(all_ranking[id_user]))\n",
    "    ))"
   ]
  },
  {
   "cell_type": "code",
   "execution_count": 28,
   "metadata": {
    "collapsed": true
   },
   "outputs": [],
   "source": [
    "df_all = pd.DataFrame(allresult, columns=['id_user', 'screen_name', 'ranking']).sort_values(by='ranking')\n",
    "df_all['member'] = df_all.apply(lambda x: 'seed' if x['id_user'] in allseeds else 'random', axis=1)"
   ]
  },
  {
   "cell_type": "code",
   "execution_count": 29,
   "metadata": {
    "scrolled": false
   },
   "outputs": [
    {
     "data": {
      "text/html": [
       "<div>\n",
       "<style>\n",
       "    .dataframe thead tr:only-child th {\n",
       "        text-align: right;\n",
       "    }\n",
       "\n",
       "    .dataframe thead th {\n",
       "        text-align: left;\n",
       "    }\n",
       "\n",
       "    .dataframe tbody tr th {\n",
       "        vertical-align: top;\n",
       "    }\n",
       "</style>\n",
       "<table border=\"1\" class=\"dataframe\">\n",
       "  <thead>\n",
       "    <tr style=\"text-align: right;\">\n",
       "      <th></th>\n",
       "      <th>id_user</th>\n",
       "      <th>screen_name</th>\n",
       "      <th>ranking</th>\n",
       "      <th>member</th>\n",
       "    </tr>\n",
       "  </thead>\n",
       "  <tbody>\n",
       "    <tr>\n",
       "      <th>31</th>\n",
       "      <td>57268394</td>\n",
       "      <td>katie_martin_fx</td>\n",
       "      <td>1.347826</td>\n",
       "      <td>seed</td>\n",
       "    </tr>\n",
       "    <tr>\n",
       "      <th>135</th>\n",
       "      <td>327577091</td>\n",
       "      <td>justinwolfers</td>\n",
       "      <td>2.048387</td>\n",
       "      <td>seed</td>\n",
       "    </tr>\n",
       "    <tr>\n",
       "      <th>120</th>\n",
       "      <td>1305698738</td>\n",
       "      <td>economisthulk</td>\n",
       "      <td>2.326923</td>\n",
       "      <td>seed</td>\n",
       "    </tr>\n",
       "    <tr>\n",
       "      <th>99</th>\n",
       "      <td>211106542</td>\n",
       "      <td>dsquareddigest</td>\n",
       "      <td>2.644068</td>\n",
       "      <td>seed</td>\n",
       "    </tr>\n",
       "    <tr>\n",
       "      <th>61</th>\n",
       "      <td>22522178</td>\n",
       "      <td>reformedbroker</td>\n",
       "      <td>3.481481</td>\n",
       "      <td>seed</td>\n",
       "    </tr>\n",
       "    <tr>\n",
       "      <th>30</th>\n",
       "      <td>31137628</td>\n",
       "      <td>firoozye</td>\n",
       "      <td>4.235294</td>\n",
       "      <td>seed</td>\n",
       "    </tr>\n",
       "    <tr>\n",
       "      <th>92</th>\n",
       "      <td>241709263</td>\n",
       "      <td>economistmeg</td>\n",
       "      <td>5.687500</td>\n",
       "      <td>seed</td>\n",
       "    </tr>\n",
       "    <tr>\n",
       "      <th>76</th>\n",
       "      <td>7517052</td>\n",
       "      <td>howardlindzon</td>\n",
       "      <td>8.588235</td>\n",
       "      <td>seed</td>\n",
       "    </tr>\n",
       "    <tr>\n",
       "      <th>102</th>\n",
       "      <td>36361027</td>\n",
       "      <td>laurenlacapra</td>\n",
       "      <td>9.660377</td>\n",
       "      <td>seed</td>\n",
       "    </tr>\n",
       "    <tr>\n",
       "      <th>163</th>\n",
       "      <td>42047590</td>\n",
       "      <td>elliexxsmile</td>\n",
       "      <td>11.170000</td>\n",
       "      <td>random</td>\n",
       "    </tr>\n",
       "    <tr>\n",
       "      <th>66</th>\n",
       "      <td>3818</td>\n",
       "      <td>neiled</td>\n",
       "      <td>12.440000</td>\n",
       "      <td>random</td>\n",
       "    </tr>\n",
       "    <tr>\n",
       "      <th>17</th>\n",
       "      <td>35810531</td>\n",
       "      <td>bill_easterly</td>\n",
       "      <td>13.097561</td>\n",
       "      <td>seed</td>\n",
       "    </tr>\n",
       "    <tr>\n",
       "      <th>81</th>\n",
       "      <td>34</td>\n",
       "      <td>ariel</td>\n",
       "      <td>14.020000</td>\n",
       "      <td>random</td>\n",
       "    </tr>\n",
       "    <tr>\n",
       "      <th>49</th>\n",
       "      <td>575160556</td>\n",
       "      <td>faulljonathan</td>\n",
       "      <td>14.317073</td>\n",
       "      <td>seed</td>\n",
       "    </tr>\n",
       "    <tr>\n",
       "      <th>151</th>\n",
       "      <td>6361512</td>\n",
       "      <td>fgoria</td>\n",
       "      <td>14.368421</td>\n",
       "      <td>seed</td>\n",
       "    </tr>\n",
       "    <tr>\n",
       "      <th>147</th>\n",
       "      <td>62985293</td>\n",
       "      <td>huckdgear</td>\n",
       "      <td>14.510000</td>\n",
       "      <td>random</td>\n",
       "    </tr>\n",
       "    <tr>\n",
       "      <th>165</th>\n",
       "      <td>70</td>\n",
       "      <td>shannon</td>\n",
       "      <td>14.660000</td>\n",
       "      <td>random</td>\n",
       "    </tr>\n",
       "    <tr>\n",
       "      <th>63</th>\n",
       "      <td>163270776</td>\n",
       "      <td>zoepaofer</td>\n",
       "      <td>15.050000</td>\n",
       "      <td>random</td>\n",
       "    </tr>\n",
       "    <tr>\n",
       "      <th>171</th>\n",
       "      <td>5460</td>\n",
       "      <td>jaynerington</td>\n",
       "      <td>16.610000</td>\n",
       "      <td>random</td>\n",
       "    </tr>\n",
       "    <tr>\n",
       "      <th>157</th>\n",
       "      <td>320</td>\n",
       "      <td>inactivesarah</td>\n",
       "      <td>18.410000</td>\n",
       "      <td>random</td>\n",
       "    </tr>\n",
       "  </tbody>\n",
       "</table>\n",
       "</div>"
      ],
      "text/plain": [
       "        id_user      screen_name    ranking  member\n",
       "31     57268394  katie_martin_fx   1.347826    seed\n",
       "135   327577091    justinwolfers   2.048387    seed\n",
       "120  1305698738    economisthulk   2.326923    seed\n",
       "99    211106542   dsquareddigest   2.644068    seed\n",
       "61     22522178   reformedbroker   3.481481    seed\n",
       "30     31137628         firoozye   4.235294    seed\n",
       "92    241709263     economistmeg   5.687500    seed\n",
       "76      7517052    howardlindzon   8.588235    seed\n",
       "102    36361027    laurenlacapra   9.660377    seed\n",
       "163    42047590     elliexxsmile  11.170000  random\n",
       "66         3818           neiled  12.440000  random\n",
       "17     35810531    bill_easterly  13.097561    seed\n",
       "81           34            ariel  14.020000  random\n",
       "49    575160556    faulljonathan  14.317073    seed\n",
       "151     6361512           fgoria  14.368421    seed\n",
       "147    62985293        huckdgear  14.510000  random\n",
       "165          70          shannon  14.660000  random\n",
       "63    163270776        zoepaofer  15.050000  random\n",
       "171        5460     jaynerington  16.610000  random\n",
       "157         320    inactivesarah  18.410000  random"
      ]
     },
     "execution_count": 29,
     "metadata": {},
     "output_type": "execute_result"
    }
   ],
   "source": [
    "df_all[:20]"
   ]
  },
  {
   "cell_type": "code",
   "execution_count": 23,
   "metadata": {
    "scrolled": true
   },
   "outputs": [
    {
     "data": {
      "image/png": "[encoded data removed]",
      "text/plain": [
       "<matplotlib.figure.Figure at 0x1e86f2e8>"
      ]
     },
     "metadata": {},
     "output_type": "display_data"
    }
   ],
   "source": [
    "plotData(data[data['usertype'] == 'seed'], data[data['usertype']=='user'], header)"
   ]
  },
  {
   "cell_type": "markdown",
   "metadata": {
    "collapsed": true
   },
   "source": [
    "## Following Network Test - 1"
   ]
  },
  {
   "cell_type": "code",
   "execution_count": 35,
   "metadata": {},
   "outputs": [
    {
     "name": "stdout",
     "output_type": "stream",
     "text": [
      "Average P@20: 2.92\n"
     ]
    },
    {
     "data": {
      "image/png": "[encoded data removed]",
      "text/plain": [
       "<matplotlib.figure.Figure at 0x21784f60>"
      ]
     },
     "metadata": {},
     "output_type": "display_data"
    }
   ],
   "source": [
    "path = '{}/random-test/test-network-features/'.format(domain) \n",
    "\n",
    "for test in [1]:\n",
    "    # store the retrieval position of each seed\n",
    "    candidates_ranking = {}\n",
    "    for u in allseeds:\n",
    "        candidates_ranking[u] = []\n",
    "    \n",
    "    # test ids needed to filter the mentioned users (they are not included in the ranking)\n",
    "    testusers = pd.read_csv('data-random/user.csv', sep='\\t')\n",
    "    test_ids = map(str, testusers[testusers['n_test'] == test]['id_user'].unique())\n",
    "    \n",
    "    # features file reading and metadata inclusion\n",
    "    userdata = pd.read_csv(path+'social_network_{}_following_nodes.csv'.format(test), sep='\\t') # match graph id and user instance\n",
    "    data = pd.read_csv(path+'social_network_{}_following.emb'.format(test), sep=' ', header=None, skiprows=1)\n",
    "    data = userdata.merge(data, left_on='id', right_on=0)\n",
    "    data.drop(0, inplace=True, axis=1)\n",
    "    data.columns = ['id_graph','followers','following','id_user']+header\n",
    "    \n",
    "    # add username column to avoid error\n",
    "    data['username'] = 'not_kept'\n",
    "    \n",
    "    # keeps only seeds and test users for the evaluation\n",
    "    data = data[data['id_user'].isin(test_ids + allseeds)]\n",
    "    data.reset_index(inplace=True)\n",
    "    \n",
    "    # store everyone ranking to check if, on average, some interesting user comes up\n",
    "    all_ranking = {}\n",
    "    for u in list(data['id_user']):\n",
    "        all_ranking[u] = []\n",
    "    \n",
    "    ysum = np.zeros(data.shape[0] - 10)\n",
    "    #alldistr = pd.DataFrame(columns=['sim','freq'])\n",
    "    prec_20 = []\n",
    "    \n",
    "    for seeds in combinations:\n",
    "        effective_seeds = list(seeds)\n",
    "        good_candidates = list(set(allseeds)-(set(effective_seeds)))\n",
    "\n",
    "        seedsVectors = data[data['id_user'].isin(effective_seeds)]\n",
    "        centroid = computeCentroid(seedsVectors, header)\n",
    "        candidates = data[~data['id_user'].isin(effective_seeds)]\n",
    "\n",
    "        r = candidatesRanking(candidates, centroid, header)\n",
    "        r['good'] = r.apply(lambda x: True if str(x['id_user']) in good_candidates else False, axis=1)\n",
    "        y = cumulativeGoodCandidates(r)\n",
    "        ysum = ysum + y\n",
    "        \n",
    "        for index, candidate in r[r['good'] == True].iterrows():\n",
    "            id_user = str(candidate['id_user'])\n",
    "            candidates_ranking[id_user].append(index+1)\n",
    "        \n",
    "        for index, candidate in r.iterrows():\n",
    "            id_user = candidate['id_user']\n",
    "            all_ranking[id_user].append(index+1)\n",
    "        \n",
    "        prec_20.append(cumulativeGoodCandidates(r[:20])[19])\n",
    "        #sim_distr = computeSimDistribution(r, 3)\n",
    "        #alldistr = pd.concat([alldistr, sim_distr])\n",
    "\n",
    "    y_avg = ysum.astype(float)/len(combinations)\n",
    "    \n",
    "    plt.figure(figsize=(14,8))\n",
    "    plt.title('Cumulative good candidates for mention network - Test {}'.format(test))\n",
    "    plt.ylabel('#good candidates')\n",
    "    plt.xlabel('ranking position')\n",
    "\n",
    "    plt.plot(y_avg)\n",
    "    plt.plot([0, len(y_avg)],[0, 10], linestyle='--', color='black')\n",
    "    plt.xlim(xmin=1)\n",
    "\n",
    "    plt.yticks(range(1,11))\n",
    "    plt.grid(True)\n",
    "    \n",
    "    print 'Average P@20: {:.2f}'.format(np.mean(prec_20))"
   ]
  },
  {
   "cell_type": "code",
   "execution_count": 36,
   "metadata": {},
   "outputs": [
    {
     "data": {
      "image/png": "[encoded data removed]",
      "text/plain": [
       "<matplotlib.figure.Figure at 0x2175e9e8>"
      ]
     },
     "metadata": {},
     "output_type": "display_data"
    }
   ],
   "source": [
    "plotData(data[data['id_user'].isin(allseeds)], data[data['id_user'].isin(test_ids)], header)"
   ]
  },
  {
   "cell_type": "code",
   "execution_count": null,
   "metadata": {
    "collapsed": true
   },
   "outputs": [],
   "source": []
  }
 ],
 "metadata": {
  "kernelspec": {
   "display_name": "Python 2",
   "language": "python",
   "name": "python2"
  },
  "language_info": {
   "codemirror_mode": {
    "name": "ipython",
    "version": 2
   },
   "file_extension": ".py",
   "mimetype": "text/x-python",
   "name": "python",
   "nbconvert_exporter": "python",
   "pygments_lexer": "ipython2",
   "version": "2.7.13"
  }
 },
 "nbformat": 4,
 "nbformat_minor": 2
}
