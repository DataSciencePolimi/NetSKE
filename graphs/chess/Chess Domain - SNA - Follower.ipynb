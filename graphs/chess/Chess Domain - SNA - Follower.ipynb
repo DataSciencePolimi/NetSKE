{
 "cells": [
  {
   "cell_type": "code",
   "execution_count": 1,
   "metadata": {},
   "outputs": [],
   "source": [
    "import snap\n",
    "import pandas as pd\n",
    "import numpy as np\n",
    "\n",
    "import matplotlib.pyplot as plt\n",
    "\n",
    "%matplotlib inline"
   ]
  },
  {
   "cell_type": "markdown",
   "metadata": {},
   "source": [
    "Classical analysis to quantitatively describe the social networks, built using specific relationships.\n",
    "\n",
    "Metrics to be considered for each network:\n",
    "- #nodes, #edges\n",
    "- average degree, indegree, outdegree\n",
    "- node centrality (?, intensive)\n",
    "- <b> modularity </b> (average and between finance community and the rest, to verify if it is effectively a module)\n",
    "- clustering coefficient\n",
    "- isConnected, connected components"
   ]
  },
  {
   "cell_type": "markdown",
   "metadata": {},
   "source": [
    "NB: default script to be used as basic metrics analysis of any network"
   ]
  },
  {
   "cell_type": "code",
   "execution_count": 2,
   "metadata": {},
   "outputs": [],
   "source": [
    "def autolabel(rects):\n",
    "    \"\"\"\n",
    "    Attach a text label above each bar displaying its height\n",
    "    \"\"\"\n",
    "    for rect in rects:\n",
    "        height = rect.get_height()\n",
    "        plt.text(rect.get_x() + rect.get_width()/2., 1.05*height,\n",
    "                '%d' % int(height), rotation=45,\n",
    "                ha='center', va='bottom')"
   ]
  },
  {
   "cell_type": "markdown",
   "metadata": {},
   "source": [
    "## Follower Network"
   ]
  },
  {
   "cell_type": "code",
   "execution_count": 3,
   "metadata": {},
   "outputs": [],
   "source": [
    "path = 'random-test/test-network-features/'\n",
    "networkname = 'social_network_1_follower'\n",
    "network = snap.LoadEdgeListNet(path+networkname+'.csv', '\\t')"
   ]
  },
  {
   "cell_type": "code",
   "execution_count": 4,
   "metadata": {},
   "outputs": [
    {
     "name": "stdout",
     "output_type": "stream",
     "text": [
      "|V| = 1547158\n",
      "|E| = 1867596\n",
      "Connected Network: False\n"
     ]
    }
   ],
   "source": [
    "print '|V| = {}'.format(network.GetNodes())\n",
    "print '|E| = {}'.format(network.GetEdges())\n",
    "print 'Connected Network: {}'.format(snap.IsConnected(network))"
   ]
  },
  {
   "cell_type": "code",
   "execution_count": 5,
   "metadata": {},
   "outputs": [
    {
     "name": "stdout",
     "output_type": "stream",
     "text": [
      "Weakly Connected Component Distribution\n",
      "#nodes in component: 2 - #components: 3\n",
      "#nodes in component: 3 - #components: 5\n",
      "#nodes in component: 4 - #components: 3\n",
      "#nodes in component: 5 - #components: 5\n",
      "#nodes in component: 6 - #components: 2\n",
      "#nodes in component: 7 - #components: 2\n",
      "#nodes in component: 8 - #components: 1\n",
      "#nodes in component: 9 - #components: 1\n",
      "#nodes in component: 10 - #components: 4\n",
      "#nodes in component: 12 - #components: 1\n",
      "#nodes in component: 13 - #components: 1\n",
      "#nodes in component: 14 - #components: 1\n",
      "#nodes in component: 16 - #components: 1\n",
      "#nodes in component: 21 - #components: 1\n",
      "#nodes in component: 22 - #components: 1\n",
      "#nodes in component: 25 - #components: 1\n",
      "#nodes in component: 26 - #components: 1\n",
      "#nodes in component: 27 - #components: 1\n",
      "#nodes in component: 36 - #components: 1\n",
      "#nodes in component: 48 - #components: 1\n",
      "#nodes in component: 67 - #components: 1\n",
      "#nodes in component: 78 - #components: 1\n",
      "#nodes in component: 95 - #components: 1\n",
      "#nodes in component: 128 - #components: 1\n",
      "#nodes in component: 194 - #components: 1\n",
      "#nodes in component: 1546195 - #components: 1\n"
     ]
    }
   ],
   "source": [
    "# a WEAKLY connected component is a subgraph where each node is reachable by an UNDIRECTED PATH, starting from each other\n",
    "# node in the component (undirected cycle present)\n",
    "# the property is verified treating the graph as undirected (even if it is directed)\n",
    "ComponentDist = snap.TIntPrV()\n",
    "snap.GetWccSzCnt(network, ComponentDist)\n",
    "print \"Weakly Connected Component Distribution\"\n",
    "for comp in ComponentDist:\n",
    "    print \"#nodes in component: %d - #components: %d\" % (comp.GetVal1(), comp.GetVal2())"
   ]
  },
  {
   "cell_type": "code",
   "execution_count": 6,
   "metadata": {},
   "outputs": [
    {
     "name": "stdout",
     "output_type": "stream",
     "text": [
      "Strongly Connected Component Distribution\n",
      "#nodes in component: 1 - #components: 1547125\n",
      "#nodes in component: 2 - #components: 4\n",
      "#nodes in component: 6 - #components: 1\n",
      "#nodes in component: 19 - #components: 1\n"
     ]
    }
   ],
   "source": [
    "# a STRONGLY connected component is a subgraph where each node is reachable by a DIRECTED PATH, starting from each other\n",
    "# node in the component (directed cycle present)\n",
    "ComponentDist = snap.TIntPrV()\n",
    "snap.GetSccSzCnt(network, ComponentDist)\n",
    "print \"Strongly Connected Component Distribution\"\n",
    "for comp in ComponentDist:\n",
    "    print \"#nodes in component: %d - #components: %d\" % (comp.GetVal1(), comp.GetVal2())"
   ]
  },
  {
   "cell_type": "code",
   "execution_count": 7,
   "metadata": {},
   "outputs": [],
   "source": [
    "indeg = []\n",
    "count = []\n",
    "indeg_distribution = snap.TIntPrV()\n",
    "snap.GetInDegCnt(network, indeg_distribution)\n",
    "for item in indeg_distribution:\n",
    "    indeg.append(item.GetVal1())\n",
    "    count.append(item.GetVal2())"
   ]
  },
  {
   "cell_type": "code",
   "execution_count": 8,
   "metadata": {},
   "outputs": [
    {
     "name": "stdout",
     "output_type": "stream",
     "text": [
      "In-degrees: [0, 1, 2, 3, 4, 5, 6, 7, 8, 9, 11, 12, 13, 15, 20, 21, 22, 23, 24, 25, 26, 31, 34, 35, 42, 47, 54, 66, 70, 77, 78, 80, 81, 89, 94, 96, 104, 111, 113, 126, 127, 129, 135, 153, 154, 155, 160, 164, 165, 193, 202, 213, 217, 243, 259, 266, 283, 289, 303, 307, 356, 364, 374, 392, 397, 418, 456, 462, 492, 509, 630, 650, 739, 819, 841, 919, 963, 965, 978, 987, 1123, 1173, 1417, 1592, 1944, 2102, 2203, 2215, 2276, 2465, 2486, 2531, 2667, 3196, 3506, 4255, 6203, 6548, 7235, 7337, 7711, 8312, 8772, 9293, 9728, 9840, 10333, 10462, 10537, 11204, 11917, 11994, 12481, 12918, 13457, 13667, 14941, 15295, 15514, 18022, 24171, 32857, 40560, 41329, 53278, 77685, 128355, 190065, 250000, 709799]\n",
      "Frequency [1547009, 3, 5, 3, 5, 2, 2, 1, 1, 5, 1, 1, 2, 1, 2, 1, 1, 1, 1, 1, 1, 1, 1, 1, 1, 1, 1, 1, 1, 1, 1, 1, 1, 1, 1, 1, 1, 1, 1, 1, 1, 1, 1, 1, 1, 1, 1, 1, 1, 1, 1, 1, 1, 1, 1, 1, 1, 1, 1, 1, 1, 1, 1, 1, 1, 1, 1, 1, 1, 1, 1, 1, 1, 1, 1, 1, 1, 1, 1, 1, 1, 1, 1, 1, 1, 1, 1, 1, 1, 1, 1, 1, 1, 1, 1, 1, 1, 1, 1, 1, 1, 1, 1, 1, 1, 1, 1, 1, 1, 1, 1, 1, 1, 1, 1, 1, 1, 1, 1, 1, 1, 1, 1, 1, 1, 1, 1, 1, 1, 1]\n"
     ]
    }
   ],
   "source": [
    "# indegree represents the number of incoming follower relationships for each node: most of them have 0 as out-degree, \n",
    "# meaning that they are the follower of 1 single user (leaves), other are shared across multiple users\n",
    "# indegree is extremely variated, as most users have a different number of followers\n",
    "print 'In-degrees: {}'.format(indeg)\n",
    "print 'Frequency {}'.format(count)"
   ]
  },
  {
   "cell_type": "code",
   "execution_count": 9,
   "metadata": {},
   "outputs": [],
   "source": [
    "# outdegree represents the number of shared followers: if the outdegree is >1, then it means that the user is follower\n",
    "# of more than 1 seed/random test user\n",
    "# outdegree == 0 are the target users which do not appear in any other list\n",
    "\n",
    "outdeg = []\n",
    "count = []\n",
    "outdeg_distribution = snap.TIntPrV()\n",
    "snap.GetOutDegCnt(network, outdeg_distribution)\n",
    "for item in outdeg_distribution:\n",
    "    outdeg.append(item.GetVal1())\n",
    "    count.append(item.GetVal2())"
   ]
  },
  {
   "cell_type": "code",
   "execution_count": 10,
   "metadata": {},
   "outputs": [
    {
     "data": {
      "image/png": "[encoded data removed]",
      "text/plain": [
       "<Figure size 1296x720 with 1 Axes>"
      ]
     },
     "metadata": {},
     "output_type": "display_data"
    }
   ],
   "source": [
    "plt.figure(figsize=(18,10))\n",
    "bars = plt.bar(outdeg, count)\n",
    "plt.title('Out-degree Distribution')\n",
    "plt.xticks(outdeg)\n",
    "autolabel(bars)"
   ]
  },
  {
   "cell_type": "code",
   "execution_count": 11,
   "metadata": {},
   "outputs": [],
   "source": [
    "# clustering coefficient is a measure of the tendency of the graph to create tight connections\n",
    "# a triplet is three nodes that are connected by either two (open triplet) or three (closed triplet) undirected ties\n",
    "# the clustering coefficient is the ratio between the closed triplets and all the triplets\n",
    "\n",
    "#print 'Clustering Coefficient: %f' % snap.GetClustCf (network, int(network.GetNodes()*0.6))"
   ]
  },
  {
   "cell_type": "code",
   "execution_count": 11,
   "metadata": {},
   "outputs": [
    {
     "name": "stdout",
     "output_type": "stream",
     "text": [
      "1 200099240\n",
      "2959 185677963\n",
      "3052 426562635\n",
      "3255 199791653\n",
      "3407 256669567\n",
      "3508 101850896\n",
      "3545 1608358362\n",
      "4343 499173831\n",
      "7038 2609917590\n",
      "7232 1378771908\n",
      "7817 1495255914\n",
      "8100 381844429\n",
      "8506 60995997\n",
      "8576 354486695\n",
      "15867 850319256\n",
      "16229 30352096\n",
      "16537 449588356\n",
      "16905 142334215\n",
      "53943 518930655\n",
      "118577 417656212\n"
     ]
    }
   ],
   "source": [
    "# test the modularity of the community of seeds and its followings\n",
    "seeds = map(str, list(pd.read_csv('../data-seed/chess/user.csv', sep='\\t')['id_user']))\n",
    "\n",
    "community_ids = snap.TIntV()\n",
    "for node in network.Nodes():\n",
    "    nid = node.GetId()\n",
    "    id_user = network.GetStrAttrDatN(nid, 'id')\n",
    "    \n",
    "    if id_user in seeds:\n",
    "        community_ids.Add(nid)\n",
    "        print nid, id_user\n",
    "        nodeIt = network.GetNI(nid)\n",
    "        for e in range(nodeIt.GetInDeg()):\n",
    "            community_ids.Add(nodeIt.GetInNId(e))\n",
    "community_ids.Merge()"
   ]
  },
  {
   "cell_type": "code",
   "execution_count": 13,
   "metadata": {},
   "outputs": [],
   "source": [
    "comm_graph = snap.GetSubGraph(network, community_ids)"
   ]
  },
  {
   "cell_type": "code",
   "execution_count": 15,
   "metadata": {},
   "outputs": [
    {
     "name": "stdout",
     "output_type": "stream",
     "text": [
      "Nodes in the finance following subnetwork: 451862\n",
      "%nodes of the community with respect to the overall graph: 0.292059375965\n",
      "Edges in the finance following subnetwork: 700737\n",
      "%edges of the community with respect to the overall graph: 0.375208021435\n"
     ]
    }
   ],
   "source": [
    "print \"Nodes in the finance following subnetwork: %d\" % comm_graph.GetNodes()\n",
    "print \"%nodes of the community with respect to the overall graph: {}\".format(float(comm_graph.GetNodes())/network.GetNodes())\n",
    "\n",
    "print \"Edges in the finance following subnetwork: %d\" % comm_graph.GetEdges()\n",
    "print \"%edges of the community with respect to the overall graph: {}\".format(float(comm_graph.GetEdges())/network.GetEdges())"
   ]
  },
  {
   "cell_type": "code",
   "execution_count": 16,
   "metadata": {},
   "outputs": [],
   "source": [
    "# need to redefine the network as an undirected graphs\n",
    "modularity = snap.GetModularity(snap.GetUnDir(network), community_ids)"
   ]
  },
  {
   "cell_type": "code",
   "execution_count": 18,
   "metadata": {},
   "outputs": [
    {
     "name": "stdout",
     "output_type": "stream",
     "text": [
      "Modularity of chess community: 0.151867151368\n"
     ]
    }
   ],
   "source": [
    "print 'Modularity of chess community: {}'.format(modularity)\n",
    "#print 'Modularity of entire graph: {}'.format(modularity_graph)"
   ]
  },
  {
   "cell_type": "code",
   "execution_count": null,
   "metadata": {},
   "outputs": [],
   "source": []
  }
 ],
 "metadata": {
  "kernelspec": {
   "display_name": "Python 2",
   "language": "python",
   "name": "python2"
  },
  "language_info": {
   "codemirror_mode": {
    "name": "ipython",
    "version": 2
   },
   "file_extension": ".py",
   "mimetype": "text/x-python",
   "name": "python",
   "nbconvert_exporter": "python",
   "pygments_lexer": "ipython2",
   "version": "2.7.15"
  }
 },
 "nbformat": 4,
 "nbformat_minor": 2
}
