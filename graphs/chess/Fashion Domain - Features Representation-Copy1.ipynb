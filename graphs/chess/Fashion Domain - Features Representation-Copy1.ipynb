{
 "cells": [
  {
   "cell_type": "code",
   "execution_count": 1,
   "metadata": {},
   "outputs": [],
   "source": [
    "import pandas as pd\n",
    "import numpy as np\n",
    "\n",
    "from numpy.linalg import norm\n",
    "from sklearn.decomposition import PCA\n",
    "\n",
    "import itertools\n",
    "import random\n",
    "\n",
    "import pickle\n",
    "\n",
    "import matplotlib.pyplot as plt\n",
    "%matplotlib inline"
   ]
  },
  {
   "cell_type": "code",
   "execution_count": 2,
   "metadata": {},
   "outputs": [],
   "source": [
    "domain = 'fashion'\n",
    "datapath = '../data-seed/{}/'.format(domain)\n",
    "path = 'random-test/test-network-features/'\n",
    "header = ['{}'.format(i) for i in range(1,9)]"
   ]
  },
  {
   "cell_type": "code",
   "execution_count": 3,
   "metadata": {},
   "outputs": [],
   "source": [
    "test = 1\n",
    "\n",
    "seed_data = pd.read_csv(datapath+'/user.csv', sep='\\t')\n",
    "seed_data['usertype'] = 'seed'\n",
    "\n",
    "# test ids needed to filter the mentioned/following/followed users (they are not included in the ranking)\n",
    "testusers = pd.read_csv('../data-random/user.csv', sep='\\t')"
   ]
  },
  {
   "cell_type": "code",
   "execution_count": 4,
   "metadata": {},
   "outputs": [],
   "source": [
    "def plotData(seeds, candidates, centroids = None):\n",
    "    x = 'pca1'\n",
    "    y = 'pca2'\n",
    "    \n",
    "    plt.figure(figsize=(12,12))\n",
    "    plt.scatter(candidates[x], candidates[y], marker='.', s=40, lw=0, alpha=0.7, label='candidates')\n",
    "    plt.scatter(seeds[x], seeds[y], marker='x', color='red', label='seeds')\n",
    "    \n",
    "    if centroids is not None:\n",
    "        for c in centroids:\n",
    "            plt.scatter(c[0], c[1], marker='o', color='black', label='centroid')\n",
    "    \n",
    "    plt.legend()"
   ]
  },
  {
   "cell_type": "code",
   "execution_count": 5,
   "metadata": {},
   "outputs": [],
   "source": [
    "pca = PCA(n_components=2)"
   ]
  },
  {
   "cell_type": "markdown",
   "metadata": {},
   "source": [
    "#### Use PCA to show the features using two components"
   ]
  },
  {
   "cell_type": "markdown",
   "metadata": {},
   "source": [
    "1. Mentions"
   ]
  },
  {
   "cell_type": "code",
   "execution_count": 6,
   "metadata": {},
   "outputs": [],
   "source": [
    "# features file reading and metadata inclusion\n",
    "userdata = pd.read_csv(path+'m_network_{}_nodes.csv'.format(test), sep='\\t') # match graph id and user instance\n",
    "userdata = userdata[userdata['id_node'].isin(['seed', 'user'])]\n",
    "\n",
    "data = pd.read_csv(path+'m_network_{}.emb'.format(test), sep=' ', header=None, skiprows=1)\n",
    "data = userdata.merge(data, left_on='id', right_on=0)\n",
    "\n",
    "data.drop(0, inplace=True, axis=1)\n",
    "data.columns = ['id_graph','username','id_user','usertype']+header\n",
    "data['id_user'] = data['id_user'].astype(int)\n",
    "\n",
    "# keeps only seeds and test users for the evaluation\n",
    "t1_users = testusers[testusers['n_test'] == test][['id_user', 'screen_name']].drop_duplicates()\n",
    "t1_users['usertype'] = 'user'\n",
    "data = data.merge(pd.concat([seed_data[['id_user', 'screen_name', 'usertype']], t1_users]), on='id_user')"
   ]
  },
  {
   "cell_type": "code",
   "execution_count": 7,
   "metadata": {},
   "outputs": [
    {
     "data": {
      "text/html": [
       "<div>\n",
       "<style scoped>\n",
       "    .dataframe tbody tr th:only-of-type {\n",
       "        vertical-align: middle;\n",
       "    }\n",
       "\n",
       "    .dataframe tbody tr th {\n",
       "        vertical-align: top;\n",
       "    }\n",
       "\n",
       "    .dataframe thead th {\n",
       "        text-align: right;\n",
       "    }\n",
       "</style>\n",
       "<table border=\"1\" class=\"dataframe\">\n",
       "  <thead>\n",
       "    <tr style=\"text-align: right;\">\n",
       "      <th></th>\n",
       "      <th>id_graph</th>\n",
       "      <th>username</th>\n",
       "      <th>id_user</th>\n",
       "      <th>usertype_x</th>\n",
       "      <th>1</th>\n",
       "      <th>2</th>\n",
       "      <th>3</th>\n",
       "      <th>4</th>\n",
       "      <th>5</th>\n",
       "      <th>6</th>\n",
       "      <th>7</th>\n",
       "      <th>8</th>\n",
       "      <th>screen_name</th>\n",
       "      <th>usertype_y</th>\n",
       "    </tr>\n",
       "  </thead>\n",
       "  <tbody>\n",
       "    <tr>\n",
       "      <th>0</th>\n",
       "      <td>1</td>\n",
       "      <td>edwardcordobab</td>\n",
       "      <td>47807745</td>\n",
       "      <td>seed</td>\n",
       "      <td>0.623386</td>\n",
       "      <td>1.14071</td>\n",
       "      <td>-5.09694</td>\n",
       "      <td>-12.01750</td>\n",
       "      <td>0.723569</td>\n",
       "      <td>0.250424</td>\n",
       "      <td>-2.99241</td>\n",
       "      <td>0.283470</td>\n",
       "      <td>edwardcordobab</td>\n",
       "      <td>seed</td>\n",
       "    </tr>\n",
       "    <tr>\n",
       "      <th>1</th>\n",
       "      <td>162</td>\n",
       "      <td>cortomoltedo</td>\n",
       "      <td>225029801</td>\n",
       "      <td>seed</td>\n",
       "      <td>1.214940</td>\n",
       "      <td>1.23608</td>\n",
       "      <td>-5.84149</td>\n",
       "      <td>-12.98040</td>\n",
       "      <td>0.599439</td>\n",
       "      <td>-0.119199</td>\n",
       "      <td>-3.45290</td>\n",
       "      <td>0.101869</td>\n",
       "      <td>cortomoltedo</td>\n",
       "      <td>seed</td>\n",
       "    </tr>\n",
       "    <tr>\n",
       "      <th>2</th>\n",
       "      <td>317</td>\n",
       "      <td>aincontri</td>\n",
       "      <td>525277114</td>\n",
       "      <td>seed</td>\n",
       "      <td>0.682810</td>\n",
       "      <td>0.95289</td>\n",
       "      <td>-3.60298</td>\n",
       "      <td>-9.06031</td>\n",
       "      <td>0.388262</td>\n",
       "      <td>0.109239</td>\n",
       "      <td>-2.02639</td>\n",
       "      <td>0.229818</td>\n",
       "      <td>aincontri</td>\n",
       "      <td>seed</td>\n",
       "    </tr>\n",
       "    <tr>\n",
       "      <th>3</th>\n",
       "      <td>339</td>\n",
       "      <td>angelosfrentzos</td>\n",
       "      <td>459326572</td>\n",
       "      <td>seed</td>\n",
       "      <td>1.110460</td>\n",
       "      <td>1.33048</td>\n",
       "      <td>-6.14891</td>\n",
       "      <td>-13.49380</td>\n",
       "      <td>0.305338</td>\n",
       "      <td>0.073072</td>\n",
       "      <td>-3.44082</td>\n",
       "      <td>0.368040</td>\n",
       "      <td>angelosfrentzos</td>\n",
       "      <td>seed</td>\n",
       "    </tr>\n",
       "    <tr>\n",
       "      <th>4</th>\n",
       "      <td>443</td>\n",
       "      <td>andrea_pompilio</td>\n",
       "      <td>536190247</td>\n",
       "      <td>seed</td>\n",
       "      <td>0.855306</td>\n",
       "      <td>1.30184</td>\n",
       "      <td>-5.49370</td>\n",
       "      <td>-12.85770</td>\n",
       "      <td>0.832781</td>\n",
       "      <td>-0.121664</td>\n",
       "      <td>-2.99364</td>\n",
       "      <td>0.578858</td>\n",
       "      <td>andrea_pompilio</td>\n",
       "      <td>seed</td>\n",
       "    </tr>\n",
       "  </tbody>\n",
       "</table>\n",
       "</div>"
      ],
      "text/plain": [
       "   id_graph         username    id_user usertype_x         1        2  \\\n",
       "0         1   edwardcordobab   47807745       seed  0.623386  1.14071   \n",
       "1       162     cortomoltedo  225029801       seed  1.214940  1.23608   \n",
       "2       317        aincontri  525277114       seed  0.682810  0.95289   \n",
       "3       339  angelosfrentzos  459326572       seed  1.110460  1.33048   \n",
       "4       443  andrea_pompilio  536190247       seed  0.855306  1.30184   \n",
       "\n",
       "         3         4         5         6        7         8      screen_name  \\\n",
       "0 -5.09694 -12.01750  0.723569  0.250424 -2.99241  0.283470   edwardcordobab   \n",
       "1 -5.84149 -12.98040  0.599439 -0.119199 -3.45290  0.101869     cortomoltedo   \n",
       "2 -3.60298  -9.06031  0.388262  0.109239 -2.02639  0.229818        aincontri   \n",
       "3 -6.14891 -13.49380  0.305338  0.073072 -3.44082  0.368040  angelosfrentzos   \n",
       "4 -5.49370 -12.85770  0.832781 -0.121664 -2.99364  0.578858  andrea_pompilio   \n",
       "\n",
       "  usertype_y  \n",
       "0       seed  \n",
       "1       seed  \n",
       "2       seed  \n",
       "3       seed  \n",
       "4       seed  "
      ]
     },
     "execution_count": 7,
     "metadata": {},
     "output_type": "execute_result"
    }
   ],
   "source": [
    "data.head()"
   ]
  },
  {
   "cell_type": "code",
   "execution_count": 8,
   "metadata": {},
   "outputs": [],
   "source": [
    "X = pca.fit_transform(data[header])\n",
    "vizdata = data.merge(pd.DataFrame(X, columns=['pca1', 'pca2']), left_index=True, right_index=True)"
   ]
  },
  {
   "cell_type": "code",
   "execution_count": 9,
   "metadata": {},
   "outputs": [
    {
     "data": {
      "text/plain": [
       "Text(0.5,1,'PCA decomposition of mention features')"
      ]
     },
     "execution_count": 9,
     "metadata": {},
     "output_type": "execute_result"
    },
    {
     "data": {
      "image/png": "[encoded data removed]",
      "text/plain": [
       "<Figure size 864x864 with 1 Axes>"
      ]
     },
     "metadata": {},
     "output_type": "display_data"
    }
   ],
   "source": [
    "plotData(vizdata[vizdata['usertype_x'] == 'seed'],\n",
    "        vizdata[vizdata['usertype_x'] == 'user'])\n",
    "plt.title('PCA decomposition of mention features')"
   ]
  },
  {
   "cell_type": "markdown",
   "metadata": {},
   "source": [
    "2. Following"
   ]
  },
  {
   "cell_type": "code",
   "execution_count": 10,
   "metadata": {},
   "outputs": [],
   "source": [
    "# features file reading and metadata inclusion\n",
    "userdata = pd.read_csv(path+'social_network_{}_following_nodes.csv'.format(test), sep='\\t')\n",
    "data = pd.read_csv(path+'social_network_{}_following.emb'.format(test), sep=' ', header=None, skiprows=1)\n",
    "data = userdata.merge(data, left_on='id', right_on=0)\n",
    "data.drop(0, inplace=True, axis=1)\n",
    "\n",
    "# need to add usernames, too and filter the mentioned users that should not be included\n",
    "t1_users = testusers[testusers['n_test'] == test][['id_user', 'screen_name']].drop_duplicates()\n",
    "t1_users['usertype'] = 'user'\n",
    "data = data.merge(pd.concat([seed_data[['id_user', 'screen_name', 'usertype']], t1_users]), on='id_user')\n",
    "\n",
    "data.columns = ['id_graph','followers','following','id_user']+header+['username', 'usertype']"
   ]
  },
  {
   "cell_type": "code",
   "execution_count": 11,
   "metadata": {},
   "outputs": [],
   "source": [
    "X = pca.fit_transform(data[header])\n",
    "vizdata = data.merge(pd.DataFrame(X, columns=['pca1', 'pca2']), left_index=True, right_index=True)"
   ]
  },
  {
   "cell_type": "code",
   "execution_count": 12,
   "metadata": {},
   "outputs": [
    {
     "data": {
      "text/plain": [
       "Text(0.5,1,'PCA decomposition of following network features')"
      ]
     },
     "execution_count": 12,
     "metadata": {},
     "output_type": "execute_result"
    },
    {
     "data": {
      "image/png": "[encoded data removed]",
      "text/plain": [
       "<Figure size 864x864 with 1 Axes>"
      ]
     },
     "metadata": {},
     "output_type": "display_data"
    }
   ],
   "source": [
    "plotData(vizdata[vizdata['usertype'] == 'seed'],\n",
    "        vizdata[vizdata['usertype'] == 'user'])\n",
    "plt.title('PCA decomposition of following network features')"
   ]
  },
  {
   "cell_type": "markdown",
   "metadata": {},
   "source": [
    "3. Followers"
   ]
  },
  {
   "cell_type": "code",
   "execution_count": 13,
   "metadata": {},
   "outputs": [],
   "source": [
    "# features file reading and metadata inclusion\n",
    "userdata = pd.read_csv(path+'social_network_{}_follower_nodes.csv'.format(test), sep='\\t')\n",
    "data = pd.read_csv(path+'social_network_{}_follower.emb'.format(test), sep=' ', header=None, skiprows=1)\n",
    "data = userdata.merge(data, left_on='id', right_on=0)\n",
    "data.drop(0, inplace=True, axis=1)\n",
    "\n",
    "# need to add usernames, too and filter the mentioned users that should not be included\n",
    "t1_users = testusers[testusers['n_test'] == test][['id_user', 'screen_name']].drop_duplicates()\n",
    "t1_users['usertype'] = 'user'\n",
    "data = data.merge(pd.concat([seed_data[['id_user', 'screen_name', 'usertype']], t1_users]), on='id_user')\n",
    "\n",
    "data.columns = ['id_graph','followers','following','id_user']+header+['username', 'usertype']"
   ]
  },
  {
   "cell_type": "code",
   "execution_count": 14,
   "metadata": {},
   "outputs": [],
   "source": [
    "X = pca.fit_transform(data[header])\n",
    "vizdata = data.merge(pd.DataFrame(X, columns=['pca1', 'pca2']), left_index=True, right_index=True)"
   ]
  },
  {
   "cell_type": "code",
   "execution_count": 15,
   "metadata": {},
   "outputs": [
    {
     "data": {
      "text/plain": [
       "Text(0.5,1,'PCA decomposition of followers network features')"
      ]
     },
     "execution_count": 15,
     "metadata": {},
     "output_type": "execute_result"
    },
    {
     "data": {
      "image/png": "[encoded data removed]",
      "text/plain": [
       "<Figure size 864x864 with 1 Axes>"
      ]
     },
     "metadata": {},
     "output_type": "display_data"
    }
   ],
   "source": [
    "plotData(vizdata[vizdata['usertype'] == 'seed'],\n",
    "        vizdata[vizdata['usertype'] == 'user'])\n",
    "plt.title('PCA decomposition of followers network features')"
   ]
  },
  {
   "cell_type": "code",
   "execution_count": null,
   "metadata": {},
   "outputs": [],
   "source": []
  }
 ],
 "metadata": {
  "kernelspec": {
   "display_name": "Python 3",
   "language": "python",
   "name": "python3"
  },
  "language_info": {
   "codemirror_mode": {
    "name": "ipython",
    "version": 3
   },
   "file_extension": ".py",
   "mimetype": "text/x-python",
   "name": "python",
   "nbconvert_exporter": "python",
   "pygments_lexer": "ipython3",
   "version": "3.6.5"
  }
 },
 "nbformat": 4,
 "nbformat_minor": 2
}
