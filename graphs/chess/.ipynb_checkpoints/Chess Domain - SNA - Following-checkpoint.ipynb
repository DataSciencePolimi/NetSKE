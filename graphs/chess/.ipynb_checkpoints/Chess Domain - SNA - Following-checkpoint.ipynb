{
 "cells": [
  {
   "cell_type": "code",
   "execution_count": 1,
   "metadata": {},
   "outputs": [],
   "source": [
    "import snap\n",
    "import pandas as pd\n",
    "import numpy as np\n",
    "\n",
    "import matplotlib.pyplot as plt\n",
    "\n",
    "%matplotlib inline"
   ]
  },
  {
   "cell_type": "markdown",
   "metadata": {},
   "source": [
    "Classical analysis to quantitatively describe the social networks, built using specific relationships.\n",
    "\n",
    "Metrics to be considered for each network:\n",
    "- #nodes, #edges\n",
    "- average degree, indegree, outdegree\n",
    "- node centrality (?, intensive)\n",
    "- <b> modularity </b> (average and between finance community and the rest, to verify if it is effectively a module)\n",
    "- clustering coefficient\n",
    "- isConnected, connected components"
   ]
  },
  {
   "cell_type": "markdown",
   "metadata": {},
   "source": [
    "NB: default script to be used as basic metrics analysis of any network"
   ]
  },
  {
   "cell_type": "code",
   "execution_count": 2,
   "metadata": {},
   "outputs": [],
   "source": [
    "def autolabel(rects):\n",
    "    \"\"\"\n",
    "    Attach a text label above each bar displaying its height\n",
    "    \"\"\"\n",
    "    for rect in rects:\n",
    "        height = rect.get_height()\n",
    "        plt.text(rect.get_x() + rect.get_width()/2., 1.05*height,\n",
    "                '%d' % int(height), rotation=45,\n",
    "                ha='center', va='bottom')"
   ]
  },
  {
   "cell_type": "markdown",
   "metadata": {},
   "source": [
    "## Following Network"
   ]
  },
  {
   "cell_type": "code",
   "execution_count": 3,
   "metadata": {},
   "outputs": [],
   "source": [
    "path = 'random-test/test-network-features/'\n",
    "networkname = 'social_network_1_following'\n",
    "network = snap.LoadEdgeListNet(path+networkname+'.csv', '\\t')"
   ]
  },
  {
   "cell_type": "code",
   "execution_count": 4,
   "metadata": {},
   "outputs": [
    {
     "name": "stdout",
     "output_type": "stream",
     "text": [
      "|V| = 71039\n",
      "|E| = 87161\n",
      "Connected Network: False\n"
     ]
    }
   ],
   "source": [
    "print '|V| = {}'.format(network.GetNodes())\n",
    "print '|E| = {}'.format(network.GetEdges())\n",
    "print 'Connected Network: {}'.format(snap.IsConnected(network))"
   ]
  },
  {
   "cell_type": "code",
   "execution_count": 5,
   "metadata": {},
   "outputs": [
    {
     "name": "stdout",
     "output_type": "stream",
     "text": [
      "Weakly Connected Component Distribution\n",
      "#nodes in component: 2 - #components: 7\n",
      "#nodes in component: 4 - #components: 2\n",
      "#nodes in component: 5 - #components: 2\n",
      "#nodes in component: 7 - #components: 1\n",
      "#nodes in component: 12 - #components: 1\n",
      "#nodes in component: 23 - #components: 1\n",
      "#nodes in component: 25 - #components: 1\n",
      "#nodes in component: 27 - #components: 1\n",
      "#nodes in component: 51 - #components: 1\n",
      "#nodes in component: 70862 - #components: 1\n"
     ]
    }
   ],
   "source": [
    "# a WEAKLY connected component is a subgraph where each node is reachable by an UNDIRECTED PATH, starting from each other\n",
    "# node in the component (undirected cycle present)\n",
    "# the property is verified treating the graph as undirected (even if it is directed)\n",
    "ComponentDist = snap.TIntPrV()\n",
    "snap.GetWccSzCnt(network, ComponentDist)\n",
    "print \"Weakly Connected Component Distribution\"\n",
    "for comp in ComponentDist:\n",
    "    print \"#nodes in component: %d - #components: %d\" % (comp.GetVal1(), comp.GetVal2())"
   ]
  },
  {
   "cell_type": "code",
   "execution_count": 6,
   "metadata": {},
   "outputs": [
    {
     "name": "stdout",
     "output_type": "stream",
     "text": [
      "Strongly Connected Component Distribution\n",
      "#nodes in component: 1 - #components: 71005\n",
      "#nodes in component: 2 - #components: 2\n",
      "#nodes in component: 30 - #components: 1\n"
     ]
    }
   ],
   "source": [
    "# a STRONGLY connected component is a subgraph where each node is reachable by a DIRECTED PATH, starting from each other\n",
    "# node in the component (directed cycle present)\n",
    "ComponentDist = snap.TIntPrV()\n",
    "snap.GetSccSzCnt(network, ComponentDist)\n",
    "print \"Strongly Connected Component Distribution\"\n",
    "for comp in ComponentDist:\n",
    "    print \"#nodes in component: %d - #components: %d\" % (comp.GetVal1(), comp.GetVal2())"
   ]
  },
  {
   "cell_type": "code",
   "execution_count": 7,
   "metadata": {},
   "outputs": [],
   "source": [
    "indeg = []\n",
    "count = []\n",
    "indeg_distribution = snap.TIntPrV()\n",
    "snap.GetInDegCnt(network, indeg_distribution)\n",
    "for item in indeg_distribution:\n",
    "    indeg.append(item.GetVal1())\n",
    "    count.append(item.GetVal2())"
   ]
  },
  {
   "cell_type": "code",
   "execution_count": 8,
   "metadata": {},
   "outputs": [
    {
     "data": {
      "image/png": "[encoded data removed]",
      "text/plain": [
       "<Figure size 1296x720 with 1 Axes>"
      ]
     },
     "metadata": {},
     "output_type": "display_data"
    }
   ],
   "source": [
    "# indegree represents the number of incoming following relationships for each node: most of them have 1 as in-degree, \n",
    "# meaning that they are the following of 1 single user (leaves), other are shared across multiple users\n",
    "# 0 in-degree are some of the target users from which we started the collection (the seeds and the random users), that \n",
    "# do not appear in any following list\n",
    "\n",
    "plt.figure(figsize=(18,10))\n",
    "bars = plt.bar(indeg, count)\n",
    "plt.title('In-degree Distribution')\n",
    "plt.xticks(indeg)\n",
    "autolabel(bars)"
   ]
  },
  {
   "cell_type": "code",
   "execution_count": 9,
   "metadata": {},
   "outputs": [],
   "source": [
    "indeg = []\n",
    "indeg_distribution = snap.TIntPrV()\n",
    "snap.GetNodeInDegV(network, indeg_distribution)\n",
    "for item in indeg_distribution:\n",
    "    indeg.append(item.GetVal2())"
   ]
  },
  {
   "cell_type": "code",
   "execution_count": 10,
   "metadata": {},
   "outputs": [
    {
     "name": "stdout",
     "output_type": "stream",
     "text": [
      "Average In-degree distribution: 1.22694576219\n"
     ]
    }
   ],
   "source": [
    "print 'Average In-degree distribution: {}'.format(np.mean(indeg))"
   ]
  },
  {
   "cell_type": "code",
   "execution_count": 11,
   "metadata": {},
   "outputs": [],
   "source": [
    "# outdegree represents the dimension on following list for each user\n",
    "# outdegree == 0 are the leaves users, for which we do not have a following list\n",
    "# outdegree is extremely variated, as most users have a different number of followings\n",
    "outdeg = []\n",
    "count = []\n",
    "outdeg_distribution = snap.TIntPrV()\n",
    "snap.GetOutDegCnt(network, outdeg_distribution)\n",
    "for item in outdeg_distribution:\n",
    "    outdeg.append(item.GetVal1())\n",
    "    count.append(item.GetVal2())"
   ]
  },
  {
   "cell_type": "code",
   "execution_count": 12,
   "metadata": {},
   "outputs": [
    {
     "name": "stdout",
     "output_type": "stream",
     "text": [
      "Out-degrees: [0, 1, 2, 3, 4, 6, 8, 9, 10, 11, 13, 15, 16, 17, 18, 19, 20, 21, 22, 24, 26, 27, 31, 33, 34, 35, 36, 37, 41, 43, 50, 54, 63, 65, 70, 71, 74, 80, 81, 83, 85, 93, 96, 99, 101, 103, 108, 117, 120, 131, 136, 141, 147, 149, 150, 153, 157, 159, 160, 169, 173, 179, 184, 186, 191, 200, 206, 209, 210, 219, 222, 233, 238, 244, 249, 251, 274, 286, 288, 319, 325, 343, 345, 351, 372, 379, 400, 407, 421, 427, 429, 436, 455, 485, 496, 497, 508, 534, 585, 597, 666, 675, 685, 732, 754, 756, 778, 817, 861, 869, 886, 904, 971, 984, 1010, 1064, 1107, 1116, 1254, 1429, 1511, 1538, 1655, 2104, 2442, 2510, 2883, 3408, 3595, 3970, 5144, 6847, 11485]\n",
      "Frequency [70872, 8, 2, 2, 3, 4, 1, 2, 1, 3, 1, 2, 2, 1, 1, 2, 2, 3, 1, 2, 2, 1, 3, 1, 1, 2, 1, 1, 1, 2, 2, 1, 1, 1, 1, 1, 1, 1, 1, 1, 2, 1, 1, 1, 1, 1, 1, 1, 1, 1, 1, 1, 1, 1, 2, 2, 1, 1, 1, 1, 1, 1, 1, 1, 1, 1, 1, 1, 1, 1, 1, 1, 1, 1, 1, 1, 1, 1, 1, 1, 1, 1, 1, 1, 1, 1, 1, 1, 1, 1, 1, 1, 1, 1, 1, 1, 1, 1, 1, 1, 1, 1, 1, 2, 1, 1, 1, 1, 1, 1, 1, 1, 1, 1, 2, 1, 1, 1, 1, 1, 1, 1, 1, 1, 1, 1, 1, 1, 1, 1, 1, 1, 1]\n"
     ]
    }
   ],
   "source": [
    "print 'Out-degrees: {}'.format(outdeg)\n",
    "print 'Frequency {}'.format(count)"
   ]
  },
  {
   "cell_type": "code",
   "execution_count": 13,
   "metadata": {},
   "outputs": [
    {
     "name": "stdout",
     "output_type": "stream",
     "text": [
      "Clustering Coefficient: 0.016119\n"
     ]
    }
   ],
   "source": [
    "# clustering coefficient is a measure of the tendency of the graph to create tight connections\n",
    "# a triplet is three nodes that are connected by either two (open triplet) or three (closed triplet) undirected ties\n",
    "# the clustering coefficient is the ratio between the closed triplets and all the triplets\n",
    "\n",
    "print 'Clustering Coefficient: %f' % snap.GetClustCf (network, -1)"
   ]
  },
  {
   "cell_type": "code",
   "execution_count": 14,
   "metadata": {},
   "outputs": [
    {
     "name": "stdout",
     "output_type": "stream",
     "text": [
      "0 47807745\n",
      "36 225029801\n",
      "193 525277114\n",
      "610 459326572\n",
      "689 36913223\n",
      "693 536190247\n",
      "1309 244143740\n",
      "1393 325408922\n",
      "1515 1200492710\n",
      "1544 111332587\n",
      "1975 927243296\n",
      "1977 579993153\n",
      "2144 556136737\n",
      "2224 1217757193\n",
      "2237 462738676\n",
      "2263 1395095622\n",
      "2281 544969648\n",
      "2318 3012232089\n"
     ]
    }
   ],
   "source": [
    "# test the modularity of the community of seeds and its followings\n",
    "seeds = map(str, list(pd.read_csv('../data-seed/fashion/user.csv', sep='\\t')['id_user']))\n",
    "\n",
    "community_ids = snap.TIntV()\n",
    "for node in network.Nodes():\n",
    "    nid = node.GetId()\n",
    "    id_user = network.GetStrAttrDatN(nid, 'id')\n",
    "    \n",
    "    if id_user in seeds:\n",
    "        community_ids.Add(nid)\n",
    "        print nid, id_user\n",
    "        nodeIt = network.GetNI(nid)\n",
    "        for e in range(nodeIt.GetOutDeg()):\n",
    "            community_ids.Add(nodeIt.GetOutNId(e))\n",
    "community_ids.Merge()"
   ]
  },
  {
   "cell_type": "markdown",
   "metadata": {},
   "source": [
    "Compare metrics of the overall network with the community subnetwork"
   ]
  },
  {
   "cell_type": "code",
   "execution_count": 15,
   "metadata": {},
   "outputs": [],
   "source": [
    "comm_graph = snap.GetSubGraph(network, community_ids)"
   ]
  },
  {
   "cell_type": "code",
   "execution_count": 16,
   "metadata": {},
   "outputs": [
    {
     "name": "stdout",
     "output_type": "stream",
     "text": [
      "Nodes in the finance following subnetwork: 2331\n",
      "%nodes of the community with respect to the overall graph: 0.0328129618942\n",
      "Edges in the finance following subnetwork: 3156\n",
      "%nodes of the community with respect to the overall graph: 0.0362088548778\n"
     ]
    }
   ],
   "source": [
    "print \"Nodes in the finance following subnetwork: %d\" % comm_graph.GetNodes()\n",
    "print \"%nodes of the community with respect to the overall graph: {}\".format(float(comm_graph.GetNodes())/network.GetNodes())\n",
    "\n",
    "print \"Edges in the finance following subnetwork: %d\" % comm_graph.GetEdges()\n",
    "print \"%nodes of the community with respect to the overall graph: {}\".format(float(comm_graph.GetEdges())/network.GetEdges())"
   ]
  },
  {
   "cell_type": "code",
   "execution_count": 17,
   "metadata": {},
   "outputs": [],
   "source": [
    "# need to redefine the network as an undirected graphs\n",
    "modularity = snap.GetModularity(snap.GetUnDir(network), community_ids)"
   ]
  },
  {
   "cell_type": "code",
   "execution_count": 19,
   "metadata": {},
   "outputs": [
    {
     "name": "stdout",
     "output_type": "stream",
     "text": [
      "Modularity of fashion community: 0.0175803609908\n"
     ]
    }
   ],
   "source": [
    "print 'Modularity of fashion community: {}'.format(modularity)"
   ]
  },
  {
   "cell_type": "code",
   "execution_count": 20,
   "metadata": {},
   "outputs": [],
   "source": [
    "c_indeg = []\n",
    "c_indeg_distribution = snap.TIntPrV()\n",
    "snap.GetNodeInDegV(comm_graph, c_indeg_distribution)\n",
    "for item in c_indeg_distribution:\n",
    "    c_indeg.append(item.GetVal2())"
   ]
  },
  {
   "cell_type": "code",
   "execution_count": 21,
   "metadata": {},
   "outputs": [
    {
     "name": "stdout",
     "output_type": "stream",
     "text": [
      "Average In-degree of the community: 1.35392535393\n"
     ]
    }
   ],
   "source": [
    "print 'Average In-degree of the community: {}'.format(np.mean(c_indeg))"
   ]
  },
  {
   "cell_type": "code",
   "execution_count": 22,
   "metadata": {},
   "outputs": [
    {
     "name": "stdout",
     "output_type": "stream",
     "text": [
      "Clustering Coefficient: 0.012739\n"
     ]
    }
   ],
   "source": [
    "print 'Clustering Coefficient: %f' % snap.GetClustCf (comm_graph, -1)"
   ]
  },
  {
   "cell_type": "code",
   "execution_count": null,
   "metadata": {},
   "outputs": [],
   "source": []
  }
 ],
 "metadata": {
  "kernelspec": {
   "display_name": "Python 3",
   "language": "python",
   "name": "python3"
  },
  "language_info": {
   "codemirror_mode": {
    "name": "ipython",
    "version": 3
   },
   "file_extension": ".py",
   "mimetype": "text/x-python",
   "name": "python",
   "nbconvert_exporter": "python",
   "pygments_lexer": "ipython3",
   "version": "3.6.5"
  }
 },
 "nbformat": 4,
 "nbformat_minor": 2
}
